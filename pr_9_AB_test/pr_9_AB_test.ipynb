{
 "cells": [
  {
   "cell_type": "markdown",
   "metadata": {},
   "source": [
    "**pr_9_AB_test**"
   ]
  },
  {
   "cell_type": "markdown",
   "metadata": {},
   "source": [
    "A/B-test: prioritization of hypotheses for site development, interpretation of results."
   ]
  },
  {
   "cell_type": "markdown",
   "metadata": {},
   "source": [
    "# Проект: Принятие решений в бизнесе. A/B-тест"
   ]
  },
  {
   "cell_type": "markdown",
   "metadata": {},
   "source": [
    "С целью увеличения выручки интернет-магазина вместе с отделом маркетинга подготовлен список гипотез. <br>\n",
    "Выполним их приоритизацию. По результатам запустим A/B-тест и проанализируем результаты. "
   ]
  },
  {
   "cell_type": "markdown",
   "metadata": {},
   "source": [
    "Когда получим результаты A/B-теста, проверим их на непротиворечивость, полноту, отсутствие дубликатов, сделаем вывод о корректности организации сбора и выгрузки данных. \n",
    "\n",
    "Изучим метрики по группам A/B-теста с детализацией по дням:\n",
    "- Кумулятивная выручка;\n",
    "- Кумулятивный средний чек;\n",
    "- Относительное изменение кумулятивного среднего чека группы B к группе A;\n",
    "- Кумулятивное среднее количество заказов на посетителя;\n",
    "- Относительное изменение кумулятивного среднего количества заказов на посетителя группы B к группе A;\n",
    "- Распределение количества заказов на пользователя;\n",
    "- 95-й и 99-й перцентили количества заказов на пользователя;\n",
    "- Распределение стоимостей заказов;\n",
    "-  95-й и 99-й перцентили стоимостей заказов;"
   ]
  },
  {
   "cell_type": "markdown",
   "metadata": {},
   "source": [
    "Проверим наличие статистически значимых различий:\n",
    "- в среднем количестве заказов на посетителя между группами по «сырым» данным;\n",
    "- в среднем чеке заказа между группами по «сырым» данным;\n",
    "- в среднем количестве заказов на посетителя между группами по «очищенным» данным;\n",
    "- в среднем чеке заказа между группами по «очищенным» данным.\n",
    "\n",
    "По результатам исследования подготовим общий вывод с рекомендациями. "
   ]
  },
  {
   "cell_type": "markdown",
   "metadata": {},
   "source": [
    "## Приоритизация гипотез"
   ]
  },
  {
   "cell_type": "markdown",
   "metadata": {},
   "source": [
    "Загрузим данные о гипотезах."
   ]
  },
  {
   "cell_type": "code",
   "execution_count": 1,
   "metadata": {},
   "outputs": [],
   "source": [
    "import pandas as pd\n",
    "import numpy as np\n",
    "from matplotlib import pyplot as plt\n",
    "from scipy import stats\n",
    "import datetime as dt"
   ]
  },
  {
   "cell_type": "code",
   "execution_count": 2,
   "metadata": {},
   "outputs": [
    {
     "name": "stdout",
     "output_type": "stream",
     "text": [
      "\r\n",
      "\r\n",
      "\r\n"
     ]
    }
   ],
   "source": [
    "!head -n 3 /datasets/hypothesis.csv"
   ]
  },
  {
   "cell_type": "code",
   "execution_count": 3,
   "metadata": {},
   "outputs": [],
   "source": [
    "try:\n",
    "    gs = pd.read_csv('/datasets/hypothesis.csv', sep=',')\n",
    "    gs.columns = gs.columns.str.lower()\n",
    "except:\n",
    "    print('Файл не загружен. Проверьте путь к файлу.')"
   ]
  },
  {
   "cell_type": "markdown",
   "metadata": {},
   "source": [
    "Познакомимся с гипотезами. "
   ]
  },
  {
   "cell_type": "code",
   "execution_count": 4,
   "metadata": {},
   "outputs": [
    {
     "data": {
      "text/html": [
       "<div>\n",
       "<style scoped>\n",
       "    .dataframe tbody tr th:only-of-type {\n",
       "        vertical-align: middle;\n",
       "    }\n",
       "\n",
       "    .dataframe tbody tr th {\n",
       "        vertical-align: top;\n",
       "    }\n",
       "\n",
       "    .dataframe thead th {\n",
       "        text-align: right;\n",
       "    }\n",
       "</style>\n",
       "<table border=\"1\" class=\"dataframe\">\n",
       "  <thead>\n",
       "    <tr style=\"text-align: right;\">\n",
       "      <th></th>\n",
       "      <th>hypothesis</th>\n",
       "      <th>reach</th>\n",
       "      <th>impact</th>\n",
       "      <th>confidence</th>\n",
       "      <th>efforts</th>\n",
       "    </tr>\n",
       "  </thead>\n",
       "  <tbody>\n",
       "    <tr>\n",
       "      <th>0</th>\n",
       "      <td>Добавить два новых канала привлечения трафика, что позволит привлекать на 30% больше пользователей</td>\n",
       "      <td>3</td>\n",
       "      <td>10</td>\n",
       "      <td>8</td>\n",
       "      <td>6</td>\n",
       "    </tr>\n",
       "    <tr>\n",
       "      <th>1</th>\n",
       "      <td>Запустить собственную службу доставки, что сократит срок доставки заказов</td>\n",
       "      <td>2</td>\n",
       "      <td>5</td>\n",
       "      <td>4</td>\n",
       "      <td>10</td>\n",
       "    </tr>\n",
       "    <tr>\n",
       "      <th>2</th>\n",
       "      <td>Добавить блоки рекомендаций товаров на сайт интернет магазина, чтобы повысить конверсию и средний чек заказа</td>\n",
       "      <td>8</td>\n",
       "      <td>3</td>\n",
       "      <td>7</td>\n",
       "      <td>3</td>\n",
       "    </tr>\n",
       "    <tr>\n",
       "      <th>3</th>\n",
       "      <td>Изменить структура категорий, что увеличит конверсию, т.к. пользователи быстрее найдут нужный товар</td>\n",
       "      <td>8</td>\n",
       "      <td>3</td>\n",
       "      <td>3</td>\n",
       "      <td>8</td>\n",
       "    </tr>\n",
       "    <tr>\n",
       "      <th>4</th>\n",
       "      <td>Изменить цвет фона главной страницы, чтобы увеличить вовлеченность пользователей</td>\n",
       "      <td>3</td>\n",
       "      <td>1</td>\n",
       "      <td>1</td>\n",
       "      <td>1</td>\n",
       "    </tr>\n",
       "    <tr>\n",
       "      <th>5</th>\n",
       "      <td>Добавить страницу отзывов клиентов о магазине, что позволит увеличить количество заказов</td>\n",
       "      <td>3</td>\n",
       "      <td>2</td>\n",
       "      <td>2</td>\n",
       "      <td>3</td>\n",
       "    </tr>\n",
       "    <tr>\n",
       "      <th>6</th>\n",
       "      <td>Показать на главной странице баннеры с актуальными акциями и распродажами, чтобы увеличить конверсию</td>\n",
       "      <td>5</td>\n",
       "      <td>3</td>\n",
       "      <td>8</td>\n",
       "      <td>3</td>\n",
       "    </tr>\n",
       "    <tr>\n",
       "      <th>7</th>\n",
       "      <td>Добавить форму подписки на все основные страницы, чтобы собрать базу клиентов для email-рассылок</td>\n",
       "      <td>10</td>\n",
       "      <td>7</td>\n",
       "      <td>8</td>\n",
       "      <td>5</td>\n",
       "    </tr>\n",
       "    <tr>\n",
       "      <th>8</th>\n",
       "      <td>Запустить акцию, дающую скидку на товар в день рождения</td>\n",
       "      <td>1</td>\n",
       "      <td>9</td>\n",
       "      <td>9</td>\n",
       "      <td>5</td>\n",
       "    </tr>\n",
       "  </tbody>\n",
       "</table>\n",
       "</div>"
      ],
      "text/plain": [
       "                                                                                                     hypothesis  \\\n",
       "0            Добавить два новых канала привлечения трафика, что позволит привлекать на 30% больше пользователей   \n",
       "1                                     Запустить собственную службу доставки, что сократит срок доставки заказов   \n",
       "2  Добавить блоки рекомендаций товаров на сайт интернет магазина, чтобы повысить конверсию и средний чек заказа   \n",
       "3           Изменить структура категорий, что увеличит конверсию, т.к. пользователи быстрее найдут нужный товар   \n",
       "4                              Изменить цвет фона главной страницы, чтобы увеличить вовлеченность пользователей   \n",
       "5                      Добавить страницу отзывов клиентов о магазине, что позволит увеличить количество заказов   \n",
       "6          Показать на главной странице баннеры с актуальными акциями и распродажами, чтобы увеличить конверсию   \n",
       "7              Добавить форму подписки на все основные страницы, чтобы собрать базу клиентов для email-рассылок   \n",
       "8                                                       Запустить акцию, дающую скидку на товар в день рождения   \n",
       "\n",
       "   reach  impact  confidence  efforts  \n",
       "0      3      10           8        6  \n",
       "1      2       5           4       10  \n",
       "2      8       3           7        3  \n",
       "3      8       3           3        8  \n",
       "4      3       1           1        1  \n",
       "5      3       2           2        3  \n",
       "6      5       3           8        3  \n",
       "7     10       7           8        5  \n",
       "8      1       9           9        5  "
      ]
     },
     "metadata": {},
     "output_type": "display_data"
    }
   ],
   "source": [
    "with pd.option_context('display.max_colwidth', 500):\n",
    "    display(gs)"
   ]
  },
  {
   "cell_type": "markdown",
   "metadata": {},
   "source": [
    "### Описание данных"
   ]
  },
  {
   "cell_type": "markdown",
   "metadata": {},
   "source": [
    "- `hypothesis` — краткое описание гипотезы;\n",
    "- `reach` — охват пользователей по 10-балльной шкале;\n",
    "- `impact` — влияние на пользователей по 10-балльной шкале;\n",
    "- `confidence` — уверенность в гипотезе по 10-балльной шкале;\n",
    "- `efforts` — затраты ресурсов на проверку гипотезы по 10-балльной шкале. Чем больше значение Efforts, тем дороже проверка гипотезы."
   ]
  },
  {
   "cell_type": "markdown",
   "metadata": {},
   "source": [
    "Проверим типы данных в столбцах. "
   ]
  },
  {
   "cell_type": "code",
   "execution_count": 5,
   "metadata": {
    "scrolled": true
   },
   "outputs": [
    {
     "name": "stdout",
     "output_type": "stream",
     "text": [
      "<class 'pandas.core.frame.DataFrame'>\n",
      "RangeIndex: 9 entries, 0 to 8\n",
      "Data columns (total 5 columns):\n",
      " #   Column      Non-Null Count  Dtype \n",
      "---  ------      --------------  ----- \n",
      " 0   hypothesis  9 non-null      object\n",
      " 1   reach       9 non-null      int64 \n",
      " 2   impact      9 non-null      int64 \n",
      " 3   confidence  9 non-null      int64 \n",
      " 4   efforts     9 non-null      int64 \n",
      "dtypes: int64(4), object(1)\n",
      "memory usage: 488.0+ bytes\n"
     ]
    }
   ],
   "source": [
    "gs.info()"
   ]
  },
  {
   "cell_type": "markdown",
   "metadata": {},
   "source": [
    "Цифровые параметры имеют тип int. Преобразование типов данных, удаление дубликатов не требуется. \n",
    "\n",
    "В файле 9 гипотез по увеличению выручки интернет-магазина с указанными параметрами Reach, Impact, Confidence, Effort. <br> Применим фреймворки ICE и RICE для приоритизации гипотез. "
   ]
  },
  {
   "cell_type": "markdown",
   "metadata": {},
   "source": [
    "### Приоритизация гипотез через фреймворк ICE"
   ]
  },
  {
   "cell_type": "markdown",
   "metadata": {},
   "source": [
    "Рассчитаем оценку по фреймворку ICE."
   ]
  },
  {
   "cell_type": "code",
   "execution_count": 6,
   "metadata": {},
   "outputs": [],
   "source": [
    "gs['ice_score'] = gs.impact * gs.confidence / gs.efforts"
   ]
  },
  {
   "cell_type": "code",
   "execution_count": 7,
   "metadata": {},
   "outputs": [
    {
     "data": {
      "text/html": [
       "<style  type=\"text/css\" >\n",
       "</style><table id=\"T_d20ed_\" ><thead>    <tr>        <th class=\"blank level0\" ></th>        <th class=\"col_heading level0 col0\" >hypothesis</th>        <th class=\"col_heading level0 col1\" >reach</th>        <th class=\"col_heading level0 col2\" >impact</th>        <th class=\"col_heading level0 col3\" >confidence</th>        <th class=\"col_heading level0 col4\" >efforts</th>        <th class=\"col_heading level0 col5\" >ice_score</th>    </tr></thead><tbody>\n",
       "                <tr>\n",
       "                        <th id=\"T_d20ed_level0_row0\" class=\"row_heading level0 row0\" >8</th>\n",
       "                        <td id=\"T_d20ed_row0_col0\" class=\"data row0 col0\" >Запустить акцию, дающую скидку на товар в день рождения</td>\n",
       "                        <td id=\"T_d20ed_row0_col1\" class=\"data row0 col1\" >1</td>\n",
       "                        <td id=\"T_d20ed_row0_col2\" class=\"data row0 col2\" >9</td>\n",
       "                        <td id=\"T_d20ed_row0_col3\" class=\"data row0 col3\" >9</td>\n",
       "                        <td id=\"T_d20ed_row0_col4\" class=\"data row0 col4\" >5</td>\n",
       "                        <td id=\"T_d20ed_row0_col5\" class=\"data row0 col5\" >16.20</td>\n",
       "            </tr>\n",
       "            <tr>\n",
       "                        <th id=\"T_d20ed_level0_row1\" class=\"row_heading level0 row1\" >0</th>\n",
       "                        <td id=\"T_d20ed_row1_col0\" class=\"data row1 col0\" >Добавить два новых канала привлечения трафика, что позволит привлекать на 30% больше пользователей</td>\n",
       "                        <td id=\"T_d20ed_row1_col1\" class=\"data row1 col1\" >3</td>\n",
       "                        <td id=\"T_d20ed_row1_col2\" class=\"data row1 col2\" >10</td>\n",
       "                        <td id=\"T_d20ed_row1_col3\" class=\"data row1 col3\" >8</td>\n",
       "                        <td id=\"T_d20ed_row1_col4\" class=\"data row1 col4\" >6</td>\n",
       "                        <td id=\"T_d20ed_row1_col5\" class=\"data row1 col5\" >13.33</td>\n",
       "            </tr>\n",
       "            <tr>\n",
       "                        <th id=\"T_d20ed_level0_row2\" class=\"row_heading level0 row2\" >7</th>\n",
       "                        <td id=\"T_d20ed_row2_col0\" class=\"data row2 col0\" >Добавить форму подписки на все основные страницы, чтобы собрать базу клиентов для email-рассылок</td>\n",
       "                        <td id=\"T_d20ed_row2_col1\" class=\"data row2 col1\" >10</td>\n",
       "                        <td id=\"T_d20ed_row2_col2\" class=\"data row2 col2\" >7</td>\n",
       "                        <td id=\"T_d20ed_row2_col3\" class=\"data row2 col3\" >8</td>\n",
       "                        <td id=\"T_d20ed_row2_col4\" class=\"data row2 col4\" >5</td>\n",
       "                        <td id=\"T_d20ed_row2_col5\" class=\"data row2 col5\" >11.20</td>\n",
       "            </tr>\n",
       "            <tr>\n",
       "                        <th id=\"T_d20ed_level0_row3\" class=\"row_heading level0 row3\" >6</th>\n",
       "                        <td id=\"T_d20ed_row3_col0\" class=\"data row3 col0\" >Показать на главной странице баннеры с актуальными акциями и распродажами, чтобы увеличить конверсию</td>\n",
       "                        <td id=\"T_d20ed_row3_col1\" class=\"data row3 col1\" >5</td>\n",
       "                        <td id=\"T_d20ed_row3_col2\" class=\"data row3 col2\" >3</td>\n",
       "                        <td id=\"T_d20ed_row3_col3\" class=\"data row3 col3\" >8</td>\n",
       "                        <td id=\"T_d20ed_row3_col4\" class=\"data row3 col4\" >3</td>\n",
       "                        <td id=\"T_d20ed_row3_col5\" class=\"data row3 col5\" >8.00</td>\n",
       "            </tr>\n",
       "            <tr>\n",
       "                        <th id=\"T_d20ed_level0_row4\" class=\"row_heading level0 row4\" >2</th>\n",
       "                        <td id=\"T_d20ed_row4_col0\" class=\"data row4 col0\" >Добавить блоки рекомендаций товаров на сайт интернет магазина, чтобы повысить конверсию и средний чек заказа</td>\n",
       "                        <td id=\"T_d20ed_row4_col1\" class=\"data row4 col1\" >8</td>\n",
       "                        <td id=\"T_d20ed_row4_col2\" class=\"data row4 col2\" >3</td>\n",
       "                        <td id=\"T_d20ed_row4_col3\" class=\"data row4 col3\" >7</td>\n",
       "                        <td id=\"T_d20ed_row4_col4\" class=\"data row4 col4\" >3</td>\n",
       "                        <td id=\"T_d20ed_row4_col5\" class=\"data row4 col5\" >7.00</td>\n",
       "            </tr>\n",
       "            <tr>\n",
       "                        <th id=\"T_d20ed_level0_row5\" class=\"row_heading level0 row5\" >1</th>\n",
       "                        <td id=\"T_d20ed_row5_col0\" class=\"data row5 col0\" >Запустить собственную службу доставки, что сократит срок доставки заказов</td>\n",
       "                        <td id=\"T_d20ed_row5_col1\" class=\"data row5 col1\" >2</td>\n",
       "                        <td id=\"T_d20ed_row5_col2\" class=\"data row5 col2\" >5</td>\n",
       "                        <td id=\"T_d20ed_row5_col3\" class=\"data row5 col3\" >4</td>\n",
       "                        <td id=\"T_d20ed_row5_col4\" class=\"data row5 col4\" >10</td>\n",
       "                        <td id=\"T_d20ed_row5_col5\" class=\"data row5 col5\" >2.00</td>\n",
       "            </tr>\n",
       "            <tr>\n",
       "                        <th id=\"T_d20ed_level0_row6\" class=\"row_heading level0 row6\" >5</th>\n",
       "                        <td id=\"T_d20ed_row6_col0\" class=\"data row6 col0\" >Добавить страницу отзывов клиентов о магазине, что позволит увеличить количество заказов</td>\n",
       "                        <td id=\"T_d20ed_row6_col1\" class=\"data row6 col1\" >3</td>\n",
       "                        <td id=\"T_d20ed_row6_col2\" class=\"data row6 col2\" >2</td>\n",
       "                        <td id=\"T_d20ed_row6_col3\" class=\"data row6 col3\" >2</td>\n",
       "                        <td id=\"T_d20ed_row6_col4\" class=\"data row6 col4\" >3</td>\n",
       "                        <td id=\"T_d20ed_row6_col5\" class=\"data row6 col5\" >1.33</td>\n",
       "            </tr>\n",
       "            <tr>\n",
       "                        <th id=\"T_d20ed_level0_row7\" class=\"row_heading level0 row7\" >3</th>\n",
       "                        <td id=\"T_d20ed_row7_col0\" class=\"data row7 col0\" >Изменить структура категорий, что увеличит конверсию, т.к. пользователи быстрее найдут нужный товар</td>\n",
       "                        <td id=\"T_d20ed_row7_col1\" class=\"data row7 col1\" >8</td>\n",
       "                        <td id=\"T_d20ed_row7_col2\" class=\"data row7 col2\" >3</td>\n",
       "                        <td id=\"T_d20ed_row7_col3\" class=\"data row7 col3\" >3</td>\n",
       "                        <td id=\"T_d20ed_row7_col4\" class=\"data row7 col4\" >8</td>\n",
       "                        <td id=\"T_d20ed_row7_col5\" class=\"data row7 col5\" >1.12</td>\n",
       "            </tr>\n",
       "            <tr>\n",
       "                        <th id=\"T_d20ed_level0_row8\" class=\"row_heading level0 row8\" >4</th>\n",
       "                        <td id=\"T_d20ed_row8_col0\" class=\"data row8 col0\" >Изменить цвет фона главной страницы, чтобы увеличить вовлеченность пользователей</td>\n",
       "                        <td id=\"T_d20ed_row8_col1\" class=\"data row8 col1\" >3</td>\n",
       "                        <td id=\"T_d20ed_row8_col2\" class=\"data row8 col2\" >1</td>\n",
       "                        <td id=\"T_d20ed_row8_col3\" class=\"data row8 col3\" >1</td>\n",
       "                        <td id=\"T_d20ed_row8_col4\" class=\"data row8 col4\" >1</td>\n",
       "                        <td id=\"T_d20ed_row8_col5\" class=\"data row8 col5\" >1.00</td>\n",
       "            </tr>\n",
       "    </tbody></table>"
      ],
      "text/plain": [
       "<pandas.io.formats.style.Styler at 0x7f31fcf11cd0>"
      ]
     },
     "metadata": {},
     "output_type": "display_data"
    }
   ],
   "source": [
    "with pd.option_context('display.max_colwidth', 500):\n",
    "    display(\n",
    "        gs.sort_values(by='ice_score', ascending=False)\n",
    "        .style\n",
    "        .format({'ice_score': '{0:.2f}'})\n",
    "    )"
   ]
  },
  {
   "cell_type": "markdown",
   "metadata": {},
   "source": [
    "Три лидирующие гипотезы, выявленные с помощью фреймворка ICE: \n",
    "- Запустить акцию, дающую скидку на товар в день рождения - 16.2;\n",
    "- Добавить два новых канала привлечения трафика, что позволит привлекать на 30% больше пользователей - 13.33;\n",
    "- Добавить форму подписки на все основные страницы, чтобы собрать базу клиентов для email-рассылок - 11.2."
   ]
  },
  {
   "cell_type": "markdown",
   "metadata": {},
   "source": [
    "### Приоритизация гипотез через фреймворк RICE"
   ]
  },
  {
   "cell_type": "markdown",
   "metadata": {},
   "source": [
    "Рассчитаем оценку по фреймворку RICE."
   ]
  },
  {
   "cell_type": "code",
   "execution_count": 8,
   "metadata": {},
   "outputs": [],
   "source": [
    "gs['rice_score'] = gs.reach * gs.impact * gs.confidence / gs.efforts"
   ]
  },
  {
   "cell_type": "code",
   "execution_count": 9,
   "metadata": {},
   "outputs": [
    {
     "data": {
      "text/html": [
       "<style  type=\"text/css\" >\n",
       "</style><table id=\"T_70284_\" ><thead>    <tr>        <th class=\"blank level0\" ></th>        <th class=\"col_heading level0 col0\" >hypothesis</th>        <th class=\"col_heading level0 col1\" >reach</th>        <th class=\"col_heading level0 col2\" >impact</th>        <th class=\"col_heading level0 col3\" >confidence</th>        <th class=\"col_heading level0 col4\" >efforts</th>        <th class=\"col_heading level0 col5\" >ice_score</th>        <th class=\"col_heading level0 col6\" >rice_score</th>    </tr></thead><tbody>\n",
       "                <tr>\n",
       "                        <th id=\"T_70284_level0_row0\" class=\"row_heading level0 row0\" >7</th>\n",
       "                        <td id=\"T_70284_row0_col0\" class=\"data row0 col0\" >Добавить форму подписки на все основные страницы, чтобы собрать базу клиентов для email-рассылок</td>\n",
       "                        <td id=\"T_70284_row0_col1\" class=\"data row0 col1\" >10</td>\n",
       "                        <td id=\"T_70284_row0_col2\" class=\"data row0 col2\" >7</td>\n",
       "                        <td id=\"T_70284_row0_col3\" class=\"data row0 col3\" >8</td>\n",
       "                        <td id=\"T_70284_row0_col4\" class=\"data row0 col4\" >5</td>\n",
       "                        <td id=\"T_70284_row0_col5\" class=\"data row0 col5\" >11.20</td>\n",
       "                        <td id=\"T_70284_row0_col6\" class=\"data row0 col6\" >112.00</td>\n",
       "            </tr>\n",
       "            <tr>\n",
       "                        <th id=\"T_70284_level0_row1\" class=\"row_heading level0 row1\" >2</th>\n",
       "                        <td id=\"T_70284_row1_col0\" class=\"data row1 col0\" >Добавить блоки рекомендаций товаров на сайт интернет магазина, чтобы повысить конверсию и средний чек заказа</td>\n",
       "                        <td id=\"T_70284_row1_col1\" class=\"data row1 col1\" >8</td>\n",
       "                        <td id=\"T_70284_row1_col2\" class=\"data row1 col2\" >3</td>\n",
       "                        <td id=\"T_70284_row1_col3\" class=\"data row1 col3\" >7</td>\n",
       "                        <td id=\"T_70284_row1_col4\" class=\"data row1 col4\" >3</td>\n",
       "                        <td id=\"T_70284_row1_col5\" class=\"data row1 col5\" >7.00</td>\n",
       "                        <td id=\"T_70284_row1_col6\" class=\"data row1 col6\" >56.00</td>\n",
       "            </tr>\n",
       "            <tr>\n",
       "                        <th id=\"T_70284_level0_row2\" class=\"row_heading level0 row2\" >0</th>\n",
       "                        <td id=\"T_70284_row2_col0\" class=\"data row2 col0\" >Добавить два новых канала привлечения трафика, что позволит привлекать на 30% больше пользователей</td>\n",
       "                        <td id=\"T_70284_row2_col1\" class=\"data row2 col1\" >3</td>\n",
       "                        <td id=\"T_70284_row2_col2\" class=\"data row2 col2\" >10</td>\n",
       "                        <td id=\"T_70284_row2_col3\" class=\"data row2 col3\" >8</td>\n",
       "                        <td id=\"T_70284_row2_col4\" class=\"data row2 col4\" >6</td>\n",
       "                        <td id=\"T_70284_row2_col5\" class=\"data row2 col5\" >13.33</td>\n",
       "                        <td id=\"T_70284_row2_col6\" class=\"data row2 col6\" >40.00</td>\n",
       "            </tr>\n",
       "            <tr>\n",
       "                        <th id=\"T_70284_level0_row3\" class=\"row_heading level0 row3\" >6</th>\n",
       "                        <td id=\"T_70284_row3_col0\" class=\"data row3 col0\" >Показать на главной странице баннеры с актуальными акциями и распродажами, чтобы увеличить конверсию</td>\n",
       "                        <td id=\"T_70284_row3_col1\" class=\"data row3 col1\" >5</td>\n",
       "                        <td id=\"T_70284_row3_col2\" class=\"data row3 col2\" >3</td>\n",
       "                        <td id=\"T_70284_row3_col3\" class=\"data row3 col3\" >8</td>\n",
       "                        <td id=\"T_70284_row3_col4\" class=\"data row3 col4\" >3</td>\n",
       "                        <td id=\"T_70284_row3_col5\" class=\"data row3 col5\" >8.00</td>\n",
       "                        <td id=\"T_70284_row3_col6\" class=\"data row3 col6\" >40.00</td>\n",
       "            </tr>\n",
       "            <tr>\n",
       "                        <th id=\"T_70284_level0_row4\" class=\"row_heading level0 row4\" >8</th>\n",
       "                        <td id=\"T_70284_row4_col0\" class=\"data row4 col0\" >Запустить акцию, дающую скидку на товар в день рождения</td>\n",
       "                        <td id=\"T_70284_row4_col1\" class=\"data row4 col1\" >1</td>\n",
       "                        <td id=\"T_70284_row4_col2\" class=\"data row4 col2\" >9</td>\n",
       "                        <td id=\"T_70284_row4_col3\" class=\"data row4 col3\" >9</td>\n",
       "                        <td id=\"T_70284_row4_col4\" class=\"data row4 col4\" >5</td>\n",
       "                        <td id=\"T_70284_row4_col5\" class=\"data row4 col5\" >16.20</td>\n",
       "                        <td id=\"T_70284_row4_col6\" class=\"data row4 col6\" >16.20</td>\n",
       "            </tr>\n",
       "            <tr>\n",
       "                        <th id=\"T_70284_level0_row5\" class=\"row_heading level0 row5\" >3</th>\n",
       "                        <td id=\"T_70284_row5_col0\" class=\"data row5 col0\" >Изменить структура категорий, что увеличит конверсию, т.к. пользователи быстрее найдут нужный товар</td>\n",
       "                        <td id=\"T_70284_row5_col1\" class=\"data row5 col1\" >8</td>\n",
       "                        <td id=\"T_70284_row5_col2\" class=\"data row5 col2\" >3</td>\n",
       "                        <td id=\"T_70284_row5_col3\" class=\"data row5 col3\" >3</td>\n",
       "                        <td id=\"T_70284_row5_col4\" class=\"data row5 col4\" >8</td>\n",
       "                        <td id=\"T_70284_row5_col5\" class=\"data row5 col5\" >1.12</td>\n",
       "                        <td id=\"T_70284_row5_col6\" class=\"data row5 col6\" >9.00</td>\n",
       "            </tr>\n",
       "            <tr>\n",
       "                        <th id=\"T_70284_level0_row6\" class=\"row_heading level0 row6\" >1</th>\n",
       "                        <td id=\"T_70284_row6_col0\" class=\"data row6 col0\" >Запустить собственную службу доставки, что сократит срок доставки заказов</td>\n",
       "                        <td id=\"T_70284_row6_col1\" class=\"data row6 col1\" >2</td>\n",
       "                        <td id=\"T_70284_row6_col2\" class=\"data row6 col2\" >5</td>\n",
       "                        <td id=\"T_70284_row6_col3\" class=\"data row6 col3\" >4</td>\n",
       "                        <td id=\"T_70284_row6_col4\" class=\"data row6 col4\" >10</td>\n",
       "                        <td id=\"T_70284_row6_col5\" class=\"data row6 col5\" >2.00</td>\n",
       "                        <td id=\"T_70284_row6_col6\" class=\"data row6 col6\" >4.00</td>\n",
       "            </tr>\n",
       "            <tr>\n",
       "                        <th id=\"T_70284_level0_row7\" class=\"row_heading level0 row7\" >5</th>\n",
       "                        <td id=\"T_70284_row7_col0\" class=\"data row7 col0\" >Добавить страницу отзывов клиентов о магазине, что позволит увеличить количество заказов</td>\n",
       "                        <td id=\"T_70284_row7_col1\" class=\"data row7 col1\" >3</td>\n",
       "                        <td id=\"T_70284_row7_col2\" class=\"data row7 col2\" >2</td>\n",
       "                        <td id=\"T_70284_row7_col3\" class=\"data row7 col3\" >2</td>\n",
       "                        <td id=\"T_70284_row7_col4\" class=\"data row7 col4\" >3</td>\n",
       "                        <td id=\"T_70284_row7_col5\" class=\"data row7 col5\" >1.33</td>\n",
       "                        <td id=\"T_70284_row7_col6\" class=\"data row7 col6\" >4.00</td>\n",
       "            </tr>\n",
       "            <tr>\n",
       "                        <th id=\"T_70284_level0_row8\" class=\"row_heading level0 row8\" >4</th>\n",
       "                        <td id=\"T_70284_row8_col0\" class=\"data row8 col0\" >Изменить цвет фона главной страницы, чтобы увеличить вовлеченность пользователей</td>\n",
       "                        <td id=\"T_70284_row8_col1\" class=\"data row8 col1\" >3</td>\n",
       "                        <td id=\"T_70284_row8_col2\" class=\"data row8 col2\" >1</td>\n",
       "                        <td id=\"T_70284_row8_col3\" class=\"data row8 col3\" >1</td>\n",
       "                        <td id=\"T_70284_row8_col4\" class=\"data row8 col4\" >1</td>\n",
       "                        <td id=\"T_70284_row8_col5\" class=\"data row8 col5\" >1.00</td>\n",
       "                        <td id=\"T_70284_row8_col6\" class=\"data row8 col6\" >3.00</td>\n",
       "            </tr>\n",
       "    </tbody></table>"
      ],
      "text/plain": [
       "<pandas.io.formats.style.Styler at 0x7f31fcdc7df0>"
      ]
     },
     "metadata": {},
     "output_type": "display_data"
    }
   ],
   "source": [
    "with pd.option_context('display.max_colwidth', 500):\n",
    "    display(\n",
    "        gs.sort_values(by='rice_score', ascending=False)\n",
    "        .style\n",
    "        .format({'ice_score': '{0:.2f}'})\n",
    "        .format({'rice_score': '{0:.2f}'})\n",
    "    )"
   ]
  },
  {
   "cell_type": "markdown",
   "metadata": {},
   "source": [
    "Три лидирующие гипотезы, выявленные с помощью фреймворка RICE:\n",
    "- Добавить форму подписки на все основные страницы, чтобы собрать базу клиентов для email-рассылок - 112;\n",
    "- Добавить блоки рекомендаций товаров на сайт интернет-магазина, чтобы повысить конверсию и средний чек заказа - 56;\n",
    "- Добавить два новых канала привлечения трафика, что позволит привлекать на 30% больше пользователей - 40."
   ]
  },
  {
   "cell_type": "markdown",
   "metadata": {},
   "source": [
    "## Вывод. Приоритизация гипотез"
   ]
  },
  {
   "cell_type": "markdown",
   "metadata": {},
   "source": [
    "При применении фреймворка RICE гипотеза \"Добавить форму подписки на все основные страницы, чтобы собрать базу клиентов для email-рассылок\" с третьего места (оценка ice 11.2) поднялась до первого с оценкой rice 112.\n",
    "\n",
    "Тройку лидеров покинули гипотезы: \n",
    "- Запустить акцию, дающую скидку на товар в день рождения (ice 16.2, rice 16.2);\n",
    "- Добавить два новых канала привлечения трафика, что позволит привлекать на 30% больше пользователей (ice 13.33, rice ).\n",
    "\n",
    "В тройку лидеров добавились две новых гипотезы:\n",
    "- Добавить блоки рекомендаций товаров на сайт интернет-магазина, чтобы повысить конверсию и средний чек заказа (ice 7, rice 56);\n",
    "- Добавить два новых канала привлечения трафика, что позволит привлекать на 30% больше пользователей (ice 13.3, rice 40).\n",
    "\n",
    "Причина изменения — добавление множителя Reach — охват пользователей. Гипотезы, затрагивающие малое количество пользователей, получают пониженный рейтинг. \n",
    "\n",
    "Добавление каналов продвижения ведет к изменению бюджета отдела маркетинга, поэтому не является первоочередной для проверки. \n",
    "\n",
    "В первую очередь проверим гипотезу **\"Добавить форму подписки на все основные страницы, чтобы собрать базу клиентов для email-рассылок\".** "
   ]
  },
  {
   "cell_type": "markdown",
   "metadata": {},
   "source": [
    "## Анализ A/B-теста "
   ]
  },
  {
   "cell_type": "markdown",
   "metadata": {},
   "source": [
    "Мы провели A/B-тест и получили результаты. Получим данные A/B-теста."
   ]
  },
  {
   "cell_type": "markdown",
   "metadata": {},
   "source": [
    "### Получим данные"
   ]
  },
  {
   "cell_type": "markdown",
   "metadata": {},
   "source": [
    "#### Информация о заказах"
   ]
  },
  {
   "cell_type": "markdown",
   "metadata": {},
   "source": [
    "Получим данные из файла. "
   ]
  },
  {
   "cell_type": "code",
   "execution_count": 10,
   "metadata": {},
   "outputs": [
    {
     "name": "stdout",
     "output_type": "stream",
     "text": [
      "\r\n",
      "\r\n",
      "\r\n"
     ]
    }
   ],
   "source": [
    "!head -n 3 /datasets/orders.csv"
   ]
  },
  {
   "cell_type": "code",
   "execution_count": 11,
   "metadata": {},
   "outputs": [],
   "source": [
    "try:\n",
    "    orders = pd.read_csv('/datasets/orders.csv', sep=',', header=0, parse_dates=['date'],\n",
    "                         names=['transaction_id', 'visitor_id', 'date', 'revenue' , 'group'])\n",
    "except:\n",
    "    print('Файл не получен. Проверьте путь до файла.')"
   ]
  },
  {
   "cell_type": "markdown",
   "metadata": {},
   "source": [
    "Выведем начало файла."
   ]
  },
  {
   "cell_type": "code",
   "execution_count": 12,
   "metadata": {},
   "outputs": [
    {
     "data": {
      "text/html": [
       "<div>\n",
       "<style scoped>\n",
       "    .dataframe tbody tr th:only-of-type {\n",
       "        vertical-align: middle;\n",
       "    }\n",
       "\n",
       "    .dataframe tbody tr th {\n",
       "        vertical-align: top;\n",
       "    }\n",
       "\n",
       "    .dataframe thead th {\n",
       "        text-align: right;\n",
       "    }\n",
       "</style>\n",
       "<table border=\"1\" class=\"dataframe\">\n",
       "  <thead>\n",
       "    <tr style=\"text-align: right;\">\n",
       "      <th></th>\n",
       "      <th>transaction_id</th>\n",
       "      <th>visitor_id</th>\n",
       "      <th>date</th>\n",
       "      <th>revenue</th>\n",
       "      <th>group</th>\n",
       "    </tr>\n",
       "  </thead>\n",
       "  <tbody>\n",
       "    <tr>\n",
       "      <th>0</th>\n",
       "      <td>3667963787</td>\n",
       "      <td>3312258926</td>\n",
       "      <td>2019-08-15</td>\n",
       "      <td>1650</td>\n",
       "      <td>B</td>\n",
       "    </tr>\n",
       "    <tr>\n",
       "      <th>1</th>\n",
       "      <td>2804400009</td>\n",
       "      <td>3642806036</td>\n",
       "      <td>2019-08-15</td>\n",
       "      <td>730</td>\n",
       "      <td>B</td>\n",
       "    </tr>\n",
       "    <tr>\n",
       "      <th>2</th>\n",
       "      <td>2961555356</td>\n",
       "      <td>4069496402</td>\n",
       "      <td>2019-08-15</td>\n",
       "      <td>400</td>\n",
       "      <td>A</td>\n",
       "    </tr>\n",
       "    <tr>\n",
       "      <th>3</th>\n",
       "      <td>3797467345</td>\n",
       "      <td>1196621759</td>\n",
       "      <td>2019-08-15</td>\n",
       "      <td>9759</td>\n",
       "      <td>B</td>\n",
       "    </tr>\n",
       "    <tr>\n",
       "      <th>4</th>\n",
       "      <td>2282983706</td>\n",
       "      <td>2322279887</td>\n",
       "      <td>2019-08-15</td>\n",
       "      <td>2308</td>\n",
       "      <td>B</td>\n",
       "    </tr>\n",
       "  </tbody>\n",
       "</table>\n",
       "</div>"
      ],
      "text/plain": [
       "   transaction_id  visitor_id       date  revenue group\n",
       "0      3667963787  3312258926 2019-08-15     1650     B\n",
       "1      2804400009  3642806036 2019-08-15      730     B\n",
       "2      2961555356  4069496402 2019-08-15      400     A\n",
       "3      3797467345  1196621759 2019-08-15     9759     B\n",
       "4      2282983706  2322279887 2019-08-15     2308     B"
      ]
     },
     "execution_count": 12,
     "metadata": {},
     "output_type": "execute_result"
    }
   ],
   "source": [
    "orders.head()"
   ]
  },
  {
   "cell_type": "markdown",
   "metadata": {},
   "source": [
    "**Описание данных о заказах:**\n",
    "- `transaction_id` — идентификатор заказа;\n",
    "- `visitor_id` — идентификатор пользователя, совершившего заказ;\n",
    "- `date` — дата, когда был совершён заказ;\n",
    "- `revenue` — выручка заказа;\n",
    "- `group` — группа A/B-теста, в которую попал заказ."
   ]
  },
  {
   "cell_type": "code",
   "execution_count": 13,
   "metadata": {},
   "outputs": [
    {
     "name": "stdout",
     "output_type": "stream",
     "text": [
      "<class 'pandas.core.frame.DataFrame'>\n",
      "RangeIndex: 1197 entries, 0 to 1196\n",
      "Data columns (total 5 columns):\n",
      " #   Column          Non-Null Count  Dtype         \n",
      "---  ------          --------------  -----         \n",
      " 0   transaction_id  1197 non-null   int64         \n",
      " 1   visitor_id      1197 non-null   int64         \n",
      " 2   date            1197 non-null   datetime64[ns]\n",
      " 3   revenue         1197 non-null   int64         \n",
      " 4   group           1197 non-null   object        \n",
      "dtypes: datetime64[ns](1), int64(3), object(1)\n",
      "memory usage: 46.9+ KB\n"
     ]
    }
   ],
   "source": [
    "orders.info()"
   ]
  },
  {
   "cell_type": "markdown",
   "metadata": {},
   "source": [
    "#### Информация о посетителях"
   ]
  },
  {
   "cell_type": "markdown",
   "metadata": {},
   "source": [
    "Получим данные из файла. "
   ]
  },
  {
   "cell_type": "code",
   "execution_count": 14,
   "metadata": {},
   "outputs": [
    {
     "name": "stdout",
     "output_type": "stream",
     "text": [
      "\r\n",
      "\r\n",
      "\r\n"
     ]
    }
   ],
   "source": [
    "!head -n 3 /datasets/visitors.csv"
   ]
  },
  {
   "cell_type": "code",
   "execution_count": 15,
   "metadata": {},
   "outputs": [],
   "source": [
    "try:\n",
    "    visitors = pd.read_csv('/datasets/visitors.csv', sep=',', parse_dates=['date'])\n",
    "except:\n",
    "    print('Файл не получен. Проверьте путь до файла.')"
   ]
  },
  {
   "cell_type": "markdown",
   "metadata": {},
   "source": [
    "Выведем начало файла."
   ]
  },
  {
   "cell_type": "code",
   "execution_count": 16,
   "metadata": {},
   "outputs": [
    {
     "data": {
      "text/html": [
       "<div>\n",
       "<style scoped>\n",
       "    .dataframe tbody tr th:only-of-type {\n",
       "        vertical-align: middle;\n",
       "    }\n",
       "\n",
       "    .dataframe tbody tr th {\n",
       "        vertical-align: top;\n",
       "    }\n",
       "\n",
       "    .dataframe thead th {\n",
       "        text-align: right;\n",
       "    }\n",
       "</style>\n",
       "<table border=\"1\" class=\"dataframe\">\n",
       "  <thead>\n",
       "    <tr style=\"text-align: right;\">\n",
       "      <th></th>\n",
       "      <th>date</th>\n",
       "      <th>group</th>\n",
       "      <th>visitors</th>\n",
       "    </tr>\n",
       "  </thead>\n",
       "  <tbody>\n",
       "    <tr>\n",
       "      <th>0</th>\n",
       "      <td>2019-08-01</td>\n",
       "      <td>A</td>\n",
       "      <td>719</td>\n",
       "    </tr>\n",
       "    <tr>\n",
       "      <th>1</th>\n",
       "      <td>2019-08-02</td>\n",
       "      <td>A</td>\n",
       "      <td>619</td>\n",
       "    </tr>\n",
       "    <tr>\n",
       "      <th>2</th>\n",
       "      <td>2019-08-03</td>\n",
       "      <td>A</td>\n",
       "      <td>507</td>\n",
       "    </tr>\n",
       "  </tbody>\n",
       "</table>\n",
       "</div>"
      ],
      "text/plain": [
       "        date group  visitors\n",
       "0 2019-08-01     A       719\n",
       "1 2019-08-02     A       619\n",
       "2 2019-08-03     A       507"
      ]
     },
     "execution_count": 16,
     "metadata": {},
     "output_type": "execute_result"
    }
   ],
   "source": [
    "visitors.head(3)"
   ]
  },
  {
   "cell_type": "markdown",
   "metadata": {},
   "source": [
    "**Описание данных о посетителях:**\n",
    "- `date` — дата;\n",
    "- `group` — группа A/B-теста;\n",
    "- `visitors` — количество пользователей в указанную дату в указанной группе A/B-теста."
   ]
  },
  {
   "cell_type": "code",
   "execution_count": 17,
   "metadata": {},
   "outputs": [
    {
     "name": "stdout",
     "output_type": "stream",
     "text": [
      "<class 'pandas.core.frame.DataFrame'>\n",
      "RangeIndex: 62 entries, 0 to 61\n",
      "Data columns (total 3 columns):\n",
      " #   Column    Non-Null Count  Dtype         \n",
      "---  ------    --------------  -----         \n",
      " 0   date      62 non-null     datetime64[ns]\n",
      " 1   group     62 non-null     object        \n",
      " 2   visitors  62 non-null     int64         \n",
      "dtypes: datetime64[ns](1), int64(1), object(1)\n",
      "memory usage: 1.6+ KB\n"
     ]
    }
   ],
   "source": [
    "visitors.info()"
   ]
  },
  {
   "cell_type": "markdown",
   "metadata": {},
   "source": [
    "**Проверим данные на наличие пропусков.**"
   ]
  },
  {
   "cell_type": "code",
   "execution_count": 18,
   "metadata": {},
   "outputs": [
    {
     "data": {
      "text/plain": [
       "transaction_id    0\n",
       "visitor_id        0\n",
       "date              0\n",
       "revenue           0\n",
       "group             0\n",
       "dtype: int64"
      ]
     },
     "execution_count": 18,
     "metadata": {},
     "output_type": "execute_result"
    }
   ],
   "source": [
    "orders.isna().sum()"
   ]
  },
  {
   "cell_type": "code",
   "execution_count": 19,
   "metadata": {},
   "outputs": [
    {
     "data": {
      "text/plain": [
       "date        0\n",
       "group       0\n",
       "visitors    0\n",
       "dtype: int64"
      ]
     },
     "execution_count": 19,
     "metadata": {},
     "output_type": "execute_result"
    }
   ],
   "source": [
    "visitors.isna().sum()"
   ]
  },
  {
   "cell_type": "markdown",
   "metadata": {},
   "source": [
    "В данных отсутствуют пропуски."
   ]
  },
  {
   "cell_type": "markdown",
   "metadata": {},
   "source": [
    "### Подготовка данных"
   ]
  },
  {
   "cell_type": "markdown",
   "metadata": {},
   "source": [
    "#### Наличие дубликатов"
   ]
  },
  {
   "cell_type": "markdown",
   "metadata": {},
   "source": [
    "Проверим данные на наличие дубликатов."
   ]
  },
  {
   "cell_type": "code",
   "execution_count": 20,
   "metadata": {},
   "outputs": [
    {
     "data": {
      "text/plain": [
       "0"
      ]
     },
     "execution_count": 20,
     "metadata": {},
     "output_type": "execute_result"
    }
   ],
   "source": [
    "orders.duplicated().sum()"
   ]
  },
  {
   "cell_type": "code",
   "execution_count": 21,
   "metadata": {},
   "outputs": [
    {
     "data": {
      "text/plain": [
       "0"
      ]
     },
     "execution_count": 21,
     "metadata": {},
     "output_type": "execute_result"
    }
   ],
   "source": [
    "visitors.duplicated().sum()"
   ]
  },
  {
   "cell_type": "markdown",
   "metadata": {},
   "source": [
    "В данных отсутствуют дубликаты. "
   ]
  },
  {
   "cell_type": "markdown",
   "metadata": {},
   "source": [
    "#### Минимальные и максимальные даты"
   ]
  },
  {
   "cell_type": "markdown",
   "metadata": {},
   "source": [
    "Проверим данные на минимальные и максимальные даты."
   ]
  },
  {
   "cell_type": "code",
   "execution_count": 22,
   "metadata": {},
   "outputs": [
    {
     "name": "stdout",
     "output_type": "stream",
     "text": [
      "orders. Минимальная дата: 2019-08-01 00:00:00 Максимальная дата 2019-08-31 00:00:00\n"
     ]
    }
   ],
   "source": [
    "print('orders. Минимальная дата:', orders['date'].min(), 'Максимальная дата', orders['date'].max())"
   ]
  },
  {
   "cell_type": "code",
   "execution_count": 23,
   "metadata": {},
   "outputs": [
    {
     "name": "stdout",
     "output_type": "stream",
     "text": [
      "visitors. Минимальная дата: 2019-08-01 00:00:00 Максимальная дата 2019-08-31 00:00:00\n"
     ]
    }
   ],
   "source": [
    "print('visitors. Минимальная дата:', visitors['date'].min(), 'Максимальная дата', visitors['date'].max())"
   ]
  },
  {
   "cell_type": "markdown",
   "metadata": {},
   "source": [
    "Для анализа предоставлены данные с 1 по 31 августа 2019 года. "
   ]
  },
  {
   "cell_type": "markdown",
   "metadata": {},
   "source": [
    "#### Дублирование посетителей в группах"
   ]
  },
  {
   "cell_type": "markdown",
   "metadata": {},
   "source": [
    "Проверим отсутствие вхождений одних и тех же посетителей в разные группы A/B-теста.\n",
    "\n",
    "Для этого подготовим выборки заказов по группам A/B-теста. "
   ]
  },
  {
   "cell_type": "markdown",
   "metadata": {},
   "source": [
    "Заказы группы A."
   ]
  },
  {
   "cell_type": "code",
   "execution_count": 24,
   "metadata": {},
   "outputs": [
    {
     "data": {
      "text/html": [
       "<div>\n",
       "<style scoped>\n",
       "    .dataframe tbody tr th:only-of-type {\n",
       "        vertical-align: middle;\n",
       "    }\n",
       "\n",
       "    .dataframe tbody tr th {\n",
       "        vertical-align: top;\n",
       "    }\n",
       "\n",
       "    .dataframe thead th {\n",
       "        text-align: right;\n",
       "    }\n",
       "</style>\n",
       "<table border=\"1\" class=\"dataframe\">\n",
       "  <thead>\n",
       "    <tr style=\"text-align: right;\">\n",
       "      <th></th>\n",
       "      <th>transaction_id</th>\n",
       "      <th>visitor_id</th>\n",
       "      <th>date</th>\n",
       "      <th>revenue</th>\n",
       "      <th>group</th>\n",
       "    </tr>\n",
       "  </thead>\n",
       "  <tbody>\n",
       "    <tr>\n",
       "      <th>2</th>\n",
       "      <td>2961555356</td>\n",
       "      <td>4069496402</td>\n",
       "      <td>2019-08-15</td>\n",
       "      <td>400</td>\n",
       "      <td>A</td>\n",
       "    </tr>\n",
       "    <tr>\n",
       "      <th>7</th>\n",
       "      <td>2626614568</td>\n",
       "      <td>78758296</td>\n",
       "      <td>2019-08-15</td>\n",
       "      <td>1044</td>\n",
       "      <td>A</td>\n",
       "    </tr>\n",
       "  </tbody>\n",
       "</table>\n",
       "</div>"
      ],
      "text/plain": [
       "   transaction_id  visitor_id       date  revenue group\n",
       "2      2961555356  4069496402 2019-08-15      400     A\n",
       "7      2626614568    78758296 2019-08-15     1044     A"
      ]
     },
     "execution_count": 24,
     "metadata": {},
     "output_type": "execute_result"
    }
   ],
   "source": [
    "orders_a = orders[orders['group'] == 'A']\n",
    "orders_a.head(2)"
   ]
  },
  {
   "cell_type": "markdown",
   "metadata": {},
   "source": [
    "Заказы группы B."
   ]
  },
  {
   "cell_type": "code",
   "execution_count": 25,
   "metadata": {},
   "outputs": [
    {
     "data": {
      "text/html": [
       "<div>\n",
       "<style scoped>\n",
       "    .dataframe tbody tr th:only-of-type {\n",
       "        vertical-align: middle;\n",
       "    }\n",
       "\n",
       "    .dataframe tbody tr th {\n",
       "        vertical-align: top;\n",
       "    }\n",
       "\n",
       "    .dataframe thead th {\n",
       "        text-align: right;\n",
       "    }\n",
       "</style>\n",
       "<table border=\"1\" class=\"dataframe\">\n",
       "  <thead>\n",
       "    <tr style=\"text-align: right;\">\n",
       "      <th></th>\n",
       "      <th>transaction_id</th>\n",
       "      <th>visitor_id</th>\n",
       "      <th>date</th>\n",
       "      <th>revenue</th>\n",
       "      <th>group</th>\n",
       "    </tr>\n",
       "  </thead>\n",
       "  <tbody>\n",
       "    <tr>\n",
       "      <th>0</th>\n",
       "      <td>3667963787</td>\n",
       "      <td>3312258926</td>\n",
       "      <td>2019-08-15</td>\n",
       "      <td>1650</td>\n",
       "      <td>B</td>\n",
       "    </tr>\n",
       "    <tr>\n",
       "      <th>1</th>\n",
       "      <td>2804400009</td>\n",
       "      <td>3642806036</td>\n",
       "      <td>2019-08-15</td>\n",
       "      <td>730</td>\n",
       "      <td>B</td>\n",
       "    </tr>\n",
       "  </tbody>\n",
       "</table>\n",
       "</div>"
      ],
      "text/plain": [
       "   transaction_id  visitor_id       date  revenue group\n",
       "0      3667963787  3312258926 2019-08-15     1650     B\n",
       "1      2804400009  3642806036 2019-08-15      730     B"
      ]
     },
     "execution_count": 25,
     "metadata": {},
     "output_type": "execute_result"
    }
   ],
   "source": [
    "orders_b = orders[orders['group'] == 'B']\n",
    "orders_b.head(2)"
   ]
  },
  {
   "cell_type": "markdown",
   "metadata": {},
   "source": [
    "Проверим пересечения заказов между группами теста по идентификатору посетителя. "
   ]
  },
  {
   "cell_type": "code",
   "execution_count": 26,
   "metadata": {},
   "outputs": [
    {
     "data": {
      "text/html": [
       "<div>\n",
       "<style scoped>\n",
       "    .dataframe tbody tr th:only-of-type {\n",
       "        vertical-align: middle;\n",
       "    }\n",
       "\n",
       "    .dataframe tbody tr th {\n",
       "        vertical-align: top;\n",
       "    }\n",
       "\n",
       "    .dataframe thead th {\n",
       "        text-align: right;\n",
       "    }\n",
       "</style>\n",
       "<table border=\"1\" class=\"dataframe\">\n",
       "  <thead>\n",
       "    <tr style=\"text-align: right;\">\n",
       "      <th></th>\n",
       "      <th>transaction_id_a</th>\n",
       "      <th>visitor_id</th>\n",
       "      <th>date_a</th>\n",
       "      <th>revenue_a</th>\n",
       "      <th>group_a</th>\n",
       "      <th>transaction_id_b</th>\n",
       "      <th>date_b</th>\n",
       "      <th>revenue_b</th>\n",
       "      <th>group_b</th>\n",
       "    </tr>\n",
       "  </thead>\n",
       "  <tbody>\n",
       "    <tr>\n",
       "      <th>0</th>\n",
       "      <td>2961555356</td>\n",
       "      <td>4069496402</td>\n",
       "      <td>2019-08-15</td>\n",
       "      <td>400</td>\n",
       "      <td>A</td>\n",
       "      <td>1473132782</td>\n",
       "      <td>2019-08-12</td>\n",
       "      <td>640</td>\n",
       "      <td>B</td>\n",
       "    </tr>\n",
       "    <tr>\n",
       "      <th>1</th>\n",
       "      <td>2223239646</td>\n",
       "      <td>199603092</td>\n",
       "      <td>2019-08-15</td>\n",
       "      <td>3488</td>\n",
       "      <td>A</td>\n",
       "      <td>437656952</td>\n",
       "      <td>2019-08-02</td>\n",
       "      <td>3488</td>\n",
       "      <td>B</td>\n",
       "    </tr>\n",
       "    <tr>\n",
       "      <th>2</th>\n",
       "      <td>62794304</td>\n",
       "      <td>199603092</td>\n",
       "      <td>2019-08-22</td>\n",
       "      <td>6976</td>\n",
       "      <td>A</td>\n",
       "      <td>437656952</td>\n",
       "      <td>2019-08-02</td>\n",
       "      <td>3488</td>\n",
       "      <td>B</td>\n",
       "    </tr>\n",
       "    <tr>\n",
       "      <th>3</th>\n",
       "      <td>2971973105</td>\n",
       "      <td>199603092</td>\n",
       "      <td>2019-08-27</td>\n",
       "      <td>2790</td>\n",
       "      <td>A</td>\n",
       "      <td>437656952</td>\n",
       "      <td>2019-08-02</td>\n",
       "      <td>3488</td>\n",
       "      <td>B</td>\n",
       "    </tr>\n",
       "    <tr>\n",
       "      <th>4</th>\n",
       "      <td>1941707234</td>\n",
       "      <td>199603092</td>\n",
       "      <td>2019-08-12</td>\n",
       "      <td>6438</td>\n",
       "      <td>A</td>\n",
       "      <td>437656952</td>\n",
       "      <td>2019-08-02</td>\n",
       "      <td>3488</td>\n",
       "      <td>B</td>\n",
       "    </tr>\n",
       "    <tr>\n",
       "      <th>...</th>\n",
       "      <td>...</td>\n",
       "      <td>...</td>\n",
       "      <td>...</td>\n",
       "      <td>...</td>\n",
       "      <td>...</td>\n",
       "      <td>...</td>\n",
       "      <td>...</td>\n",
       "      <td>...</td>\n",
       "      <td>...</td>\n",
       "    </tr>\n",
       "    <tr>\n",
       "      <th>178</th>\n",
       "      <td>3757656646</td>\n",
       "      <td>4186807279</td>\n",
       "      <td>2019-08-14</td>\n",
       "      <td>4990</td>\n",
       "      <td>A</td>\n",
       "      <td>1759418862</td>\n",
       "      <td>2019-08-21</td>\n",
       "      <td>18560</td>\n",
       "      <td>B</td>\n",
       "    </tr>\n",
       "    <tr>\n",
       "      <th>179</th>\n",
       "      <td>3757656646</td>\n",
       "      <td>4186807279</td>\n",
       "      <td>2019-08-14</td>\n",
       "      <td>4990</td>\n",
       "      <td>A</td>\n",
       "      <td>380064637</td>\n",
       "      <td>2019-08-27</td>\n",
       "      <td>13740</td>\n",
       "      <td>B</td>\n",
       "    </tr>\n",
       "    <tr>\n",
       "      <th>180</th>\n",
       "      <td>3612788481</td>\n",
       "      <td>2712142231</td>\n",
       "      <td>2019-08-14</td>\n",
       "      <td>2490</td>\n",
       "      <td>A</td>\n",
       "      <td>1251767592</td>\n",
       "      <td>2019-08-16</td>\n",
       "      <td>790</td>\n",
       "      <td>B</td>\n",
       "    </tr>\n",
       "    <tr>\n",
       "      <th>181</th>\n",
       "      <td>4052155355</td>\n",
       "      <td>2949041841</td>\n",
       "      <td>2019-08-14</td>\n",
       "      <td>190</td>\n",
       "      <td>A</td>\n",
       "      <td>1329499668</td>\n",
       "      <td>2019-08-14</td>\n",
       "      <td>10380</td>\n",
       "      <td>B</td>\n",
       "    </tr>\n",
       "    <tr>\n",
       "      <th>182</th>\n",
       "      <td>1458356232</td>\n",
       "      <td>963407295</td>\n",
       "      <td>2019-08-14</td>\n",
       "      <td>4940</td>\n",
       "      <td>A</td>\n",
       "      <td>2904772834</td>\n",
       "      <td>2019-08-15</td>\n",
       "      <td>300</td>\n",
       "      <td>B</td>\n",
       "    </tr>\n",
       "  </tbody>\n",
       "</table>\n",
       "<p>183 rows × 9 columns</p>\n",
       "</div>"
      ],
      "text/plain": [
       "     transaction_id_a  visitor_id     date_a  revenue_a group_a  \\\n",
       "0          2961555356  4069496402 2019-08-15        400       A   \n",
       "1          2223239646   199603092 2019-08-15       3488       A   \n",
       "2            62794304   199603092 2019-08-22       6976       A   \n",
       "3          2971973105   199603092 2019-08-27       2790       A   \n",
       "4          1941707234   199603092 2019-08-12       6438       A   \n",
       "..                ...         ...        ...        ...     ...   \n",
       "178        3757656646  4186807279 2019-08-14       4990       A   \n",
       "179        3757656646  4186807279 2019-08-14       4990       A   \n",
       "180        3612788481  2712142231 2019-08-14       2490       A   \n",
       "181        4052155355  2949041841 2019-08-14        190       A   \n",
       "182        1458356232   963407295 2019-08-14       4940       A   \n",
       "\n",
       "     transaction_id_b     date_b  revenue_b group_b  \n",
       "0          1473132782 2019-08-12        640       B  \n",
       "1           437656952 2019-08-02       3488       B  \n",
       "2           437656952 2019-08-02       3488       B  \n",
       "3           437656952 2019-08-02       3488       B  \n",
       "4           437656952 2019-08-02       3488       B  \n",
       "..                ...        ...        ...     ...  \n",
       "178        1759418862 2019-08-21      18560       B  \n",
       "179         380064637 2019-08-27      13740       B  \n",
       "180        1251767592 2019-08-16        790       B  \n",
       "181        1329499668 2019-08-14      10380       B  \n",
       "182        2904772834 2019-08-15        300       B  \n",
       "\n",
       "[183 rows x 9 columns]"
      ]
     },
     "execution_count": 26,
     "metadata": {},
     "output_type": "execute_result"
    }
   ],
   "source": [
    "overlapping_orders = orders_a.merge(orders_b, on='visitor_id', how='inner', suffixes=('_a', '_b'))\n",
    "overlapping_orders"
   ]
  },
  {
   "cell_type": "markdown",
   "metadata": {},
   "source": [
    "Всего 183 пересечения заказов посетителей в обеих группах А/В-теста. \n",
    "\n",
    "Сохраним перечень проблемных посетителей."
   ]
  },
  {
   "cell_type": "code",
   "execution_count": 27,
   "metadata": {},
   "outputs": [
    {
     "data": {
      "text/plain": [
       "array([4069496402,  199603092, 3803269165, 2378935119,  237748145,\n",
       "       4256040402, 2038680547, 1738359350, 2458001652, 3891541246,\n",
       "       2716752286, 3656415546, 2686716486, 2954449915, 2927087541,\n",
       "       3234906277,  457167155, 2579882178, 3957174400, 1648269707,\n",
       "       2780786433,  818047933, 2044997962, 1959144690, 3202540741,\n",
       "       1333886533,  351125977, 3951559397,  393266494, 3984495233,\n",
       "       4120364173, 4266935830, 1230306981, 1294878855, 1614305549,\n",
       "          8300375,  477780734, 1668030113, 3717692402, 3766097110,\n",
       "       3941795274,  471551937, 1316129916, 1801183820, 1602967004,\n",
       "       2587333274, 2600415354,  232979603, 3972127743, 1404934699,\n",
       "        276558944, 3062433592, 2654030115, 3963646447, 4186807279,\n",
       "       2712142231, 2949041841,  963407295])"
      ]
     },
     "execution_count": 27,
     "metadata": {},
     "output_type": "execute_result"
    }
   ],
   "source": [
    "conflicting_visitors = overlapping_orders['visitor_id'].unique()\n",
    "conflicting_visitors"
   ]
  },
  {
   "cell_type": "markdown",
   "metadata": {},
   "source": [
    "Посчитаем количество проблемных посетителей."
   ]
  },
  {
   "cell_type": "code",
   "execution_count": 28,
   "metadata": {},
   "outputs": [
    {
     "data": {
      "text/plain": [
       "58"
      ]
     },
     "execution_count": 28,
     "metadata": {},
     "output_type": "execute_result"
    }
   ],
   "source": [
    "len(conflicting_visitors)"
   ]
  },
  {
   "cell_type": "markdown",
   "metadata": {},
   "source": [
    "Их доля от общего числа посетителей."
   ]
  },
  {
   "cell_type": "code",
   "execution_count": 29,
   "metadata": {},
   "outputs": [
    {
     "name": "stdout",
     "output_type": "stream",
     "text": [
      "5.6%\n"
     ]
    }
   ],
   "source": [
    "print('{0:.1%}'.format(len(conflicting_visitors) / orders['visitor_id'].nunique()))"
   ]
  },
  {
   "cell_type": "markdown",
   "metadata": {},
   "source": [
    "Посмотрим на заказы проблемных посетителей. "
   ]
  },
  {
   "cell_type": "code",
   "execution_count": 30,
   "metadata": {},
   "outputs": [
    {
     "data": {
      "text/html": [
       "<div>\n",
       "<style scoped>\n",
       "    .dataframe tbody tr th:only-of-type {\n",
       "        vertical-align: middle;\n",
       "    }\n",
       "\n",
       "    .dataframe tbody tr th {\n",
       "        vertical-align: top;\n",
       "    }\n",
       "\n",
       "    .dataframe thead th {\n",
       "        text-align: right;\n",
       "    }\n",
       "</style>\n",
       "<table border=\"1\" class=\"dataframe\">\n",
       "  <thead>\n",
       "    <tr style=\"text-align: right;\">\n",
       "      <th></th>\n",
       "      <th>transaction_id</th>\n",
       "      <th>visitor_id</th>\n",
       "      <th>date</th>\n",
       "      <th>revenue</th>\n",
       "      <th>group</th>\n",
       "    </tr>\n",
       "  </thead>\n",
       "  <tbody>\n",
       "    <tr>\n",
       "      <th>71</th>\n",
       "      <td>3679129301</td>\n",
       "      <td>8300375</td>\n",
       "      <td>2019-08-01</td>\n",
       "      <td>10510</td>\n",
       "      <td>B</td>\n",
       "    </tr>\n",
       "    <tr>\n",
       "      <th>703</th>\n",
       "      <td>4293855558</td>\n",
       "      <td>8300375</td>\n",
       "      <td>2019-08-07</td>\n",
       "      <td>1790</td>\n",
       "      <td>A</td>\n",
       "    </tr>\n",
       "    <tr>\n",
       "      <th>246</th>\n",
       "      <td>437656952</td>\n",
       "      <td>199603092</td>\n",
       "      <td>2019-08-02</td>\n",
       "      <td>3488</td>\n",
       "      <td>B</td>\n",
       "    </tr>\n",
       "    <tr>\n",
       "      <th>1102</th>\n",
       "      <td>1941707234</td>\n",
       "      <td>199603092</td>\n",
       "      <td>2019-08-12</td>\n",
       "      <td>6438</td>\n",
       "      <td>A</td>\n",
       "    </tr>\n",
       "    <tr>\n",
       "      <th>26</th>\n",
       "      <td>2223239646</td>\n",
       "      <td>199603092</td>\n",
       "      <td>2019-08-15</td>\n",
       "      <td>3488</td>\n",
       "      <td>A</td>\n",
       "    </tr>\n",
       "    <tr>\n",
       "      <th>...</th>\n",
       "      <td>...</td>\n",
       "      <td>...</td>\n",
       "      <td>...</td>\n",
       "      <td>...</td>\n",
       "      <td>...</td>\n",
       "    </tr>\n",
       "    <tr>\n",
       "      <th>901</th>\n",
       "      <td>3402467119</td>\n",
       "      <td>4256040402</td>\n",
       "      <td>2019-08-27</td>\n",
       "      <td>1630</td>\n",
       "      <td>A</td>\n",
       "    </tr>\n",
       "    <tr>\n",
       "      <th>1018</th>\n",
       "      <td>1415970216</td>\n",
       "      <td>4256040402</td>\n",
       "      <td>2019-08-31</td>\n",
       "      <td>5170</td>\n",
       "      <td>A</td>\n",
       "    </tr>\n",
       "    <tr>\n",
       "      <th>1019</th>\n",
       "      <td>453824282</td>\n",
       "      <td>4256040402</td>\n",
       "      <td>2019-08-31</td>\n",
       "      <td>1850</td>\n",
       "      <td>B</td>\n",
       "    </tr>\n",
       "    <tr>\n",
       "      <th>662</th>\n",
       "      <td>1811671147</td>\n",
       "      <td>4266935830</td>\n",
       "      <td>2019-08-29</td>\n",
       "      <td>78990</td>\n",
       "      <td>A</td>\n",
       "    </tr>\n",
       "    <tr>\n",
       "      <th>682</th>\n",
       "      <td>1216533772</td>\n",
       "      <td>4266935830</td>\n",
       "      <td>2019-08-29</td>\n",
       "      <td>78990</td>\n",
       "      <td>B</td>\n",
       "    </tr>\n",
       "  </tbody>\n",
       "</table>\n",
       "<p>181 rows × 5 columns</p>\n",
       "</div>"
      ],
      "text/plain": [
       "      transaction_id  visitor_id       date  revenue group\n",
       "71        3679129301     8300375 2019-08-01    10510     B\n",
       "703       4293855558     8300375 2019-08-07     1790     A\n",
       "246        437656952   199603092 2019-08-02     3488     B\n",
       "1102      1941707234   199603092 2019-08-12     6438     A\n",
       "26        2223239646   199603092 2019-08-15     3488     A\n",
       "...              ...         ...        ...      ...   ...\n",
       "901       3402467119  4256040402 2019-08-27     1630     A\n",
       "1018      1415970216  4256040402 2019-08-31     5170     A\n",
       "1019       453824282  4256040402 2019-08-31     1850     B\n",
       "662       1811671147  4266935830 2019-08-29    78990     A\n",
       "682       1216533772  4266935830 2019-08-29    78990     B\n",
       "\n",
       "[181 rows x 5 columns]"
      ]
     },
     "execution_count": 30,
     "metadata": {},
     "output_type": "execute_result"
    }
   ],
   "source": [
    "conflicting_orders = orders[orders['visitor_id'].isin(conflicting_visitors)].sort_values(by=['visitor_id', 'date'])\n",
    "conflicting_orders"
   ]
  },
  {
   "cell_type": "markdown",
   "metadata": {},
   "source": [
    "Видим, что у части посетителей ранее созданы заказы для группы B, у других, наоборот, для группы А. <br>У посетителя с id 4266935830 заказ с одинаковой суммой присутствует в обеих группах. "
   ]
  },
  {
   "cell_type": "markdown",
   "metadata": {},
   "source": [
    "Посчитаем долю заказов проблемных посетителей от общего числа заказов. "
   ]
  },
  {
   "cell_type": "code",
   "execution_count": 31,
   "metadata": {},
   "outputs": [
    {
     "name": "stdout",
     "output_type": "stream",
     "text": [
      "Доля проблемных заказов от общего числа:  15.1% \n",
      "Доля выручки проблемных заказов от общего числа:  15.6%\n"
     ]
    }
   ],
   "source": [
    "print('Доля проблемных заказов от общего числа: ', \n",
    "      '{0:.1%}'.format(conflicting_orders['transaction_id'].count() / orders['transaction_id'].count()),\n",
    "      '\\nДоля выручки проблемных заказов от общего числа: ', \n",
    "      '{0:.1%}'.format(conflicting_orders['revenue'].sum() / orders['revenue'].sum())\n",
    ")"
   ]
  },
  {
   "cell_type": "markdown",
   "metadata": {},
   "source": [
    "Посетители относятся к группе А или В по дате первого посещения, а не по дате размещения первого заказа. В представленных данных отсутствует информация, позволяющая достоверно разрешить коллизии \"группа А/В-теста - идентификатор посетителя\". Поэтому все заказы конфликтных посетителей удаляем. "
   ]
  },
  {
   "cell_type": "code",
   "execution_count": 32,
   "metadata": {},
   "outputs": [
    {
     "name": "stdout",
     "output_type": "stream",
     "text": [
      "Количество заказов до удаления информации о конфликтующих посетителях:  1197\n",
      "Количество заказов после удаления информации о конфликтующих посетителях:  1016\n"
     ]
    }
   ],
   "source": [
    "print('Количество заказов до удаления информации о конфликтующих посетителях: ', orders.shape[0])\n",
    "orders = orders[~orders['visitor_id'].isin(conflicting_visitors)]\n",
    "print('Количество заказов после удаления информации о конфликтующих посетителях: ', orders.shape[0])"
   ]
  },
  {
   "cell_type": "markdown",
   "metadata": {},
   "source": [
    "Заказы проблемных посетителей удалены. "
   ]
  },
  {
   "cell_type": "markdown",
   "metadata": {},
   "source": [
    "**Проверим распределение посещений по группам A/B-теста.**"
   ]
  },
  {
   "cell_type": "code",
   "execution_count": 33,
   "metadata": {},
   "outputs": [
    {
     "data": {
      "text/html": [
       "<div>\n",
       "<style scoped>\n",
       "    .dataframe tbody tr th:only-of-type {\n",
       "        vertical-align: middle;\n",
       "    }\n",
       "\n",
       "    .dataframe tbody tr th {\n",
       "        vertical-align: top;\n",
       "    }\n",
       "\n",
       "    .dataframe thead th {\n",
       "        text-align: right;\n",
       "    }\n",
       "</style>\n",
       "<table border=\"1\" class=\"dataframe\">\n",
       "  <thead>\n",
       "    <tr style=\"text-align: right;\">\n",
       "      <th></th>\n",
       "      <th>visitors</th>\n",
       "      <th>diff</th>\n",
       "      <th>ratio</th>\n",
       "    </tr>\n",
       "    <tr>\n",
       "      <th>group</th>\n",
       "      <th></th>\n",
       "      <th></th>\n",
       "      <th></th>\n",
       "    </tr>\n",
       "  </thead>\n",
       "  <tbody>\n",
       "    <tr>\n",
       "      <th>A</th>\n",
       "      <td>18736</td>\n",
       "      <td>NaN</td>\n",
       "      <td>49.8</td>\n",
       "    </tr>\n",
       "    <tr>\n",
       "      <th>B</th>\n",
       "      <td>18916</td>\n",
       "      <td>180.0</td>\n",
       "      <td>50.2</td>\n",
       "    </tr>\n",
       "  </tbody>\n",
       "</table>\n",
       "</div>"
      ],
      "text/plain": [
       "       visitors   diff  ratio\n",
       "group                        \n",
       "A         18736    NaN   49.8\n",
       "B         18916  180.0   50.2"
      ]
     },
     "execution_count": 33,
     "metadata": {},
     "output_type": "execute_result"
    }
   ],
   "source": [
    "result = visitors.groupby('group').agg({'visitors': 'sum'}, as_index=False)\n",
    "result['diff'] = result['visitors'].diff()\n",
    "result['ratio'] = round((result['visitors'] / result['visitors'].sum()) * 100, 1)\n",
    "result"
   ]
  },
  {
   "cell_type": "markdown",
   "metadata": {},
   "source": [
    "Распределение посетителей по группам равномерное. Отличие составляет 0.2% или 180 посещений. "
   ]
  },
  {
   "cell_type": "markdown",
   "metadata": {},
   "source": [
    "### Вывод. Подготовка данных"
   ]
  },
  {
   "cell_type": "markdown",
   "metadata": {},
   "source": [
    "Для анализа предоставлены данные A/B-теста за период с 1 до 31 августа 2019 года. В данных отсутствуют дубликаты и пропуски. \n",
    "\n",
    "В данных допущена неточность в отношении присвоения группы А/В-теста 58 посетителям. Их заказы составляли 15.1% от общего числа заказов и 15.6% от общей выручки. Заказы данных посетителей из выборки удалили, так как в данных нет информации о первом визите посетителя, а значит, восстановить корректное назначение группе А/В-теста мы не можем.  \n",
    "\n",
    "Можем приступать к анализу результатов."
   ]
  },
  {
   "cell_type": "markdown",
   "metadata": {},
   "source": [
    "### Исследовательский анализ данных"
   ]
  },
  {
   "cell_type": "markdown",
   "metadata": {},
   "source": [
    "#### Кумулятивные данные"
   ]
  },
  {
   "cell_type": "markdown",
   "metadata": {},
   "source": [
    "Вычислим кумулятивные результаты теста. "
   ]
  },
  {
   "cell_type": "markdown",
   "metadata": {},
   "source": [
    "Создадим массив уникальных пар значений дат и групп теста."
   ]
  },
  {
   "cell_type": "code",
   "execution_count": 34,
   "metadata": {},
   "outputs": [
    {
     "data": {
      "text/html": [
       "<div>\n",
       "<style scoped>\n",
       "    .dataframe tbody tr th:only-of-type {\n",
       "        vertical-align: middle;\n",
       "    }\n",
       "\n",
       "    .dataframe tbody tr th {\n",
       "        vertical-align: top;\n",
       "    }\n",
       "\n",
       "    .dataframe thead th {\n",
       "        text-align: right;\n",
       "    }\n",
       "</style>\n",
       "<table border=\"1\" class=\"dataframe\">\n",
       "  <thead>\n",
       "    <tr style=\"text-align: right;\">\n",
       "      <th></th>\n",
       "      <th>date</th>\n",
       "      <th>group</th>\n",
       "    </tr>\n",
       "  </thead>\n",
       "  <tbody>\n",
       "    <tr>\n",
       "      <th>55</th>\n",
       "      <td>2019-08-01</td>\n",
       "      <td>A</td>\n",
       "    </tr>\n",
       "    <tr>\n",
       "      <th>66</th>\n",
       "      <td>2019-08-01</td>\n",
       "      <td>B</td>\n",
       "    </tr>\n",
       "    <tr>\n",
       "      <th>175</th>\n",
       "      <td>2019-08-02</td>\n",
       "      <td>A</td>\n",
       "    </tr>\n",
       "    <tr>\n",
       "      <th>173</th>\n",
       "      <td>2019-08-02</td>\n",
       "      <td>B</td>\n",
       "    </tr>\n",
       "    <tr>\n",
       "      <th>383</th>\n",
       "      <td>2019-08-03</td>\n",
       "      <td>B</td>\n",
       "    </tr>\n",
       "    <tr>\n",
       "      <th>...</th>\n",
       "      <td>...</td>\n",
       "      <td>...</td>\n",
       "    </tr>\n",
       "    <tr>\n",
       "      <th>533</th>\n",
       "      <td>2019-08-29</td>\n",
       "      <td>B</td>\n",
       "    </tr>\n",
       "    <tr>\n",
       "      <th>757</th>\n",
       "      <td>2019-08-30</td>\n",
       "      <td>A</td>\n",
       "    </tr>\n",
       "    <tr>\n",
       "      <th>690</th>\n",
       "      <td>2019-08-30</td>\n",
       "      <td>B</td>\n",
       "    </tr>\n",
       "    <tr>\n",
       "      <th>930</th>\n",
       "      <td>2019-08-31</td>\n",
       "      <td>B</td>\n",
       "    </tr>\n",
       "    <tr>\n",
       "      <th>958</th>\n",
       "      <td>2019-08-31</td>\n",
       "      <td>A</td>\n",
       "    </tr>\n",
       "  </tbody>\n",
       "</table>\n",
       "<p>62 rows × 2 columns</p>\n",
       "</div>"
      ],
      "text/plain": [
       "          date group\n",
       "55  2019-08-01     A\n",
       "66  2019-08-01     B\n",
       "175 2019-08-02     A\n",
       "173 2019-08-02     B\n",
       "383 2019-08-03     B\n",
       "..         ...   ...\n",
       "533 2019-08-29     B\n",
       "757 2019-08-30     A\n",
       "690 2019-08-30     B\n",
       "930 2019-08-31     B\n",
       "958 2019-08-31     A\n",
       "\n",
       "[62 rows x 2 columns]"
      ]
     },
     "execution_count": 34,
     "metadata": {},
     "output_type": "execute_result"
    }
   ],
   "source": [
    "dates_groups = orders[['date', 'group']].drop_duplicates().sort_values(by='date')\n",
    "dates_groups"
   ]
  },
  {
   "cell_type": "markdown",
   "metadata": {},
   "source": [
    "Посчитаем агрегированные по дням кумулятивные данные о заказах. "
   ]
  },
  {
   "cell_type": "code",
   "execution_count": 35,
   "metadata": {},
   "outputs": [
    {
     "data": {
      "text/html": [
       "<div>\n",
       "<style scoped>\n",
       "    .dataframe tbody tr th:only-of-type {\n",
       "        vertical-align: middle;\n",
       "    }\n",
       "\n",
       "    .dataframe tbody tr th {\n",
       "        vertical-align: top;\n",
       "    }\n",
       "\n",
       "    .dataframe thead th {\n",
       "        text-align: right;\n",
       "    }\n",
       "</style>\n",
       "<table border=\"1\" class=\"dataframe\">\n",
       "  <thead>\n",
       "    <tr style=\"text-align: right;\">\n",
       "      <th></th>\n",
       "      <th>date</th>\n",
       "      <th>group</th>\n",
       "      <th>transaction_id</th>\n",
       "      <th>visitor_id</th>\n",
       "      <th>revenue</th>\n",
       "    </tr>\n",
       "  </thead>\n",
       "  <tbody>\n",
       "    <tr>\n",
       "      <th>55</th>\n",
       "      <td>2019-08-01</td>\n",
       "      <td>A</td>\n",
       "      <td>23</td>\n",
       "      <td>19</td>\n",
       "      <td>142779</td>\n",
       "    </tr>\n",
       "    <tr>\n",
       "      <th>66</th>\n",
       "      <td>2019-08-01</td>\n",
       "      <td>B</td>\n",
       "      <td>17</td>\n",
       "      <td>17</td>\n",
       "      <td>59758</td>\n",
       "    </tr>\n",
       "    <tr>\n",
       "      <th>175</th>\n",
       "      <td>2019-08-02</td>\n",
       "      <td>A</td>\n",
       "      <td>42</td>\n",
       "      <td>36</td>\n",
       "      <td>234381</td>\n",
       "    </tr>\n",
       "    <tr>\n",
       "      <th>173</th>\n",
       "      <td>2019-08-02</td>\n",
       "      <td>B</td>\n",
       "      <td>40</td>\n",
       "      <td>39</td>\n",
       "      <td>221801</td>\n",
       "    </tr>\n",
       "    <tr>\n",
       "      <th>291</th>\n",
       "      <td>2019-08-03</td>\n",
       "      <td>A</td>\n",
       "      <td>66</td>\n",
       "      <td>60</td>\n",
       "      <td>346854</td>\n",
       "    </tr>\n",
       "    <tr>\n",
       "      <th>...</th>\n",
       "      <td>...</td>\n",
       "      <td>...</td>\n",
       "      <td>...</td>\n",
       "      <td>...</td>\n",
       "      <td>...</td>\n",
       "    </tr>\n",
       "    <tr>\n",
       "      <th>533</th>\n",
       "      <td>2019-08-29</td>\n",
       "      <td>B</td>\n",
       "      <td>510</td>\n",
       "      <td>490</td>\n",
       "      <td>4746610</td>\n",
       "    </tr>\n",
       "    <tr>\n",
       "      <th>757</th>\n",
       "      <td>2019-08-30</td>\n",
       "      <td>A</td>\n",
       "      <td>460</td>\n",
       "      <td>437</td>\n",
       "      <td>3311413</td>\n",
       "    </tr>\n",
       "    <tr>\n",
       "      <th>690</th>\n",
       "      <td>2019-08-30</td>\n",
       "      <td>B</td>\n",
       "      <td>531</td>\n",
       "      <td>511</td>\n",
       "      <td>4955833</td>\n",
       "    </tr>\n",
       "    <tr>\n",
       "      <th>958</th>\n",
       "      <td>2019-08-31</td>\n",
       "      <td>A</td>\n",
       "      <td>468</td>\n",
       "      <td>445</td>\n",
       "      <td>3364656</td>\n",
       "    </tr>\n",
       "    <tr>\n",
       "      <th>930</th>\n",
       "      <td>2019-08-31</td>\n",
       "      <td>B</td>\n",
       "      <td>548</td>\n",
       "      <td>528</td>\n",
       "      <td>5068972</td>\n",
       "    </tr>\n",
       "  </tbody>\n",
       "</table>\n",
       "<p>62 rows × 5 columns</p>\n",
       "</div>"
      ],
      "text/plain": [
       "          date group  transaction_id  visitor_id  revenue\n",
       "55  2019-08-01     A              23          19   142779\n",
       "66  2019-08-01     B              17          17    59758\n",
       "175 2019-08-02     A              42          36   234381\n",
       "173 2019-08-02     B              40          39   221801\n",
       "291 2019-08-03     A              66          60   346854\n",
       "..         ...   ...             ...         ...      ...\n",
       "533 2019-08-29     B             510         490  4746610\n",
       "757 2019-08-30     A             460         437  3311413\n",
       "690 2019-08-30     B             531         511  4955833\n",
       "958 2019-08-31     A             468         445  3364656\n",
       "930 2019-08-31     B             548         528  5068972\n",
       "\n",
       "[62 rows x 5 columns]"
      ]
     },
     "execution_count": 35,
     "metadata": {},
     "output_type": "execute_result"
    }
   ],
   "source": [
    "orders_aggregated = []\n",
    "orders_aggregated = (\n",
    "    dates_groups\n",
    "    .apply(\n",
    "        lambda x: \n",
    "            orders[\n",
    "                    np.logical_and(\n",
    "                        orders.date <= x.date,\n",
    "                        orders.group == x.group\n",
    "                    )\n",
    "            ]\n",
    "            .agg(\n",
    "                {\n",
    "                    'date': 'max',\n",
    "                    'group': 'max',\n",
    "                    'transaction_id': 'nunique',\n",
    "                    'visitor_id': 'nunique',\n",
    "                    'revenue': 'sum'\n",
    "                }\n",
    "            ), \n",
    "        axis=1\n",
    "    )\n",
    "    .sort_values(by=['date', 'group'])\n",
    ")   \n",
    "orders_aggregated"
   ]
  },
  {
   "cell_type": "markdown",
   "metadata": {},
   "source": [
    "Посчитаем агрегированные по дням кумулятивные данные о пользователях."
   ]
  },
  {
   "cell_type": "code",
   "execution_count": 36,
   "metadata": {},
   "outputs": [
    {
     "data": {
      "text/html": [
       "<div>\n",
       "<style scoped>\n",
       "    .dataframe tbody tr th:only-of-type {\n",
       "        vertical-align: middle;\n",
       "    }\n",
       "\n",
       "    .dataframe tbody tr th {\n",
       "        vertical-align: top;\n",
       "    }\n",
       "\n",
       "    .dataframe thead th {\n",
       "        text-align: right;\n",
       "    }\n",
       "</style>\n",
       "<table border=\"1\" class=\"dataframe\">\n",
       "  <thead>\n",
       "    <tr style=\"text-align: right;\">\n",
       "      <th></th>\n",
       "      <th>date</th>\n",
       "      <th>group</th>\n",
       "      <th>visitors</th>\n",
       "    </tr>\n",
       "  </thead>\n",
       "  <tbody>\n",
       "    <tr>\n",
       "      <th>55</th>\n",
       "      <td>2019-08-01</td>\n",
       "      <td>A</td>\n",
       "      <td>719</td>\n",
       "    </tr>\n",
       "    <tr>\n",
       "      <th>66</th>\n",
       "      <td>2019-08-01</td>\n",
       "      <td>B</td>\n",
       "      <td>713</td>\n",
       "    </tr>\n",
       "    <tr>\n",
       "      <th>175</th>\n",
       "      <td>2019-08-02</td>\n",
       "      <td>A</td>\n",
       "      <td>1338</td>\n",
       "    </tr>\n",
       "    <tr>\n",
       "      <th>173</th>\n",
       "      <td>2019-08-02</td>\n",
       "      <td>B</td>\n",
       "      <td>1294</td>\n",
       "    </tr>\n",
       "    <tr>\n",
       "      <th>291</th>\n",
       "      <td>2019-08-03</td>\n",
       "      <td>A</td>\n",
       "      <td>1845</td>\n",
       "    </tr>\n",
       "    <tr>\n",
       "      <th>...</th>\n",
       "      <td>...</td>\n",
       "      <td>...</td>\n",
       "      <td>...</td>\n",
       "    </tr>\n",
       "    <tr>\n",
       "      <th>533</th>\n",
       "      <td>2019-08-29</td>\n",
       "      <td>B</td>\n",
       "      <td>17708</td>\n",
       "    </tr>\n",
       "    <tr>\n",
       "      <th>757</th>\n",
       "      <td>2019-08-30</td>\n",
       "      <td>A</td>\n",
       "      <td>18037</td>\n",
       "    </tr>\n",
       "    <tr>\n",
       "      <th>690</th>\n",
       "      <td>2019-08-30</td>\n",
       "      <td>B</td>\n",
       "      <td>18198</td>\n",
       "    </tr>\n",
       "    <tr>\n",
       "      <th>958</th>\n",
       "      <td>2019-08-31</td>\n",
       "      <td>A</td>\n",
       "      <td>18736</td>\n",
       "    </tr>\n",
       "    <tr>\n",
       "      <th>930</th>\n",
       "      <td>2019-08-31</td>\n",
       "      <td>B</td>\n",
       "      <td>18916</td>\n",
       "    </tr>\n",
       "  </tbody>\n",
       "</table>\n",
       "<p>62 rows × 3 columns</p>\n",
       "</div>"
      ],
      "text/plain": [
       "          date group  visitors\n",
       "55  2019-08-01     A       719\n",
       "66  2019-08-01     B       713\n",
       "175 2019-08-02     A      1338\n",
       "173 2019-08-02     B      1294\n",
       "291 2019-08-03     A      1845\n",
       "..         ...   ...       ...\n",
       "533 2019-08-29     B     17708\n",
       "757 2019-08-30     A     18037\n",
       "690 2019-08-30     B     18198\n",
       "958 2019-08-31     A     18736\n",
       "930 2019-08-31     B     18916\n",
       "\n",
       "[62 rows x 3 columns]"
      ]
     },
     "execution_count": 36,
     "metadata": {},
     "output_type": "execute_result"
    }
   ],
   "source": [
    "visitors_aggregated = []\n",
    "visitors_aggregated = (\n",
    "    dates_groups\n",
    "    .apply(\n",
    "        lambda x:\n",
    "            visitors[\n",
    "                np.logical_and(\n",
    "                    visitors['date'] <= x['date'],\n",
    "                    visitors['group'] == x['group']\n",
    "                )\n",
    "            ]\n",
    "            .agg(\n",
    "                {\n",
    "                    'date': 'max',\n",
    "                    'group': 'max',\n",
    "                    'visitors': 'sum'\n",
    "                }\n",
    "            ), \n",
    "        axis=1\n",
    "    )\n",
    "    .sort_values(by=['date', 'group'])\n",
    ")\n",
    "visitors_aggregated"
   ]
  },
  {
   "cell_type": "markdown",
   "metadata": {},
   "source": [
    "Объединим кумулятивные данные в одной таблице и присвоим её столбцам понятные названия."
   ]
  },
  {
   "cell_type": "code",
   "execution_count": 37,
   "metadata": {
    "scrolled": true
   },
   "outputs": [
    {
     "data": {
      "text/html": [
       "<div>\n",
       "<style scoped>\n",
       "    .dataframe tbody tr th:only-of-type {\n",
       "        vertical-align: middle;\n",
       "    }\n",
       "\n",
       "    .dataframe tbody tr th {\n",
       "        vertical-align: top;\n",
       "    }\n",
       "\n",
       "    .dataframe thead th {\n",
       "        text-align: right;\n",
       "    }\n",
       "</style>\n",
       "<table border=\"1\" class=\"dataframe\">\n",
       "  <thead>\n",
       "    <tr style=\"text-align: right;\">\n",
       "      <th></th>\n",
       "      <th>date</th>\n",
       "      <th>group</th>\n",
       "      <th>orders</th>\n",
       "      <th>buyers</th>\n",
       "      <th>revenue</th>\n",
       "      <th>visitors</th>\n",
       "    </tr>\n",
       "  </thead>\n",
       "  <tbody>\n",
       "    <tr>\n",
       "      <th>0</th>\n",
       "      <td>2019-08-01</td>\n",
       "      <td>A</td>\n",
       "      <td>23</td>\n",
       "      <td>19</td>\n",
       "      <td>142779</td>\n",
       "      <td>719</td>\n",
       "    </tr>\n",
       "    <tr>\n",
       "      <th>1</th>\n",
       "      <td>2019-08-01</td>\n",
       "      <td>B</td>\n",
       "      <td>17</td>\n",
       "      <td>17</td>\n",
       "      <td>59758</td>\n",
       "      <td>713</td>\n",
       "    </tr>\n",
       "    <tr>\n",
       "      <th>2</th>\n",
       "      <td>2019-08-02</td>\n",
       "      <td>A</td>\n",
       "      <td>42</td>\n",
       "      <td>36</td>\n",
       "      <td>234381</td>\n",
       "      <td>1338</td>\n",
       "    </tr>\n",
       "    <tr>\n",
       "      <th>3</th>\n",
       "      <td>2019-08-02</td>\n",
       "      <td>B</td>\n",
       "      <td>40</td>\n",
       "      <td>39</td>\n",
       "      <td>221801</td>\n",
       "      <td>1294</td>\n",
       "    </tr>\n",
       "    <tr>\n",
       "      <th>4</th>\n",
       "      <td>2019-08-03</td>\n",
       "      <td>A</td>\n",
       "      <td>66</td>\n",
       "      <td>60</td>\n",
       "      <td>346854</td>\n",
       "      <td>1845</td>\n",
       "    </tr>\n",
       "    <tr>\n",
       "      <th>...</th>\n",
       "      <td>...</td>\n",
       "      <td>...</td>\n",
       "      <td>...</td>\n",
       "      <td>...</td>\n",
       "      <td>...</td>\n",
       "      <td>...</td>\n",
       "    </tr>\n",
       "    <tr>\n",
       "      <th>57</th>\n",
       "      <td>2019-08-29</td>\n",
       "      <td>B</td>\n",
       "      <td>510</td>\n",
       "      <td>490</td>\n",
       "      <td>4746610</td>\n",
       "      <td>17708</td>\n",
       "    </tr>\n",
       "    <tr>\n",
       "      <th>58</th>\n",
       "      <td>2019-08-30</td>\n",
       "      <td>A</td>\n",
       "      <td>460</td>\n",
       "      <td>437</td>\n",
       "      <td>3311413</td>\n",
       "      <td>18037</td>\n",
       "    </tr>\n",
       "    <tr>\n",
       "      <th>59</th>\n",
       "      <td>2019-08-30</td>\n",
       "      <td>B</td>\n",
       "      <td>531</td>\n",
       "      <td>511</td>\n",
       "      <td>4955833</td>\n",
       "      <td>18198</td>\n",
       "    </tr>\n",
       "    <tr>\n",
       "      <th>60</th>\n",
       "      <td>2019-08-31</td>\n",
       "      <td>A</td>\n",
       "      <td>468</td>\n",
       "      <td>445</td>\n",
       "      <td>3364656</td>\n",
       "      <td>18736</td>\n",
       "    </tr>\n",
       "    <tr>\n",
       "      <th>61</th>\n",
       "      <td>2019-08-31</td>\n",
       "      <td>B</td>\n",
       "      <td>548</td>\n",
       "      <td>528</td>\n",
       "      <td>5068972</td>\n",
       "      <td>18916</td>\n",
       "    </tr>\n",
       "  </tbody>\n",
       "</table>\n",
       "<p>62 rows × 6 columns</p>\n",
       "</div>"
      ],
      "text/plain": [
       "         date group  orders  buyers  revenue  visitors\n",
       "0  2019-08-01     A      23      19   142779       719\n",
       "1  2019-08-01     B      17      17    59758       713\n",
       "2  2019-08-02     A      42      36   234381      1338\n",
       "3  2019-08-02     B      40      39   221801      1294\n",
       "4  2019-08-03     A      66      60   346854      1845\n",
       "..        ...   ...     ...     ...      ...       ...\n",
       "57 2019-08-29     B     510     490  4746610     17708\n",
       "58 2019-08-30     A     460     437  3311413     18037\n",
       "59 2019-08-30     B     531     511  4955833     18198\n",
       "60 2019-08-31     A     468     445  3364656     18736\n",
       "61 2019-08-31     B     548     528  5068972     18916\n",
       "\n",
       "[62 rows x 6 columns]"
      ]
     },
     "execution_count": 37,
     "metadata": {},
     "output_type": "execute_result"
    }
   ],
   "source": [
    "cumulative_data = orders_aggregated.merge(visitors_aggregated, on=['date', 'group'])\n",
    "cumulative_data.columns = ['date', 'group', 'orders', 'buyers', 'revenue', 'visitors']\n",
    "cumulative_data"
   ]
  },
  {
   "cell_type": "markdown",
   "metadata": {},
   "source": [
    "#### График кумулятивной выручки"
   ]
  },
  {
   "cell_type": "markdown",
   "metadata": {},
   "source": [
    "Создадим выборки по группам."
   ]
  },
  {
   "cell_type": "code",
   "execution_count": 38,
   "metadata": {},
   "outputs": [
    {
     "data": {
      "text/html": [
       "<div>\n",
       "<style scoped>\n",
       "    .dataframe tbody tr th:only-of-type {\n",
       "        vertical-align: middle;\n",
       "    }\n",
       "\n",
       "    .dataframe tbody tr th {\n",
       "        vertical-align: top;\n",
       "    }\n",
       "\n",
       "    .dataframe thead th {\n",
       "        text-align: right;\n",
       "    }\n",
       "</style>\n",
       "<table border=\"1\" class=\"dataframe\">\n",
       "  <thead>\n",
       "    <tr style=\"text-align: right;\">\n",
       "      <th></th>\n",
       "      <th>date</th>\n",
       "      <th>revenue</th>\n",
       "      <th>orders</th>\n",
       "    </tr>\n",
       "  </thead>\n",
       "  <tbody>\n",
       "    <tr>\n",
       "      <th>52</th>\n",
       "      <td>2019-08-27</td>\n",
       "      <td>2940471</td>\n",
       "      <td>419</td>\n",
       "    </tr>\n",
       "    <tr>\n",
       "      <th>54</th>\n",
       "      <td>2019-08-28</td>\n",
       "      <td>3036933</td>\n",
       "      <td>434</td>\n",
       "    </tr>\n",
       "    <tr>\n",
       "      <th>56</th>\n",
       "      <td>2019-08-29</td>\n",
       "      <td>3233233</td>\n",
       "      <td>451</td>\n",
       "    </tr>\n",
       "    <tr>\n",
       "      <th>58</th>\n",
       "      <td>2019-08-30</td>\n",
       "      <td>3311413</td>\n",
       "      <td>460</td>\n",
       "    </tr>\n",
       "    <tr>\n",
       "      <th>60</th>\n",
       "      <td>2019-08-31</td>\n",
       "      <td>3364656</td>\n",
       "      <td>468</td>\n",
       "    </tr>\n",
       "  </tbody>\n",
       "</table>\n",
       "</div>"
      ],
      "text/plain": [
       "         date  revenue  orders\n",
       "52 2019-08-27  2940471     419\n",
       "54 2019-08-28  3036933     434\n",
       "56 2019-08-29  3233233     451\n",
       "58 2019-08-30  3311413     460\n",
       "60 2019-08-31  3364656     468"
      ]
     },
     "execution_count": 38,
     "metadata": {},
     "output_type": "execute_result"
    }
   ],
   "source": [
    "cumulative_revenue_a = cumulative_data[cumulative_data['group'] == 'A'][['date', 'revenue', 'orders']]\n",
    "cumulative_revenue_a.tail()"
   ]
  },
  {
   "cell_type": "code",
   "execution_count": 39,
   "metadata": {},
   "outputs": [
    {
     "data": {
      "text/html": [
       "<div>\n",
       "<style scoped>\n",
       "    .dataframe tbody tr th:only-of-type {\n",
       "        vertical-align: middle;\n",
       "    }\n",
       "\n",
       "    .dataframe tbody tr th {\n",
       "        vertical-align: top;\n",
       "    }\n",
       "\n",
       "    .dataframe thead th {\n",
       "        text-align: right;\n",
       "    }\n",
       "</style>\n",
       "<table border=\"1\" class=\"dataframe\">\n",
       "  <thead>\n",
       "    <tr style=\"text-align: right;\">\n",
       "      <th></th>\n",
       "      <th>date</th>\n",
       "      <th>revenue</th>\n",
       "      <th>orders</th>\n",
       "    </tr>\n",
       "  </thead>\n",
       "  <tbody>\n",
       "    <tr>\n",
       "      <th>53</th>\n",
       "      <td>2019-08-27</td>\n",
       "      <td>4579312</td>\n",
       "      <td>473</td>\n",
       "    </tr>\n",
       "    <tr>\n",
       "      <th>55</th>\n",
       "      <td>2019-08-28</td>\n",
       "      <td>4640510</td>\n",
       "      <td>495</td>\n",
       "    </tr>\n",
       "    <tr>\n",
       "      <th>57</th>\n",
       "      <td>2019-08-29</td>\n",
       "      <td>4746610</td>\n",
       "      <td>510</td>\n",
       "    </tr>\n",
       "    <tr>\n",
       "      <th>59</th>\n",
       "      <td>2019-08-30</td>\n",
       "      <td>4955833</td>\n",
       "      <td>531</td>\n",
       "    </tr>\n",
       "    <tr>\n",
       "      <th>61</th>\n",
       "      <td>2019-08-31</td>\n",
       "      <td>5068972</td>\n",
       "      <td>548</td>\n",
       "    </tr>\n",
       "  </tbody>\n",
       "</table>\n",
       "</div>"
      ],
      "text/plain": [
       "         date  revenue  orders\n",
       "53 2019-08-27  4579312     473\n",
       "55 2019-08-28  4640510     495\n",
       "57 2019-08-29  4746610     510\n",
       "59 2019-08-30  4955833     531\n",
       "61 2019-08-31  5068972     548"
      ]
     },
     "execution_count": 39,
     "metadata": {},
     "output_type": "execute_result"
    }
   ],
   "source": [
    "cumulative_revenue_b = cumulative_data[cumulative_data['group'] == 'B'][['date', 'revenue', 'orders']]\n",
    "cumulative_revenue_b.tail()"
   ]
  },
  {
   "cell_type": "markdown",
   "metadata": {},
   "source": [
    "Выведем график кумулятивной выручки."
   ]
  },
  {
   "cell_type": "code",
   "execution_count": 40,
   "metadata": {},
   "outputs": [
    {
     "data": {
      "image/png": "[encoded data removed]",
      "text/plain": [
       "<Figure size 576x216 with 1 Axes>"
      ]
     },
     "metadata": {
      "needs_background": "light"
     },
     "output_type": "display_data"
    }
   ],
   "source": [
    "fig, ax = plt.subplots(figsize=(8, 3))\n",
    "plt.plot(cumulative_revenue_a['date'], cumulative_revenue_a['revenue'], label='A')\n",
    "plt.plot(cumulative_revenue_b['date'], cumulative_revenue_b['revenue'], label='B')\n",
    "plt.legend()\n",
    "ax.set_ylabel('revenue')\n",
    "plt.xticks(rotation=45)\n",
    "ax.grid(b=True, color='grey', which='both', linestyle='-', linewidth=0.5, alpha=0.2)\n",
    "ax.set_title('График кумулятивной выручки по дням и \\n группам A/B-тестирования')\n",
    "plt.show()"
   ]
  },
  {
   "cell_type": "markdown",
   "metadata": {},
   "source": [
    "Выручка обеих групп стабильно возрастает, при этом выручка группы B выше начиная с 5 августа. \n",
    "\n",
    "В период с 18 по 19 августа выручка группы B резко возрастает. Это может сигнализировать о всплеске числа заказов либо о появлении очень дорогих заказов в выборке. Проанализируем это ниже. "
   ]
  },
  {
   "cell_type": "markdown",
   "metadata": {},
   "source": [
    "#### График кумулятивного среднего чека по группам"
   ]
  },
  {
   "cell_type": "code",
   "execution_count": 41,
   "metadata": {},
   "outputs": [
    {
     "data": {
      "image/png": "[encoded data removed]",
      "text/plain": [
       "<Figure size 576x216 with 1 Axes>"
      ]
     },
     "metadata": {
      "needs_background": "light"
     },
     "output_type": "display_data"
    }
   ],
   "source": [
    "fig, ax = plt.subplots(figsize=(8, 3))\n",
    "ax.plot(\n",
    "    cumulative_revenue_a['date'],\n",
    "    cumulative_revenue_a['revenue'] / cumulative_revenue_a['orders'],\n",
    "    label='A'\n",
    ")\n",
    "ax.plot(\n",
    "    cumulative_revenue_b['date'],\n",
    "    cumulative_revenue_b['revenue'] / cumulative_revenue_b['orders'],\n",
    "    label='B'\n",
    ")\n",
    "plt.legend()\n",
    "ax.set_ylabel('Кумулятивный средний чек')\n",
    "plt.xticks(rotation=45)\n",
    "ax.grid(b=True, linestyle='-', color='grey', linewidth=0.5, alpha=0.2)\n",
    "ax.set_title('График кумулятивного среднего чека по группам')\n",
    "plt.show()"
   ]
  },
  {
   "cell_type": "markdown",
   "metadata": {},
   "source": [
    "Кумулятивный средний чек группы А падал с 1 по 6 августа, затем возрастал с 6 по 13 августа и с 14 августа находится примерно на одном уровне. \n",
    "\n",
    "Кумулятивный средний чек группы B выше, чем в группе А в период со 2 по 11 и с 18 по 31 августа. <br>\n",
    "Показатель сильно вырос в период с 18 по 19 августа и затем стал немного снижаться.  <br>\n",
    "Вероятно, в группе B возникли аномально дорогие заказы, возможно, из-за какой-то дополнительной акции.<br>\n",
    "\n",
    "После 25 августа кумулятивный средний чек обеих групп стабилизировался. "
   ]
  },
  {
   "cell_type": "markdown",
   "metadata": {},
   "source": [
    "#### График относительного изменения кумулятивного среднего чека группы B к группе A"
   ]
  },
  {
   "cell_type": "markdown",
   "metadata": {},
   "source": [
    "Собираем данные в одном датафрейме. "
   ]
  },
  {
   "cell_type": "code",
   "execution_count": 42,
   "metadata": {},
   "outputs": [
    {
     "data": {
      "text/html": [
       "<div>\n",
       "<style scoped>\n",
       "    .dataframe tbody tr th:only-of-type {\n",
       "        vertical-align: middle;\n",
       "    }\n",
       "\n",
       "    .dataframe tbody tr th {\n",
       "        vertical-align: top;\n",
       "    }\n",
       "\n",
       "    .dataframe thead th {\n",
       "        text-align: right;\n",
       "    }\n",
       "</style>\n",
       "<table border=\"1\" class=\"dataframe\">\n",
       "  <thead>\n",
       "    <tr style=\"text-align: right;\">\n",
       "      <th></th>\n",
       "      <th>date</th>\n",
       "      <th>revenue_a</th>\n",
       "      <th>orders_a</th>\n",
       "      <th>revenue_b</th>\n",
       "      <th>orders_b</th>\n",
       "    </tr>\n",
       "  </thead>\n",
       "  <tbody>\n",
       "    <tr>\n",
       "      <th>26</th>\n",
       "      <td>2019-08-27</td>\n",
       "      <td>2940471</td>\n",
       "      <td>419</td>\n",
       "      <td>4579312</td>\n",
       "      <td>473</td>\n",
       "    </tr>\n",
       "    <tr>\n",
       "      <th>27</th>\n",
       "      <td>2019-08-28</td>\n",
       "      <td>3036933</td>\n",
       "      <td>434</td>\n",
       "      <td>4640510</td>\n",
       "      <td>495</td>\n",
       "    </tr>\n",
       "    <tr>\n",
       "      <th>28</th>\n",
       "      <td>2019-08-29</td>\n",
       "      <td>3233233</td>\n",
       "      <td>451</td>\n",
       "      <td>4746610</td>\n",
       "      <td>510</td>\n",
       "    </tr>\n",
       "    <tr>\n",
       "      <th>29</th>\n",
       "      <td>2019-08-30</td>\n",
       "      <td>3311413</td>\n",
       "      <td>460</td>\n",
       "      <td>4955833</td>\n",
       "      <td>531</td>\n",
       "    </tr>\n",
       "    <tr>\n",
       "      <th>30</th>\n",
       "      <td>2019-08-31</td>\n",
       "      <td>3364656</td>\n",
       "      <td>468</td>\n",
       "      <td>5068972</td>\n",
       "      <td>548</td>\n",
       "    </tr>\n",
       "  </tbody>\n",
       "</table>\n",
       "</div>"
      ],
      "text/plain": [
       "         date  revenue_a  orders_a  revenue_b  orders_b\n",
       "26 2019-08-27    2940471       419    4579312       473\n",
       "27 2019-08-28    3036933       434    4640510       495\n",
       "28 2019-08-29    3233233       451    4746610       510\n",
       "29 2019-08-30    3311413       460    4955833       531\n",
       "30 2019-08-31    3364656       468    5068972       548"
      ]
     },
     "execution_count": 42,
     "metadata": {},
     "output_type": "execute_result"
    }
   ],
   "source": [
    "merged_cumulative_revenue = cumulative_revenue_a.merge(cumulative_revenue_b, on='date', how='left', suffixes=['_a', '_b'])\n",
    "merged_cumulative_revenue.tail()"
   ]
  },
  {
   "cell_type": "markdown",
   "metadata": {},
   "source": [
    "Строим график относительного изменения кумулятивного среднего чека группы B к группе A."
   ]
  },
  {
   "cell_type": "code",
   "execution_count": 43,
   "metadata": {},
   "outputs": [
    {
     "data": {
      "image/png": "[encoded data removed]",
      "text/plain": [
       "<Figure size 576x216 with 1 Axes>"
      ]
     },
     "metadata": {
      "needs_background": "light"
     },
     "output_type": "display_data"
    }
   ],
   "source": [
    "fig, ax = plt.subplots(figsize=(8, 3))\n",
    "ax.plot(merged_cumulative_revenue['date'],\n",
    "    (\n",
    "        (merged_cumulative_revenue['revenue_b'] / merged_cumulative_revenue['orders_b']) \n",
    "        / (merged_cumulative_revenue['revenue_a'] / merged_cumulative_revenue['orders_a'])\n",
    "        - 1\n",
    "    )\n",
    ")\n",
    "ax.set_ylabel('Отношение средних чеков')\n",
    "ax.set_title('График относительного изменения кумулятивного среднего чека \\n группы B к группе A')\n",
    "plt.xticks(rotation=45)\n",
    "ax.grid(b=True, color='grey', linewidth=0.5, alpha=0.2, linestyle='-')\n",
    "ax.axhline(y=0, color='black', linestyle='--')\n",
    "plt.show()"
   ]
  },
  {
   "cell_type": "markdown",
   "metadata": {},
   "source": [
    "Кумулятивный средний чек группы B выше кумулятивного среднего чека группы A с 3 по 10 и с 18 августа 2019 года. Резкий скачок 18 августа связываем с появлением аномально дорогих заказов. Отношение средних чеков стабилизировалось после 29 августа. Вероятно, влияние аномальных значений удалось стабилизировать. "
   ]
  },
  {
   "cell_type": "markdown",
   "metadata": {},
   "source": [
    "#### График кумулятивного среднего количества заказов на посетителя по группам"
   ]
  },
  {
   "cell_type": "markdown",
   "metadata": {},
   "source": [
    "Посчитаем среднее количество заказов на посетителя. "
   ]
  },
  {
   "cell_type": "code",
   "execution_count": 44,
   "metadata": {},
   "outputs": [
    {
     "data": {
      "text/html": [
       "<div>\n",
       "<style scoped>\n",
       "    .dataframe tbody tr th:only-of-type {\n",
       "        vertical-align: middle;\n",
       "    }\n",
       "\n",
       "    .dataframe tbody tr th {\n",
       "        vertical-align: top;\n",
       "    }\n",
       "\n",
       "    .dataframe thead th {\n",
       "        text-align: right;\n",
       "    }\n",
       "</style>\n",
       "<table border=\"1\" class=\"dataframe\">\n",
       "  <thead>\n",
       "    <tr style=\"text-align: right;\">\n",
       "      <th></th>\n",
       "      <th>date</th>\n",
       "      <th>group</th>\n",
       "      <th>orders</th>\n",
       "      <th>buyers</th>\n",
       "      <th>revenue</th>\n",
       "      <th>visitors</th>\n",
       "      <th>conversion</th>\n",
       "    </tr>\n",
       "  </thead>\n",
       "  <tbody>\n",
       "    <tr>\n",
       "      <th>59</th>\n",
       "      <td>2019-08-30</td>\n",
       "      <td>B</td>\n",
       "      <td>531</td>\n",
       "      <td>511</td>\n",
       "      <td>4955833</td>\n",
       "      <td>18198</td>\n",
       "      <td>0.029179</td>\n",
       "    </tr>\n",
       "    <tr>\n",
       "      <th>60</th>\n",
       "      <td>2019-08-31</td>\n",
       "      <td>A</td>\n",
       "      <td>468</td>\n",
       "      <td>445</td>\n",
       "      <td>3364656</td>\n",
       "      <td>18736</td>\n",
       "      <td>0.024979</td>\n",
       "    </tr>\n",
       "    <tr>\n",
       "      <th>61</th>\n",
       "      <td>2019-08-31</td>\n",
       "      <td>B</td>\n",
       "      <td>548</td>\n",
       "      <td>528</td>\n",
       "      <td>5068972</td>\n",
       "      <td>18916</td>\n",
       "      <td>0.028970</td>\n",
       "    </tr>\n",
       "  </tbody>\n",
       "</table>\n",
       "</div>"
      ],
      "text/plain": [
       "         date group  orders  buyers  revenue  visitors  conversion\n",
       "59 2019-08-30     B     531     511  4955833     18198    0.029179\n",
       "60 2019-08-31     A     468     445  3364656     18736    0.024979\n",
       "61 2019-08-31     B     548     528  5068972     18916    0.028970"
      ]
     },
     "execution_count": 44,
     "metadata": {},
     "output_type": "execute_result"
    }
   ],
   "source": [
    "cumulative_data['conversion'] = cumulative_data['orders'] / cumulative_data['visitors']\n",
    "cumulative_data.tail(3)"
   ]
  },
  {
   "cell_type": "markdown",
   "metadata": {},
   "source": [
    "Подготовим выборки по группам A и B."
   ]
  },
  {
   "cell_type": "code",
   "execution_count": 45,
   "metadata": {},
   "outputs": [
    {
     "data": {
      "text/html": [
       "<div>\n",
       "<style scoped>\n",
       "    .dataframe tbody tr th:only-of-type {\n",
       "        vertical-align: middle;\n",
       "    }\n",
       "\n",
       "    .dataframe tbody tr th {\n",
       "        vertical-align: top;\n",
       "    }\n",
       "\n",
       "    .dataframe thead th {\n",
       "        text-align: right;\n",
       "    }\n",
       "</style>\n",
       "<table border=\"1\" class=\"dataframe\">\n",
       "  <thead>\n",
       "    <tr style=\"text-align: right;\">\n",
       "      <th></th>\n",
       "      <th>date</th>\n",
       "      <th>group</th>\n",
       "      <th>orders</th>\n",
       "      <th>buyers</th>\n",
       "      <th>revenue</th>\n",
       "      <th>visitors</th>\n",
       "      <th>conversion</th>\n",
       "    </tr>\n",
       "  </thead>\n",
       "  <tbody>\n",
       "    <tr>\n",
       "      <th>58</th>\n",
       "      <td>2019-08-30</td>\n",
       "      <td>A</td>\n",
       "      <td>460</td>\n",
       "      <td>437</td>\n",
       "      <td>3311413</td>\n",
       "      <td>18037</td>\n",
       "      <td>0.025503</td>\n",
       "    </tr>\n",
       "    <tr>\n",
       "      <th>60</th>\n",
       "      <td>2019-08-31</td>\n",
       "      <td>A</td>\n",
       "      <td>468</td>\n",
       "      <td>445</td>\n",
       "      <td>3364656</td>\n",
       "      <td>18736</td>\n",
       "      <td>0.024979</td>\n",
       "    </tr>\n",
       "  </tbody>\n",
       "</table>\n",
       "</div>"
      ],
      "text/plain": [
       "         date group  orders  buyers  revenue  visitors  conversion\n",
       "58 2019-08-30     A     460     437  3311413     18037    0.025503\n",
       "60 2019-08-31     A     468     445  3364656     18736    0.024979"
      ]
     },
     "execution_count": 45,
     "metadata": {},
     "output_type": "execute_result"
    }
   ],
   "source": [
    "cumulative_data_a = cumulative_data[cumulative_data['group'] == 'A']\n",
    "cumulative_data_a.tail(2)"
   ]
  },
  {
   "cell_type": "code",
   "execution_count": 46,
   "metadata": {},
   "outputs": [
    {
     "data": {
      "text/html": [
       "<div>\n",
       "<style scoped>\n",
       "    .dataframe tbody tr th:only-of-type {\n",
       "        vertical-align: middle;\n",
       "    }\n",
       "\n",
       "    .dataframe tbody tr th {\n",
       "        vertical-align: top;\n",
       "    }\n",
       "\n",
       "    .dataframe thead th {\n",
       "        text-align: right;\n",
       "    }\n",
       "</style>\n",
       "<table border=\"1\" class=\"dataframe\">\n",
       "  <thead>\n",
       "    <tr style=\"text-align: right;\">\n",
       "      <th></th>\n",
       "      <th>date</th>\n",
       "      <th>group</th>\n",
       "      <th>orders</th>\n",
       "      <th>buyers</th>\n",
       "      <th>revenue</th>\n",
       "      <th>visitors</th>\n",
       "      <th>conversion</th>\n",
       "    </tr>\n",
       "  </thead>\n",
       "  <tbody>\n",
       "    <tr>\n",
       "      <th>59</th>\n",
       "      <td>2019-08-30</td>\n",
       "      <td>B</td>\n",
       "      <td>531</td>\n",
       "      <td>511</td>\n",
       "      <td>4955833</td>\n",
       "      <td>18198</td>\n",
       "      <td>0.029179</td>\n",
       "    </tr>\n",
       "    <tr>\n",
       "      <th>61</th>\n",
       "      <td>2019-08-31</td>\n",
       "      <td>B</td>\n",
       "      <td>548</td>\n",
       "      <td>528</td>\n",
       "      <td>5068972</td>\n",
       "      <td>18916</td>\n",
       "      <td>0.028970</td>\n",
       "    </tr>\n",
       "  </tbody>\n",
       "</table>\n",
       "</div>"
      ],
      "text/plain": [
       "         date group  orders  buyers  revenue  visitors  conversion\n",
       "59 2019-08-30     B     531     511  4955833     18198    0.029179\n",
       "61 2019-08-31     B     548     528  5068972     18916    0.028970"
      ]
     },
     "execution_count": 46,
     "metadata": {},
     "output_type": "execute_result"
    }
   ],
   "source": [
    "cumulative_data_b = cumulative_data[cumulative_data['group'] == 'B']\n",
    "cumulative_data_b.tail(2)"
   ]
  },
  {
   "cell_type": "markdown",
   "metadata": {},
   "source": [
    "Построим график кумулятивного среднего количества заказов на посетителя по группам."
   ]
  },
  {
   "cell_type": "code",
   "execution_count": 47,
   "metadata": {},
   "outputs": [
    {
     "data": {
      "image/png": "[encoded data removed]",
      "text/plain": [
       "<Figure size 576x216 with 1 Axes>"
      ]
     },
     "metadata": {
      "needs_background": "light"
     },
     "output_type": "display_data"
    }
   ],
   "source": [
    "fig, ax = plt.subplots(figsize=(8, 3))\n",
    "ax.plot(cumulative_data_a['date'], cumulative_data_a['conversion'], label='A')\n",
    "ax.plot(cumulative_data_b['date'], cumulative_data_b['conversion'], label='B')\n",
    "ax.legend()\n",
    "ax.grid(b=True, color='grey', linestyle='-', linewidth=0.5, alpha=0.2)\n",
    "ax.set_title('График кумулятивного среднего количества заказов \\n на посетителя по группам')\n",
    "ax.set_ylabel('Кумулятивное среднее\\nколичество заказов')\n",
    "plt.xticks(rotation=45)\n",
    "ax.axhline(y=0.0255, color='black', linestyle='--', alpha=0.7, linewidth=0.5)\n",
    "ax.axhline(y=0.029, color='brown', linestyle='--', alpha=0.7, linewidth=0.5)\n",
    "# Задаем масштаб осей\n",
    "plt.axis([pd.to_datetime(\"2019-08-01\"), pd.to_datetime(\"2019-08-31\"), 0.015, 0.05])\n",
    "plt.show()"
   ]
  },
  {
   "cell_type": "markdown",
   "metadata": {},
   "source": [
    "Кумулятивное среднее количество заказов группы B стабильно больше с 6 августа. \n",
    "\n",
    "В группе B есть локальные повышения кумулятивного среднего количества заказов на одного посетителя 10 августа и с 14 по 18 августа. Вероятно, сказались дополнительные события, повлиявшие на A/B-тест, например, реклама. \n",
    "\n",
    "Кумулятивное среднее количество заказов стабилизировалось с 25 августа на уровне 0.0255 для группы A и 0.029 для группы B. "
   ]
  },
  {
   "cell_type": "markdown",
   "metadata": {},
   "source": [
    "#### График относительного изменения кумулятивного среднего количества заказов на посетителя группы B к группе A"
   ]
  },
  {
   "cell_type": "markdown",
   "metadata": {},
   "source": [
    "Посчитаем конверсии по группам для каждой даты. "
   ]
  },
  {
   "cell_type": "code",
   "execution_count": 48,
   "metadata": {},
   "outputs": [
    {
     "data": {
      "text/html": [
       "<div>\n",
       "<style scoped>\n",
       "    .dataframe tbody tr th:only-of-type {\n",
       "        vertical-align: middle;\n",
       "    }\n",
       "\n",
       "    .dataframe tbody tr th {\n",
       "        vertical-align: top;\n",
       "    }\n",
       "\n",
       "    .dataframe thead th {\n",
       "        text-align: right;\n",
       "    }\n",
       "</style>\n",
       "<table border=\"1\" class=\"dataframe\">\n",
       "  <thead>\n",
       "    <tr style=\"text-align: right;\">\n",
       "      <th></th>\n",
       "      <th>date</th>\n",
       "      <th>conversion_a</th>\n",
       "      <th>conversion_b</th>\n",
       "    </tr>\n",
       "  </thead>\n",
       "  <tbody>\n",
       "    <tr>\n",
       "      <th>28</th>\n",
       "      <td>2019-08-29</td>\n",
       "      <td>0.025702</td>\n",
       "      <td>0.028801</td>\n",
       "    </tr>\n",
       "    <tr>\n",
       "      <th>29</th>\n",
       "      <td>2019-08-30</td>\n",
       "      <td>0.025503</td>\n",
       "      <td>0.029179</td>\n",
       "    </tr>\n",
       "    <tr>\n",
       "      <th>30</th>\n",
       "      <td>2019-08-31</td>\n",
       "      <td>0.024979</td>\n",
       "      <td>0.028970</td>\n",
       "    </tr>\n",
       "  </tbody>\n",
       "</table>\n",
       "</div>"
      ],
      "text/plain": [
       "         date  conversion_a  conversion_b\n",
       "28 2019-08-29      0.025702      0.028801\n",
       "29 2019-08-30      0.025503      0.029179\n",
       "30 2019-08-31      0.024979      0.028970"
      ]
     },
     "execution_count": 48,
     "metadata": {},
     "output_type": "execute_result"
    }
   ],
   "source": [
    "merge_cumulative_conversion = cumulative_data_a[['date', 'conversion']].merge(\n",
    "    cumulative_data_b[['date', 'conversion']], on='date', how='left', suffixes=('_a', '_b'))\n",
    "merge_cumulative_conversion.tail(3)    "
   ]
  },
  {
   "cell_type": "markdown",
   "metadata": {},
   "source": [
    "Построим график относительного изменения кумулятивного среднего количества заказов на посетителя группы B к группе A."
   ]
  },
  {
   "cell_type": "code",
   "execution_count": 49,
   "metadata": {},
   "outputs": [
    {
     "data": {
      "image/png": "[encoded data removed]",
      "text/plain": [
       "<Figure size 576x216 with 1 Axes>"
      ]
     },
     "metadata": {
      "needs_background": "light"
     },
     "output_type": "display_data"
    }
   ],
   "source": [
    "fig, ax = plt.subplots(figsize=(8, 3))\n",
    "ax.plot(merge_cumulative_conversion['date'],\n",
    "         merge_cumulative_conversion['conversion_b']\n",
    "         / merge_cumulative_conversion['conversion_a']\n",
    "         -1\n",
    ")\n",
    "ax.set_title(\n",
    "'''Относительный прирост кумулятивного среднего \n",
    "количества заказов на посетителя группы B\n",
    "относительно посетителя группы A'''\n",
    ")\n",
    "plt.xticks(rotation=45)\n",
    "ax.grid(b=True, linestyle='-', color='grey', linewidth=0.5, alpha=0.2)\n",
    "ax.axhline(y=0, color='black', linestyle='--')\n",
    "ax.axhline(y=0.14, color='grey', linestyle='--')\n",
    "plt.show()"
   ]
  },
  {
   "cell_type": "markdown",
   "metadata": {},
   "source": [
    "До 6 августа группа B несколько проигрывала по среднему количеству заказов, затем вырвалась вперед. \n",
    "\n",
    "После 21 августа среднее количество заказов на посетителя стабилизировалось. Группа B уверенно лидирует. "
   ]
  },
  {
   "cell_type": "markdown",
   "metadata": {},
   "source": [
    "#### Точечный график количества заказов по пользователям"
   ]
  },
  {
   "cell_type": "markdown",
   "metadata": {},
   "source": [
    "Посчитаем количество заказов на пользователя. "
   ]
  },
  {
   "cell_type": "code",
   "execution_count": 50,
   "metadata": {},
   "outputs": [
    {
     "data": {
      "text/html": [
       "<div>\n",
       "<style scoped>\n",
       "    .dataframe tbody tr th:only-of-type {\n",
       "        vertical-align: middle;\n",
       "    }\n",
       "\n",
       "    .dataframe tbody tr th {\n",
       "        vertical-align: top;\n",
       "    }\n",
       "\n",
       "    .dataframe thead th {\n",
       "        text-align: right;\n",
       "    }\n",
       "</style>\n",
       "<table border=\"1\" class=\"dataframe\">\n",
       "  <thead>\n",
       "    <tr style=\"text-align: right;\">\n",
       "      <th></th>\n",
       "      <th>user_id</th>\n",
       "      <th>orders</th>\n",
       "    </tr>\n",
       "  </thead>\n",
       "  <tbody>\n",
       "    <tr>\n",
       "      <th>908</th>\n",
       "      <td>3967698036</td>\n",
       "      <td>3</td>\n",
       "    </tr>\n",
       "    <tr>\n",
       "      <th>55</th>\n",
       "      <td>249864742</td>\n",
       "      <td>3</td>\n",
       "    </tr>\n",
       "    <tr>\n",
       "      <th>478</th>\n",
       "      <td>2108163459</td>\n",
       "      <td>3</td>\n",
       "    </tr>\n",
       "  </tbody>\n",
       "</table>\n",
       "</div>"
      ],
      "text/plain": [
       "        user_id  orders\n",
       "908  3967698036       3\n",
       "55    249864742       3\n",
       "478  2108163459       3"
      ]
     },
     "execution_count": 50,
     "metadata": {},
     "output_type": "execute_result"
    }
   ],
   "source": [
    "orders_by_users = orders.groupby('visitor_id', as_index=False).agg({'transaction_id': 'nunique'})\n",
    "orders_by_users.columns = ['user_id', 'orders']\n",
    "orders_by_users.sort_values(by='orders', ascending=False).head(3)"
   ]
  },
  {
   "cell_type": "markdown",
   "metadata": {},
   "source": [
    "Построим точечный график количества заказов по пользователям."
   ]
  },
  {
   "cell_type": "code",
   "execution_count": 51,
   "metadata": {},
   "outputs": [
    {
     "data": {
      "image/png": "[encoded data removed]",
      "text/plain": [
       "<Figure size 432x288 with 1 Axes>"
      ]
     },
     "metadata": {
      "needs_background": "light"
     },
     "output_type": "display_data"
    }
   ],
   "source": [
    "x_value = pd.Series(range(0, len(orders_by_users['user_id'])))\n",
    "plt.scatter(x_value, orders_by_users['orders'], alpha=0.4)\n",
    "plt.ylabel('Количество заказов, шт.')\n",
    "plt.xlabel('Номер пользователя по порядку')\n",
    "plt.title('Количества заказов по пользователям')\n",
    "plt.show()"
   ]
  },
  {
   "cell_type": "markdown",
   "metadata": {},
   "source": [
    "Подавляющее количество пользователей в течение августа сделали по 1 заказу. \n",
    "\n",
    "Встречаются пользователи, разместившие до 3 заказов. Считать их аномалиями или нет пока не понятно. "
   ]
  },
  {
   "cell_type": "markdown",
   "metadata": {},
   "source": [
    "#### 95-й и 99-й перцентили количества заказов на пользователя"
   ]
  },
  {
   "cell_type": "markdown",
   "metadata": {},
   "source": [
    "Посчитаем выборочные перцентили количества заказов на одного пользователя."
   ]
  },
  {
   "cell_type": "code",
   "execution_count": 52,
   "metadata": {},
   "outputs": [
    {
     "name": "stdout",
     "output_type": "stream",
     "text": [
      "[1. 2.]\n"
     ]
    }
   ],
   "source": [
    "print(np.percentile(orders_by_users['orders'], [95, 99]))"
   ]
  },
  {
   "cell_type": "markdown",
   "metadata": {},
   "source": [
    "Не более 1% пользователей размещает 2 и более заказа. Не менее 95% пользователей размещают 1 заказ.\n",
    "\n",
    "В качестве границы для определения аномальных пользователей выберем количество заказов равное 2 и более. "
   ]
  },
  {
   "cell_type": "markdown",
   "metadata": {},
   "source": [
    "#### Точечный график стоимостей заказов"
   ]
  },
  {
   "cell_type": "markdown",
   "metadata": {},
   "source": [
    "Посмотрим на наиболее дорогие заказы. "
   ]
  },
  {
   "cell_type": "code",
   "execution_count": 53,
   "metadata": {},
   "outputs": [
    {
     "data": {
      "text/html": [
       "<style  type=\"text/css\" >\n",
       "</style><table id=\"T_85fc9_\" ><thead>    <tr>        <th class=\"blank level0\" ></th>        <th class=\"col_heading level0 col0\" >transaction_id</th>        <th class=\"col_heading level0 col1\" >visitor_id</th>        <th class=\"col_heading level0 col2\" >date</th>        <th class=\"col_heading level0 col3\" >revenue</th>        <th class=\"col_heading level0 col4\" >group</th>    </tr></thead><tbody>\n",
       "                <tr>\n",
       "                        <th id=\"T_85fc9_level0_row0\" class=\"row_heading level0 row0\" >425</th>\n",
       "                        <td id=\"T_85fc9_row0_col0\" class=\"data row0 col0\" >590470918</td>\n",
       "                        <td id=\"T_85fc9_row0_col1\" class=\"data row0 col1\" >1920142716</td>\n",
       "                        <td id=\"T_85fc9_row0_col2\" class=\"data row0 col2\" >2019-08-19 00:00:00</td>\n",
       "                        <td id=\"T_85fc9_row0_col3\" class=\"data row0 col3\" >1_294_500</td>\n",
       "                        <td id=\"T_85fc9_row0_col4\" class=\"data row0 col4\" >B</td>\n",
       "            </tr>\n",
       "            <tr>\n",
       "                        <th id=\"T_85fc9_level0_row1\" class=\"row_heading level0 row1\" >1196</th>\n",
       "                        <td id=\"T_85fc9_row1_col0\" class=\"data row1 col0\" >3936777065</td>\n",
       "                        <td id=\"T_85fc9_row1_col1\" class=\"data row1 col1\" >2108080724</td>\n",
       "                        <td id=\"T_85fc9_row1_col2\" class=\"data row1 col2\" >2019-08-15 00:00:00</td>\n",
       "                        <td id=\"T_85fc9_row1_col3\" class=\"data row1 col3\" >202_740</td>\n",
       "                        <td id=\"T_85fc9_row1_col4\" class=\"data row1 col4\" >B</td>\n",
       "            </tr>\n",
       "            <tr>\n",
       "                        <th id=\"T_85fc9_level0_row2\" class=\"row_heading level0 row2\" >1136</th>\n",
       "                        <td id=\"T_85fc9_row2_col0\" class=\"data row2 col0\" >666610489</td>\n",
       "                        <td id=\"T_85fc9_row2_col1\" class=\"data row2 col1\" >1307669133</td>\n",
       "                        <td id=\"T_85fc9_row2_col2\" class=\"data row2 col2\" >2019-08-13 00:00:00</td>\n",
       "                        <td id=\"T_85fc9_row2_col3\" class=\"data row2 col3\" >92_550</td>\n",
       "                        <td id=\"T_85fc9_row2_col4\" class=\"data row2 col4\" >A</td>\n",
       "            </tr>\n",
       "            <tr>\n",
       "                        <th id=\"T_85fc9_level0_row3\" class=\"row_heading level0 row3\" >744</th>\n",
       "                        <td id=\"T_85fc9_row3_col0\" class=\"data row3 col0\" >3668308183</td>\n",
       "                        <td id=\"T_85fc9_row3_col1\" class=\"data row3 col1\" >888512513</td>\n",
       "                        <td id=\"T_85fc9_row3_col2\" class=\"data row3 col2\" >2019-08-27 00:00:00</td>\n",
       "                        <td id=\"T_85fc9_row3_col3\" class=\"data row3 col3\" >86_620</td>\n",
       "                        <td id=\"T_85fc9_row3_col4\" class=\"data row3 col4\" >B</td>\n",
       "            </tr>\n",
       "            <tr>\n",
       "                        <th id=\"T_85fc9_level0_row4\" class=\"row_heading level0 row4\" >743</th>\n",
       "                        <td id=\"T_85fc9_row4_col0\" class=\"data row4 col0\" >3603576309</td>\n",
       "                        <td id=\"T_85fc9_row4_col1\" class=\"data row4 col1\" >4133034833</td>\n",
       "                        <td id=\"T_85fc9_row4_col2\" class=\"data row4 col2\" >2019-08-09 00:00:00</td>\n",
       "                        <td id=\"T_85fc9_row4_col3\" class=\"data row4 col3\" >67_990</td>\n",
       "                        <td id=\"T_85fc9_row4_col4\" class=\"data row4 col4\" >A</td>\n",
       "            </tr>\n",
       "    </tbody></table>"
      ],
      "text/plain": [
       "<pandas.io.formats.style.Styler at 0x7f31fc81d250>"
      ]
     },
     "execution_count": 53,
     "metadata": {},
     "output_type": "execute_result"
    }
   ],
   "source": [
    "orders.sort_values(by='revenue', ascending=False).head().style.format({'revenue': '{:_}'})"
   ]
  },
  {
   "cell_type": "markdown",
   "metadata": {},
   "source": [
    "Построим точечный график стоимостей заказов."
   ]
  },
  {
   "cell_type": "code",
   "execution_count": 54,
   "metadata": {},
   "outputs": [
    {
     "data": {
      "image/png": "[encoded data removed]",
      "text/plain": [
       "<Figure size 432x288 with 1 Axes>"
      ]
     },
     "metadata": {
      "needs_background": "light"
     },
     "output_type": "display_data"
    }
   ],
   "source": [
    "x_value = range(0, len(orders['revenue']))\n",
    "plt.scatter(x_value, orders['revenue'], alpha=0.4)\n",
    "plt.title('Точечный график распределения \\n стоимости заказов')\n",
    "plt.ylabel('Стоимость заказов, млн. руб.')\n",
    "plt.xlabel('Номер пользователя по порядку')\n",
    "plt.show()"
   ]
  },
  {
   "cell_type": "markdown",
   "metadata": {},
   "source": [
    "Большинство заказов имеют стоимость до 100 тыс. руб. \n",
    "\n",
    "Увеличим масштаб графика со стоимостью заказов до 100 тыс. руб. "
   ]
  },
  {
   "cell_type": "code",
   "execution_count": 55,
   "metadata": {},
   "outputs": [
    {
     "data": {
      "image/png": "[encoded data removed]",
      "text/plain": [
       "<Figure size 432x288 with 1 Axes>"
      ]
     },
     "metadata": {
      "needs_background": "light"
     },
     "output_type": "display_data"
    }
   ],
   "source": [
    "x_value = range(0, len(orders.query('revenue < 100_000')['revenue']))\n",
    "plt.scatter(x_value, orders.query('revenue < 100_000')['revenue'], alpha=0.4)\n",
    "plt.title('Точечный график распределения \\n стоимости заказов до 100 тыс. руб.')\n",
    "plt.ylabel('Стоимость заказов, руб.')\n",
    "plt.xlabel('Номер пользователя по порядку')\n",
    "plt.show()"
   ]
  },
  {
   "cell_type": "markdown",
   "metadata": {},
   "source": [
    "Большинство заказов имеют стоимость до 20 тыс. руб. По графику можно выбрать границу аномальных заказов между 20 и 40 тыс. руб. Однако принято отсеивать от 1% до 5% наблюдений с крайними значениями. \n",
    "\n",
    "Вычислим перцентили для стоимости заказов. "
   ]
  },
  {
   "cell_type": "markdown",
   "metadata": {},
   "source": [
    "#### 95-й и 99-й перцентили стоимости заказов"
   ]
  },
  {
   "cell_type": "code",
   "execution_count": 56,
   "metadata": {},
   "outputs": [
    {
     "name": "stdout",
     "output_type": "stream",
     "text": [
      "[26785. 53904.]\n"
     ]
    }
   ],
   "source": [
    "print(np.percentile(orders['revenue'], [95, 99]))"
   ]
  },
  {
   "cell_type": "markdown",
   "metadata": {},
   "source": [
    "Не более 5% заказов дороже 26785 руб. и не более 1% заказов дороже 53904 руб. \n",
    "\n",
    "Примем за границу определения аномально дорогих заказов сумму 26785 руб."
   ]
  },
  {
   "cell_type": "markdown",
   "metadata": {},
   "source": [
    "### Вывод. Исследовательский анализ данных"
   ]
  },
  {
   "cell_type": "markdown",
   "metadata": {},
   "source": [
    "Выручка обеих групп стабильно возрастает, при этом выручка группы B выше начиная с 5 августа.\n",
    "\n",
    "В период с 18 по 19 августа выручка группы B резко возрастает. Это может сигнализировать о всплеске числа заказов либо о появлении очень дорогих заказов в выборке. \n",
    "\n",
    "**Кумулятивный средний чек группы А** падал с 1 по 6 августа, затем возрастал с 6 по 13 августа и с 14 августа находится примерно на одном уровне.\n",
    "\n",
    "Кумулятивный средний чек группы B выше, чем в группе А в период со 2 по 11 и с 18 по 31 августа.\n",
    "Показатель сильно вырос в период с 18 по 19 августа и затем стал немного снижаться.\n",
    "Вероятно, в группе B возникли аномально дорогие заказы, возможно, из-за какой-то дополнительной акции.\n",
    "\n",
    "После 25 августа кумулятивный средний чек обеих групп стабилизировался.\n",
    "\n",
    "**Кумулятивный средний чек группы B** выше кумулятивного среднего чека группы A с 3 по 10 и с 18 августа 2019 года. Резкий скачок 18 августа связываем с появлением аномально дорогих заказов. Отношение средних чеков стабилизировалось после 29 августа. Вероятно, влияние аномальных значений удалось сгладить.\n",
    "\n",
    "**Кумулятивное среднее количество заказов** группы B стабильно больше с 6 августа.\n",
    "\n",
    "В группе B есть локальные повышения кумулятивного среднего количества заказов на одного посетителя 10 августа и с 14 по 18 августа. Вероятно, сказались дополнительные события, повлиявшие на A/B-тест, например, реклама.\n",
    "\n",
    "Кумулятивное среднее количество заказов стабилизировалось с 25 августа на уровне 0.0255 для группы A и 0.029 для группы B.\n",
    "\n",
    "До 6 августа группа B несколько проигрывала по среднему количеству заказов, затем вырвалась вперед.\n",
    "\n",
    "После 21 августа среднее количество заказов на посетителя стабилизировалось. Группа B уверенно лидирует.\n",
    "\n",
    "Подавляющее количество пользователей в течение августа сделали по 1 заказу. Встречаются пользователи, разместившие до 3 заказов. \n",
    "\n",
    "Не более 1% пользователей размещает 2 и более заказа. Не менее 95% пользователей размещают 1 заказ.\n",
    "\n",
    "В качестве границы для определения аномальных пользователей выберем количество заказов равное 2 и более.\n",
    " \n",
    "Не более 5% заказов дороже 26785 руб. и не более 1% заказов дороже 53904 руб.\n",
    "За границу определения аномально дорогих заказов принимаем сумму 26785 руб."
   ]
  },
  {
   "cell_type": "markdown",
   "metadata": {},
   "source": [
    "### Проверка гипотез"
   ]
  },
  {
   "cell_type": "markdown",
   "metadata": {
    "editable": true,
    "slideshow": {
     "slide_type": ""
    },
    "tags": []
   },
   "source": [
    "#### Количество заказов на посетителя по «сырым» данным"
   ]
  },
  {
   "cell_type": "markdown",
   "metadata": {
    "editable": true,
    "slideshow": {
     "slide_type": ""
    },
    "tags": []
   },
   "source": [
    "Посчитаем статистическую значимость различий в среднем количестве заказов на посетителя между группами по «сырым» данным - без удаления аномальных пользователей.\n",
    "\n",
    "Сформулируем гипотезы. \n",
    "- Нулевая: различий в среднем количестве заказов между группами нет;\n",
    "- Альтернативная: различия в среднем количестве заказов между группами есть."
   ]
  },
  {
   "cell_type": "markdown",
   "metadata": {},
   "source": [
    "Начнем с подготовки данных. \n",
    "\n",
    "**Посетители по группе A.**"
   ]
  },
  {
   "cell_type": "markdown",
   "metadata": {},
   "source": [
    "Количество посетителей по дням. "
   ]
  },
  {
   "cell_type": "code",
   "execution_count": 57,
   "metadata": {},
   "outputs": [
    {
     "data": {
      "text/html": [
       "<div>\n",
       "<style scoped>\n",
       "    .dataframe tbody tr th:only-of-type {\n",
       "        vertical-align: middle;\n",
       "    }\n",
       "\n",
       "    .dataframe tbody tr th {\n",
       "        vertical-align: top;\n",
       "    }\n",
       "\n",
       "    .dataframe thead th {\n",
       "        text-align: right;\n",
       "    }\n",
       "</style>\n",
       "<table border=\"1\" class=\"dataframe\">\n",
       "  <thead>\n",
       "    <tr style=\"text-align: right;\">\n",
       "      <th></th>\n",
       "      <th>date</th>\n",
       "      <th>visitors_per_date_a</th>\n",
       "    </tr>\n",
       "  </thead>\n",
       "  <tbody>\n",
       "    <tr>\n",
       "      <th>0</th>\n",
       "      <td>2019-08-01</td>\n",
       "      <td>719</td>\n",
       "    </tr>\n",
       "    <tr>\n",
       "      <th>1</th>\n",
       "      <td>2019-08-02</td>\n",
       "      <td>619</td>\n",
       "    </tr>\n",
       "    <tr>\n",
       "      <th>2</th>\n",
       "      <td>2019-08-03</td>\n",
       "      <td>507</td>\n",
       "    </tr>\n",
       "  </tbody>\n",
       "</table>\n",
       "</div>"
      ],
      "text/plain": [
       "        date  visitors_per_date_a\n",
       "0 2019-08-01                  719\n",
       "1 2019-08-02                  619\n",
       "2 2019-08-03                  507"
      ]
     },
     "execution_count": 57,
     "metadata": {},
     "output_type": "execute_result"
    }
   ],
   "source": [
    "visitors_a_daily = visitors[visitors['group'] == 'A'][['date', 'visitors']]\n",
    "visitors_a_daily.columns = ['date', 'visitors_per_date_a']\n",
    "visitors_a_daily.head(3)"
   ]
  },
  {
   "cell_type": "markdown",
   "metadata": {},
   "source": [
    "Кумулятивное количество посетителей по дням. "
   ]
  },
  {
   "cell_type": "code",
   "execution_count": 58,
   "metadata": {},
   "outputs": [
    {
     "data": {
      "text/html": [
       "<div>\n",
       "<style scoped>\n",
       "    .dataframe tbody tr th:only-of-type {\n",
       "        vertical-align: middle;\n",
       "    }\n",
       "\n",
       "    .dataframe tbody tr th {\n",
       "        vertical-align: top;\n",
       "    }\n",
       "\n",
       "    .dataframe thead th {\n",
       "        text-align: right;\n",
       "    }\n",
       "</style>\n",
       "<table border=\"1\" class=\"dataframe\">\n",
       "  <thead>\n",
       "    <tr style=\"text-align: right;\">\n",
       "      <th></th>\n",
       "      <th>date</th>\n",
       "      <th>visitors_cumulative_a</th>\n",
       "    </tr>\n",
       "  </thead>\n",
       "  <tbody>\n",
       "    <tr>\n",
       "      <th>0</th>\n",
       "      <td>2019-08-01</td>\n",
       "      <td>719</td>\n",
       "    </tr>\n",
       "    <tr>\n",
       "      <th>1</th>\n",
       "      <td>2019-08-02</td>\n",
       "      <td>1338</td>\n",
       "    </tr>\n",
       "    <tr>\n",
       "      <th>2</th>\n",
       "      <td>2019-08-03</td>\n",
       "      <td>1845</td>\n",
       "    </tr>\n",
       "  </tbody>\n",
       "</table>\n",
       "</div>"
      ],
      "text/plain": [
       "        date  visitors_cumulative_a\n",
       "0 2019-08-01                    719\n",
       "1 2019-08-02                   1338\n",
       "2 2019-08-03                   1845"
      ]
     },
     "execution_count": 58,
     "metadata": {},
     "output_type": "execute_result"
    }
   ],
   "source": [
    "visitors_a_cumulative = visitors_a_daily.apply(\n",
    "    lambda x: visitors_a_daily[visitors_a_daily['date'] <= x['date']].agg(\n",
    "        {'date': 'max', 'visitors_per_date_a': 'sum'}\n",
    "    ),\n",
    "    axis=1\n",
    ")\n",
    "visitors_a_cumulative.columns = ['date', 'visitors_cumulative_a']\n",
    "visitors_a_cumulative.head(3)"
   ]
  },
  {
   "cell_type": "markdown",
   "metadata": {},
   "source": [
    "**Посетители по группе B.**\n",
    "\n",
    "Количество посетителей по дням. "
   ]
  },
  {
   "cell_type": "code",
   "execution_count": 59,
   "metadata": {},
   "outputs": [
    {
     "data": {
      "text/html": [
       "<div>\n",
       "<style scoped>\n",
       "    .dataframe tbody tr th:only-of-type {\n",
       "        vertical-align: middle;\n",
       "    }\n",
       "\n",
       "    .dataframe tbody tr th {\n",
       "        vertical-align: top;\n",
       "    }\n",
       "\n",
       "    .dataframe thead th {\n",
       "        text-align: right;\n",
       "    }\n",
       "</style>\n",
       "<table border=\"1\" class=\"dataframe\">\n",
       "  <thead>\n",
       "    <tr style=\"text-align: right;\">\n",
       "      <th></th>\n",
       "      <th>date</th>\n",
       "      <th>visitors_per_date_b</th>\n",
       "    </tr>\n",
       "  </thead>\n",
       "  <tbody>\n",
       "    <tr>\n",
       "      <th>31</th>\n",
       "      <td>2019-08-01</td>\n",
       "      <td>713</td>\n",
       "    </tr>\n",
       "    <tr>\n",
       "      <th>32</th>\n",
       "      <td>2019-08-02</td>\n",
       "      <td>581</td>\n",
       "    </tr>\n",
       "    <tr>\n",
       "      <th>33</th>\n",
       "      <td>2019-08-03</td>\n",
       "      <td>509</td>\n",
       "    </tr>\n",
       "  </tbody>\n",
       "</table>\n",
       "</div>"
      ],
      "text/plain": [
       "         date  visitors_per_date_b\n",
       "31 2019-08-01                  713\n",
       "32 2019-08-02                  581\n",
       "33 2019-08-03                  509"
      ]
     },
     "execution_count": 59,
     "metadata": {},
     "output_type": "execute_result"
    }
   ],
   "source": [
    "visitors_b_daily = visitors[visitors['group'] == 'B'][['date', 'visitors']]\n",
    "visitors_b_daily.columns = ['date', 'visitors_per_date_b']\n",
    "visitors_b_daily.head(3)"
   ]
  },
  {
   "cell_type": "markdown",
   "metadata": {},
   "source": [
    "Кумулятивное количество посетителей по дням. "
   ]
  },
  {
   "cell_type": "code",
   "execution_count": 60,
   "metadata": {},
   "outputs": [
    {
     "data": {
      "text/html": [
       "<div>\n",
       "<style scoped>\n",
       "    .dataframe tbody tr th:only-of-type {\n",
       "        vertical-align: middle;\n",
       "    }\n",
       "\n",
       "    .dataframe tbody tr th {\n",
       "        vertical-align: top;\n",
       "    }\n",
       "\n",
       "    .dataframe thead th {\n",
       "        text-align: right;\n",
       "    }\n",
       "</style>\n",
       "<table border=\"1\" class=\"dataframe\">\n",
       "  <thead>\n",
       "    <tr style=\"text-align: right;\">\n",
       "      <th></th>\n",
       "      <th>date</th>\n",
       "      <th>visitors_cumulative_b</th>\n",
       "    </tr>\n",
       "  </thead>\n",
       "  <tbody>\n",
       "    <tr>\n",
       "      <th>31</th>\n",
       "      <td>2019-08-01</td>\n",
       "      <td>713</td>\n",
       "    </tr>\n",
       "    <tr>\n",
       "      <th>32</th>\n",
       "      <td>2019-08-02</td>\n",
       "      <td>1294</td>\n",
       "    </tr>\n",
       "    <tr>\n",
       "      <th>33</th>\n",
       "      <td>2019-08-03</td>\n",
       "      <td>1803</td>\n",
       "    </tr>\n",
       "  </tbody>\n",
       "</table>\n",
       "</div>"
      ],
      "text/plain": [
       "         date  visitors_cumulative_b\n",
       "31 2019-08-01                    713\n",
       "32 2019-08-02                   1294\n",
       "33 2019-08-03                   1803"
      ]
     },
     "execution_count": 60,
     "metadata": {},
     "output_type": "execute_result"
    }
   ],
   "source": [
    "visitors_b_cumulative = visitors_b_daily.apply(\n",
    "    lambda x: visitors_b_daily[visitors_b_daily['date'] <= x['date']].agg(\n",
    "        {'date': 'max', 'visitors_per_date_b': 'sum'}\n",
    "    ),\n",
    "    axis=1\n",
    ")\n",
    "visitors_b_cumulative.columns = ['date', 'visitors_cumulative_b']\n",
    "visitors_b_cumulative.head(3)"
   ]
  },
  {
   "cell_type": "markdown",
   "metadata": {},
   "source": [
    "**Заказы группы A.**"
   ]
  },
  {
   "cell_type": "markdown",
   "metadata": {},
   "source": [
    "Заказы по дням."
   ]
  },
  {
   "cell_type": "code",
   "execution_count": 61,
   "metadata": {},
   "outputs": [
    {
     "data": {
      "text/html": [
       "<div>\n",
       "<style scoped>\n",
       "    .dataframe tbody tr th:only-of-type {\n",
       "        vertical-align: middle;\n",
       "    }\n",
       "\n",
       "    .dataframe tbody tr th {\n",
       "        vertical-align: top;\n",
       "    }\n",
       "\n",
       "    .dataframe thead th {\n",
       "        text-align: right;\n",
       "    }\n",
       "</style>\n",
       "<table border=\"1\" class=\"dataframe\">\n",
       "  <thead>\n",
       "    <tr style=\"text-align: right;\">\n",
       "      <th></th>\n",
       "      <th>date</th>\n",
       "      <th>orders_per_date_a</th>\n",
       "      <th>revenue_per_date_a</th>\n",
       "    </tr>\n",
       "  </thead>\n",
       "  <tbody>\n",
       "    <tr>\n",
       "      <th>28</th>\n",
       "      <td>2019-08-29</td>\n",
       "      <td>17</td>\n",
       "      <td>196300</td>\n",
       "    </tr>\n",
       "    <tr>\n",
       "      <th>29</th>\n",
       "      <td>2019-08-30</td>\n",
       "      <td>9</td>\n",
       "      <td>78180</td>\n",
       "    </tr>\n",
       "    <tr>\n",
       "      <th>30</th>\n",
       "      <td>2019-08-31</td>\n",
       "      <td>8</td>\n",
       "      <td>53243</td>\n",
       "    </tr>\n",
       "  </tbody>\n",
       "</table>\n",
       "</div>"
      ],
      "text/plain": [
       "         date  orders_per_date_a  revenue_per_date_a\n",
       "28 2019-08-29                 17              196300\n",
       "29 2019-08-30                  9               78180\n",
       "30 2019-08-31                  8               53243"
      ]
     },
     "execution_count": 61,
     "metadata": {},
     "output_type": "execute_result"
    }
   ],
   "source": [
    "orders_a_daily = (\n",
    "    orders[orders['group'] == 'A'][['date', 'transaction_id', 'visitor_id', 'revenue']]\n",
    "    .groupby('date', as_index=False)\n",
    "    .agg({'transaction_id': pd.Series.nunique, 'revenue': 'sum'})\n",
    ")\n",
    "orders_a_daily.columns = ['date', 'orders_per_date_a', 'revenue_per_date_a']\n",
    "orders_a_daily.tail(3)"
   ]
  },
  {
   "cell_type": "markdown",
   "metadata": {},
   "source": [
    "Заказы по дням кумулятивно, группа A. "
   ]
  },
  {
   "cell_type": "code",
   "execution_count": 62,
   "metadata": {},
   "outputs": [
    {
     "data": {
      "text/html": [
       "<div>\n",
       "<style scoped>\n",
       "    .dataframe tbody tr th:only-of-type {\n",
       "        vertical-align: middle;\n",
       "    }\n",
       "\n",
       "    .dataframe tbody tr th {\n",
       "        vertical-align: top;\n",
       "    }\n",
       "\n",
       "    .dataframe thead th {\n",
       "        text-align: right;\n",
       "    }\n",
       "</style>\n",
       "<table border=\"1\" class=\"dataframe\">\n",
       "  <thead>\n",
       "    <tr style=\"text-align: right;\">\n",
       "      <th></th>\n",
       "      <th>date</th>\n",
       "      <th>orders_cumulative_a</th>\n",
       "      <th>revenue_cumulative_a</th>\n",
       "    </tr>\n",
       "  </thead>\n",
       "  <tbody>\n",
       "    <tr>\n",
       "      <th>28</th>\n",
       "      <td>2019-08-29</td>\n",
       "      <td>451</td>\n",
       "      <td>3233233</td>\n",
       "    </tr>\n",
       "    <tr>\n",
       "      <th>29</th>\n",
       "      <td>2019-08-30</td>\n",
       "      <td>460</td>\n",
       "      <td>3311413</td>\n",
       "    </tr>\n",
       "    <tr>\n",
       "      <th>30</th>\n",
       "      <td>2019-08-31</td>\n",
       "      <td>468</td>\n",
       "      <td>3364656</td>\n",
       "    </tr>\n",
       "  </tbody>\n",
       "</table>\n",
       "</div>"
      ],
      "text/plain": [
       "         date  orders_cumulative_a  revenue_cumulative_a\n",
       "28 2019-08-29                  451               3233233\n",
       "29 2019-08-30                  460               3311413\n",
       "30 2019-08-31                  468               3364656"
      ]
     },
     "execution_count": 62,
     "metadata": {},
     "output_type": "execute_result"
    }
   ],
   "source": [
    "orders_a_cumulative = orders_a_daily.apply(\n",
    "    lambda x: orders_a_daily[orders_a_daily['date'] <= x['date']].agg(\n",
    "        {'date': 'max', 'orders_per_date_a': 'sum', 'revenue_per_date_a': 'sum'}\n",
    "    ),\n",
    "    axis=1\n",
    ").sort_values(by='date')\n",
    "orders_a_cumulative.columns = ['date', 'orders_cumulative_a', 'revenue_cumulative_a']\n",
    "orders_a_cumulative.tail(3)"
   ]
  },
  {
   "cell_type": "markdown",
   "metadata": {},
   "source": [
    "**Заказы группы B.**"
   ]
  },
  {
   "cell_type": "markdown",
   "metadata": {},
   "source": [
    "Заказы по дням."
   ]
  },
  {
   "cell_type": "code",
   "execution_count": 63,
   "metadata": {},
   "outputs": [
    {
     "data": {
      "text/html": [
       "<div>\n",
       "<style scoped>\n",
       "    .dataframe tbody tr th:only-of-type {\n",
       "        vertical-align: middle;\n",
       "    }\n",
       "\n",
       "    .dataframe tbody tr th {\n",
       "        vertical-align: top;\n",
       "    }\n",
       "\n",
       "    .dataframe thead th {\n",
       "        text-align: right;\n",
       "    }\n",
       "</style>\n",
       "<table border=\"1\" class=\"dataframe\">\n",
       "  <thead>\n",
       "    <tr style=\"text-align: right;\">\n",
       "      <th></th>\n",
       "      <th>date</th>\n",
       "      <th>orders_per_date_b</th>\n",
       "      <th>revenue_per_date_b</th>\n",
       "    </tr>\n",
       "  </thead>\n",
       "  <tbody>\n",
       "    <tr>\n",
       "      <th>28</th>\n",
       "      <td>2019-08-29</td>\n",
       "      <td>15</td>\n",
       "      <td>106100</td>\n",
       "    </tr>\n",
       "    <tr>\n",
       "      <th>29</th>\n",
       "      <td>2019-08-30</td>\n",
       "      <td>21</td>\n",
       "      <td>209223</td>\n",
       "    </tr>\n",
       "    <tr>\n",
       "      <th>30</th>\n",
       "      <td>2019-08-31</td>\n",
       "      <td>17</td>\n",
       "      <td>113139</td>\n",
       "    </tr>\n",
       "  </tbody>\n",
       "</table>\n",
       "</div>"
      ],
      "text/plain": [
       "         date  orders_per_date_b  revenue_per_date_b\n",
       "28 2019-08-29                 15              106100\n",
       "29 2019-08-30                 21              209223\n",
       "30 2019-08-31                 17              113139"
      ]
     },
     "execution_count": 63,
     "metadata": {},
     "output_type": "execute_result"
    }
   ],
   "source": [
    "orders_b_daily = (\n",
    "    orders[orders['group'] == 'B'][['date', 'transaction_id', 'visitor_id', 'revenue']]\n",
    "    .groupby('date', as_index=False)\n",
    "    .agg({'transaction_id': pd.Series.nunique, 'revenue':'sum'})\n",
    ")\n",
    "orders_b_daily.columns = ['date', 'orders_per_date_b', 'revenue_per_date_b']\n",
    "orders_b_daily.tail(3)"
   ]
  },
  {
   "cell_type": "markdown",
   "metadata": {},
   "source": [
    "Заказы по дням кумулятивно, группа B. "
   ]
  },
  {
   "cell_type": "code",
   "execution_count": 64,
   "metadata": {},
   "outputs": [
    {
     "data": {
      "text/html": [
       "<div>\n",
       "<style scoped>\n",
       "    .dataframe tbody tr th:only-of-type {\n",
       "        vertical-align: middle;\n",
       "    }\n",
       "\n",
       "    .dataframe tbody tr th {\n",
       "        vertical-align: top;\n",
       "    }\n",
       "\n",
       "    .dataframe thead th {\n",
       "        text-align: right;\n",
       "    }\n",
       "</style>\n",
       "<table border=\"1\" class=\"dataframe\">\n",
       "  <thead>\n",
       "    <tr style=\"text-align: right;\">\n",
       "      <th></th>\n",
       "      <th>date</th>\n",
       "      <th>orders_cumulative_b</th>\n",
       "      <th>revenue_cumulative_b</th>\n",
       "    </tr>\n",
       "  </thead>\n",
       "  <tbody>\n",
       "    <tr>\n",
       "      <th>28</th>\n",
       "      <td>2019-08-29</td>\n",
       "      <td>510</td>\n",
       "      <td>4746610</td>\n",
       "    </tr>\n",
       "    <tr>\n",
       "      <th>29</th>\n",
       "      <td>2019-08-30</td>\n",
       "      <td>531</td>\n",
       "      <td>4955833</td>\n",
       "    </tr>\n",
       "    <tr>\n",
       "      <th>30</th>\n",
       "      <td>2019-08-31</td>\n",
       "      <td>548</td>\n",
       "      <td>5068972</td>\n",
       "    </tr>\n",
       "  </tbody>\n",
       "</table>\n",
       "</div>"
      ],
      "text/plain": [
       "         date  orders_cumulative_b  revenue_cumulative_b\n",
       "28 2019-08-29                  510               4746610\n",
       "29 2019-08-30                  531               4955833\n",
       "30 2019-08-31                  548               5068972"
      ]
     },
     "execution_count": 64,
     "metadata": {},
     "output_type": "execute_result"
    }
   ],
   "source": [
    "orders_b_cumulative = orders_b_daily.apply(\n",
    "    lambda x: orders_b_daily[orders_b_daily['date'] <= x['date']].agg(\n",
    "        {'date': 'max', 'orders_per_date_b': 'sum', 'revenue_per_date_b': 'sum'}\n",
    "    ),\n",
    "    axis=1\n",
    ").sort_values(by=['date'])\n",
    "orders_b_cumulative.columns = ['date', 'orders_cumulative_b', 'revenue_cumulative_b']\n",
    "orders_b_cumulative.tail(3)"
   ]
  },
  {
   "cell_type": "markdown",
   "metadata": {},
   "source": [
    "**Сводные данные для проверки гипотез**"
   ]
  },
  {
   "cell_type": "code",
   "execution_count": 65,
   "metadata": {},
   "outputs": [
    {
     "data": {
      "text/html": [
       "<div>\n",
       "<style scoped>\n",
       "    .dataframe tbody tr th:only-of-type {\n",
       "        vertical-align: middle;\n",
       "    }\n",
       "\n",
       "    .dataframe tbody tr th {\n",
       "        vertical-align: top;\n",
       "    }\n",
       "\n",
       "    .dataframe thead th {\n",
       "        text-align: right;\n",
       "    }\n",
       "</style>\n",
       "<table border=\"1\" class=\"dataframe\">\n",
       "  <thead>\n",
       "    <tr style=\"text-align: right;\">\n",
       "      <th></th>\n",
       "      <th>date</th>\n",
       "      <th>orders_per_date_a</th>\n",
       "      <th>revenue_per_date_a</th>\n",
       "      <th>orders_per_date_b</th>\n",
       "      <th>revenue_per_date_b</th>\n",
       "      <th>orders_cumulative_a</th>\n",
       "      <th>revenue_cumulative_a</th>\n",
       "      <th>orders_cumulative_b</th>\n",
       "      <th>revenue_cumulative_b</th>\n",
       "      <th>visitors_per_date_a</th>\n",
       "      <th>visitors_per_date_b</th>\n",
       "      <th>visitors_cumulative_a</th>\n",
       "      <th>visitors_cumulative_b</th>\n",
       "    </tr>\n",
       "  </thead>\n",
       "  <tbody>\n",
       "    <tr>\n",
       "      <th>28</th>\n",
       "      <td>2019-08-29</td>\n",
       "      <td>17</td>\n",
       "      <td>196300</td>\n",
       "      <td>15</td>\n",
       "      <td>106100</td>\n",
       "      <td>451</td>\n",
       "      <td>3233233</td>\n",
       "      <td>510</td>\n",
       "      <td>4746610</td>\n",
       "      <td>577</td>\n",
       "      <td>531</td>\n",
       "      <td>17547</td>\n",
       "      <td>17708</td>\n",
       "    </tr>\n",
       "    <tr>\n",
       "      <th>29</th>\n",
       "      <td>2019-08-30</td>\n",
       "      <td>9</td>\n",
       "      <td>78180</td>\n",
       "      <td>21</td>\n",
       "      <td>209223</td>\n",
       "      <td>460</td>\n",
       "      <td>3311413</td>\n",
       "      <td>531</td>\n",
       "      <td>4955833</td>\n",
       "      <td>490</td>\n",
       "      <td>490</td>\n",
       "      <td>18037</td>\n",
       "      <td>18198</td>\n",
       "    </tr>\n",
       "    <tr>\n",
       "      <th>30</th>\n",
       "      <td>2019-08-31</td>\n",
       "      <td>8</td>\n",
       "      <td>53243</td>\n",
       "      <td>17</td>\n",
       "      <td>113139</td>\n",
       "      <td>468</td>\n",
       "      <td>3364656</td>\n",
       "      <td>548</td>\n",
       "      <td>5068972</td>\n",
       "      <td>699</td>\n",
       "      <td>718</td>\n",
       "      <td>18736</td>\n",
       "      <td>18916</td>\n",
       "    </tr>\n",
       "  </tbody>\n",
       "</table>\n",
       "</div>"
      ],
      "text/plain": [
       "         date  orders_per_date_a  revenue_per_date_a  orders_per_date_b  \\\n",
       "28 2019-08-29                 17              196300                 15   \n",
       "29 2019-08-30                  9               78180                 21   \n",
       "30 2019-08-31                  8               53243                 17   \n",
       "\n",
       "    revenue_per_date_b  orders_cumulative_a  revenue_cumulative_a  \\\n",
       "28              106100                  451               3233233   \n",
       "29              209223                  460               3311413   \n",
       "30              113139                  468               3364656   \n",
       "\n",
       "    orders_cumulative_b  revenue_cumulative_b  visitors_per_date_a  \\\n",
       "28                  510               4746610                  577   \n",
       "29                  531               4955833                  490   \n",
       "30                  548               5068972                  699   \n",
       "\n",
       "    visitors_per_date_b  visitors_cumulative_a  visitors_cumulative_b  \n",
       "28                  531                  17547                  17708  \n",
       "29                  490                  18037                  18198  \n",
       "30                  718                  18736                  18916  "
      ]
     },
     "execution_count": 65,
     "metadata": {},
     "output_type": "execute_result"
    }
   ],
   "source": [
    "data = (\n",
    "    orders_a_daily.merge(orders_b_daily, on='date', how='left')\n",
    "    .merge(orders_a_cumulative, on='date', how='left')\n",
    "    .merge(orders_b_cumulative, on='date', how='left')\n",
    "    .merge(visitors_a_daily, on='date', how='left')\n",
    "    .merge(visitors_b_daily, on='date', how='left')\n",
    "    .merge(visitors_a_cumulative, on='date', how='left')\n",
    "    .merge(visitors_b_cumulative, on='date', how='left')\n",
    ")\n",
    "data.tail(3)"
   ]
  },
  {
   "cell_type": "markdown",
   "metadata": {},
   "source": [
    "Напомним назначение столбцов данных:\n",
    "- `date` - дата;\n",
    "- `orders_per_date_a` - количество заказов в выбранную дату в группе А;\n",
    "- `revenue_per_date_a` - суммарная выручка в выбранную дату в группе А;\n",
    "- `orders_per_date_b` - количество заказов в выбранную дату в группе В;\n",
    "- `revenue_per_date_b` - суммарная выручка в выбранную дату в группе В;\n",
    "- `orders_cumulative_a` - суммарное число заказов до выбранной даты включительно в группе А;\n",
    "- `revenue_cumulative_a` - суммарная выручка до выбранной даты включительно в группе А;\n",
    "- `orders_cumulative_b` - суммарное число заказов до выбранной даты включительно в группе В;\n",
    "- `revenue_cumulative_b` - суммарная выручка до выбранной даты включительно в группе В;\n",
    "- `visitors_per_date_a` - количество пользователей в выбранную дату в группе А;\n",
    "- `visitors_per_date_b` - количество пользователей в выбранную дату в группе В;\n",
    "- `visitors_cumulative_a` - количество пользователей до выбранной даты включительно в группе А;\n",
    "- `visitors_cumulative_b` - количество пользователей до выбранной даты включительно в группе В."
   ]
  },
  {
   "cell_type": "markdown",
   "metadata": {},
   "source": [
    "Посчитаем количество размещенных заказов для каждого пользователя по группам."
   ]
  },
  {
   "cell_type": "markdown",
   "metadata": {},
   "source": [
    "Группа A."
   ]
  },
  {
   "cell_type": "code",
   "execution_count": 66,
   "metadata": {},
   "outputs": [
    {
     "data": {
      "text/html": [
       "<div>\n",
       "<style scoped>\n",
       "    .dataframe tbody tr th:only-of-type {\n",
       "        vertical-align: middle;\n",
       "    }\n",
       "\n",
       "    .dataframe tbody tr th {\n",
       "        vertical-align: top;\n",
       "    }\n",
       "\n",
       "    .dataframe thead th {\n",
       "        text-align: right;\n",
       "    }\n",
       "</style>\n",
       "<table border=\"1\" class=\"dataframe\">\n",
       "  <thead>\n",
       "    <tr style=\"text-align: right;\">\n",
       "      <th></th>\n",
       "      <th>user_id</th>\n",
       "      <th>orders</th>\n",
       "    </tr>\n",
       "  </thead>\n",
       "  <tbody>\n",
       "    <tr>\n",
       "      <th>442</th>\n",
       "      <td>4243832526</td>\n",
       "      <td>1</td>\n",
       "    </tr>\n",
       "    <tr>\n",
       "      <th>443</th>\n",
       "      <td>4259830713</td>\n",
       "      <td>1</td>\n",
       "    </tr>\n",
       "    <tr>\n",
       "      <th>444</th>\n",
       "      <td>4278982564</td>\n",
       "      <td>1</td>\n",
       "    </tr>\n",
       "  </tbody>\n",
       "</table>\n",
       "</div>"
      ],
      "text/plain": [
       "        user_id  orders\n",
       "442  4243832526       1\n",
       "443  4259830713       1\n",
       "444  4278982564       1"
      ]
     },
     "execution_count": 66,
     "metadata": {},
     "output_type": "execute_result"
    }
   ],
   "source": [
    "orders_by_users_a = (\n",
    "    orders[orders['group'] == 'A']\n",
    "    .groupby('visitor_id', as_index=False)\n",
    "    .agg({'transaction_id': pd.Series.nunique})\n",
    ")\n",
    "orders_by_users_a.columns = ['user_id', 'orders']\n",
    "orders_by_users_a.tail(3)"
   ]
  },
  {
   "cell_type": "markdown",
   "metadata": {},
   "source": [
    "Группа B."
   ]
  },
  {
   "cell_type": "code",
   "execution_count": 67,
   "metadata": {},
   "outputs": [
    {
     "data": {
      "text/html": [
       "<div>\n",
       "<style scoped>\n",
       "    .dataframe tbody tr th:only-of-type {\n",
       "        vertical-align: middle;\n",
       "    }\n",
       "\n",
       "    .dataframe tbody tr th {\n",
       "        vertical-align: top;\n",
       "    }\n",
       "\n",
       "    .dataframe thead th {\n",
       "        text-align: right;\n",
       "    }\n",
       "</style>\n",
       "<table border=\"1\" class=\"dataframe\">\n",
       "  <thead>\n",
       "    <tr style=\"text-align: right;\">\n",
       "      <th></th>\n",
       "      <th>user_id</th>\n",
       "      <th>orders</th>\n",
       "    </tr>\n",
       "  </thead>\n",
       "  <tbody>\n",
       "    <tr>\n",
       "      <th>525</th>\n",
       "      <td>4279090005</td>\n",
       "      <td>1</td>\n",
       "    </tr>\n",
       "    <tr>\n",
       "      <th>526</th>\n",
       "      <td>4281247801</td>\n",
       "      <td>1</td>\n",
       "    </tr>\n",
       "    <tr>\n",
       "      <th>527</th>\n",
       "      <td>4283872382</td>\n",
       "      <td>1</td>\n",
       "    </tr>\n",
       "  </tbody>\n",
       "</table>\n",
       "</div>"
      ],
      "text/plain": [
       "        user_id  orders\n",
       "525  4279090005       1\n",
       "526  4281247801       1\n",
       "527  4283872382       1"
      ]
     },
     "execution_count": 67,
     "metadata": {},
     "output_type": "execute_result"
    }
   ],
   "source": [
    "orders_by_users_b = (\n",
    "    orders[orders['group'] == 'B']\n",
    "    .groupby('visitor_id', as_index=False)\n",
    "    .agg({'transaction_id': pd.Series.nunique})\n",
    ")\n",
    "orders_by_users_b.columns = ['user_id', 'orders']\n",
    "orders_by_users_b.tail(3)"
   ]
  },
  {
   "cell_type": "markdown",
   "metadata": {},
   "source": [
    "Объявим переменные sample_a и sample_b, в которых пользователям из разных групп будет соответствовать число заказов. Тем, кто ничего не заказал, будут соответствовать нули. Это нужно, что подготовить выборки к проверке критерием Манна-Утни. "
   ]
  },
  {
   "cell_type": "markdown",
   "metadata": {},
   "source": [
    "Так как в исходных данных нет id посетителей за каждый день и невозможно вычислить достоверно количество уникальных посетителей без покупок, то примем, что количество посетителей без покупок равно \"суммарное количество посетителей за все даты теста\" минус \"число уникальных посетителей, разместивших хотя бы один заказ\". "
   ]
  },
  {
   "cell_type": "code",
   "execution_count": 68,
   "metadata": {},
   "outputs": [
    {
     "data": {
      "text/plain": [
       "0        1\n",
       "1        1\n",
       "2        1\n",
       "3        1\n",
       "4        1\n",
       "        ..\n",
       "18286    0\n",
       "18287    0\n",
       "18288    0\n",
       "18289    0\n",
       "18290    0\n",
       "Length: 18736, dtype: int64"
      ]
     },
     "execution_count": 68,
     "metadata": {},
     "output_type": "execute_result"
    }
   ],
   "source": [
    "sample_a = pd.concat(\n",
    "    [\n",
    "        orders_by_users_a['orders'],\n",
    "        pd.Series(\n",
    "            0,\n",
    "            index=np.arange(data['visitors_per_date_a'].sum() - len(orders_by_users_a['orders']))\n",
    "        )\n",
    "    ],\n",
    "    axis=0\n",
    ")\n",
    "sample_a"
   ]
  },
  {
   "cell_type": "code",
   "execution_count": 69,
   "metadata": {},
   "outputs": [
    {
     "data": {
      "text/plain": [
       "0        1\n",
       "1        1\n",
       "2        1\n",
       "3        1\n",
       "4        1\n",
       "        ..\n",
       "18383    0\n",
       "18384    0\n",
       "18385    0\n",
       "18386    0\n",
       "18387    0\n",
       "Length: 18916, dtype: int64"
      ]
     },
     "execution_count": 69,
     "metadata": {},
     "output_type": "execute_result"
    }
   ],
   "source": [
    "sample_b = pd.concat(\n",
    "    [\n",
    "        orders_by_users_b['orders'],\n",
    "        pd.Series(\n",
    "            0,\n",
    "            index=np.arange(data['visitors_per_date_b'].sum() - len(orders_by_users_b['orders']))\n",
    "        )\n",
    "    ],\n",
    "    axis=0\n",
    ")\n",
    "sample_b"
   ]
  },
  {
   "cell_type": "markdown",
   "metadata": {},
   "source": [
    "Зададим критерий статистической значимости равный 5%."
   ]
  },
  {
   "cell_type": "code",
   "execution_count": 70,
   "metadata": {},
   "outputs": [],
   "source": [
    "alpha = 0.05"
   ]
  },
  {
   "cell_type": "markdown",
   "metadata": {},
   "source": [
    "Применим критерий Манна-Уитни для проверки гипотез."
   ]
  },
  {
   "cell_type": "code",
   "execution_count": 71,
   "metadata": {},
   "outputs": [
    {
     "name": "stdout",
     "output_type": "stream",
     "text": [
      "p_value:  0.011\n",
      "Отвергаем нулевую гипотезу. Нет оснований считать, что вычисленное по \"сырым\" данным \"среднее количество заказов \n",
      "на посетителя\" статистически значимо совпадает между группами.\n"
     ]
    }
   ],
   "source": [
    "p_value = stats.mannwhitneyu(sample_a, sample_b)[1]\n",
    "print('p_value: ', round(p_value, 3))\n",
    "if p_value < alpha:\n",
    "    print('Отвергаем нулевую гипотезу. Нет оснований считать, что вычисленное по \"сырым\" данным ' \n",
    "           '\"среднее количество заказов \\nна посетителя\" статистически значимо совпадает между группами.')\n",
    "else:\n",
    "    print('Не можем отвергнуть нулевую гипотезу о равенстве среднее количество заказов между группами.')"
   ]
  },
  {
   "cell_type": "markdown",
   "metadata": {},
   "source": [
    "Выведем относительный прирост числа заказов группы B."
   ]
  },
  {
   "cell_type": "code",
   "execution_count": 72,
   "metadata": {},
   "outputs": [
    {
     "name": "stdout",
     "output_type": "stream",
     "text": [
      "16.0%\n"
     ]
    }
   ],
   "source": [
    "print('{0:.1%}'.format(sample_b.mean() / sample_a.mean() - 1))"
   ]
  },
  {
   "cell_type": "markdown",
   "metadata": {
    "editable": true,
    "slideshow": {
     "slide_type": ""
    },
    "tags": []
   },
   "source": [
    "#### Вывод. Количество заказов на посетителя по «сырым» данным"
   ]
  },
  {
   "cell_type": "markdown",
   "metadata": {},
   "source": [
    "По \"сырым\" данным есть прирост 16% среднего числа заказов на посетителя для группы B. <br>\n",
    "Нет оснований считать, что вычисленное по \"сырым\" данным \"среднее количество заказов <br>\n",
    "на посетителя\" статистически значимо совпадает между группами A/B-теста (p-значение 0.011). \n",
    "\n",
    "Значит добавление формы подписки на все основные страницы, чтобы собрать базу клиентов для email-рассылок, позволяет увеличить среднее количество заказов на посетителя. "
   ]
  },
  {
   "cell_type": "markdown",
   "metadata": {
    "editable": true,
    "slideshow": {
     "slide_type": ""
    },
    "tags": []
   },
   "source": [
    "#### Средний чек заказа по «сырым» данным"
   ]
  },
  {
   "cell_type": "markdown",
   "metadata": {},
   "source": [
    "Посчитаем статистическую значимость различий в среднем чеке заказа между группами по «сырым» данным - без удаления аномальных пользователей.\n",
    "\n",
    "Сформулируем гипотезы. \n",
    "- Нулевая: различий в среднем чеке между группами нет;\n",
    "- Альтернативная: различия в среднем чеке между группами есть.\n",
    "\n",
    "Для вычисления передадим критерию Манна-Уитни данные о выручке."
   ]
  },
  {
   "cell_type": "code",
   "execution_count": 73,
   "metadata": {},
   "outputs": [
    {
     "name": "stdout",
     "output_type": "stream",
     "text": [
      "p-значение:  0.829\n",
      "Не можем отвергнуть нулевую гипотезу об отсутствии\n",
      " статистически значимого различия в среднем чеке между группами A/B-теста.\n"
     ]
    }
   ],
   "source": [
    "p_value = stats.mannwhitneyu(\n",
    "    orders[orders['group'] == 'A']['revenue'],\n",
    "    orders[orders['group'] == 'B']['revenue']\n",
    ")[1]\n",
    "print('p-значение: ', '{0:.3f}'.format(p_value))\n",
    "if p_value < alpha:\n",
    "    print('Отвергаем нулевую гипотезу в пользу альтернативной: по выборочным данным',\n",
    "          'различий в среднем чеке между группами есть.')\n",
    "else:\n",
    "    print('Не можем отвергнуть нулевую гипотезу об отсутствии\\n',\n",
    "          'статистически значимого различия в среднем чеке между группами A/B-теста.')"
   ]
  },
  {
   "cell_type": "markdown",
   "metadata": {},
   "source": [
    "Выведем относительный прирост среднего чека группы B."
   ]
  },
  {
   "cell_type": "code",
   "execution_count": 74,
   "metadata": {},
   "outputs": [
    {
     "name": "stdout",
     "output_type": "stream",
     "text": [
      "28.7%\n"
     ]
    }
   ],
   "source": [
    "print('{0:.1%}'.format(\n",
    "                        orders[orders['group'] == 'B']['revenue'].mean() \n",
    "                        / orders[orders['group'] == 'A']['revenue'].mean()\n",
    "                        -1 \n",
    "                )\n",
    ")"
   ]
  },
  {
   "cell_type": "markdown",
   "metadata": {
    "editable": true,
    "slideshow": {
     "slide_type": ""
    },
    "tags": []
   },
   "source": [
    "#### Вывод. Средний чек заказа по «сырым» данным"
   ]
  },
  {
   "cell_type": "markdown",
   "metadata": {},
   "source": [
    "Не получилось отвергнуть нулевую гипотезу об отсутствии статистически значимого различия в среднем чеке между группами (p-значение 0.829). Значит, в большинстве своем средний чек между группами A и B соизмерим. \n",
    "\n",
    "При этом относительный прирост среднего чека для группы B на \"сырых\" данных составляет 28.7%. \n",
    "\n",
    "Среднее подвержено влиянию выбросов. Вероятно, аномалии повлияли на расчет относительного прироста среднего чека. <br> Ниже проведем расчет без аномальных данных.\n",
    "\n",
    "Но вместе с тем прирост среднего чека на 28.7% при увеличении среднего числа заказов на посетителя на 16% - это хорошая тенденция. "
   ]
  },
  {
   "cell_type": "markdown",
   "metadata": {
    "editable": true,
    "slideshow": {
     "slide_type": ""
    },
    "tags": []
   },
   "source": [
    "#### Среднее количество заказов на посетителя по «очищенным» данным"
   ]
  },
  {
   "cell_type": "markdown",
   "metadata": {
    "editable": true,
    "slideshow": {
     "slide_type": ""
    },
    "tags": []
   },
   "source": [
    "Приступим к анализу аномалий. \n",
    "\n",
    "К аномальным пользователям отнесем тех, кто разместил заказы от 26785 руб. либо от 2 и более заказов. Так мы уберем до 5% пользователей, которые создали дорогие заказы, и до 1% пользователей, которые создали несколько заказов. "
   ]
  },
  {
   "cell_type": "markdown",
   "metadata": {},
   "source": [
    "Пользователи, которые создали аномально дорогие заказы. "
   ]
  },
  {
   "cell_type": "code",
   "execution_count": 75,
   "metadata": {},
   "outputs": [
    {
     "data": {
      "text/plain": [
       "1137     759473111\n",
       "1142    2606908679\n",
       "1196    2108080724\n",
       "Name: visitor_id, dtype: int64"
      ]
     },
     "execution_count": 75,
     "metadata": {},
     "output_type": "execute_result"
    }
   ],
   "source": [
    "users_with_expensive_orders = orders[orders['revenue'] >= 26785]['visitor_id']\n",
    "users_with_expensive_orders.tail(3)"
   ]
  },
  {
   "cell_type": "markdown",
   "metadata": {},
   "source": [
    "Аномально дорогие заказы."
   ]
  },
  {
   "cell_type": "code",
   "execution_count": 76,
   "metadata": {},
   "outputs": [
    {
     "data": {
      "text/html": [
       "<div>\n",
       "<style scoped>\n",
       "    .dataframe tbody tr th:only-of-type {\n",
       "        vertical-align: middle;\n",
       "    }\n",
       "\n",
       "    .dataframe tbody tr th {\n",
       "        vertical-align: top;\n",
       "    }\n",
       "\n",
       "    .dataframe thead th {\n",
       "        text-align: right;\n",
       "    }\n",
       "</style>\n",
       "<table border=\"1\" class=\"dataframe\">\n",
       "  <thead>\n",
       "    <tr style=\"text-align: right;\">\n",
       "      <th></th>\n",
       "      <th>transaction_id</th>\n",
       "      <th>visitor_id</th>\n",
       "      <th>date</th>\n",
       "      <th>revenue</th>\n",
       "      <th>group</th>\n",
       "    </tr>\n",
       "  </thead>\n",
       "  <tbody>\n",
       "    <tr>\n",
       "      <th>425</th>\n",
       "      <td>590470918</td>\n",
       "      <td>1920142716</td>\n",
       "      <td>2019-08-19</td>\n",
       "      <td>1294500</td>\n",
       "      <td>B</td>\n",
       "    </tr>\n",
       "    <tr>\n",
       "      <th>1196</th>\n",
       "      <td>3936777065</td>\n",
       "      <td>2108080724</td>\n",
       "      <td>2019-08-15</td>\n",
       "      <td>202740</td>\n",
       "      <td>B</td>\n",
       "    </tr>\n",
       "    <tr>\n",
       "      <th>1136</th>\n",
       "      <td>666610489</td>\n",
       "      <td>1307669133</td>\n",
       "      <td>2019-08-13</td>\n",
       "      <td>92550</td>\n",
       "      <td>A</td>\n",
       "    </tr>\n",
       "    <tr>\n",
       "      <th>744</th>\n",
       "      <td>3668308183</td>\n",
       "      <td>888512513</td>\n",
       "      <td>2019-08-27</td>\n",
       "      <td>86620</td>\n",
       "      <td>B</td>\n",
       "    </tr>\n",
       "    <tr>\n",
       "      <th>743</th>\n",
       "      <td>3603576309</td>\n",
       "      <td>4133034833</td>\n",
       "      <td>2019-08-09</td>\n",
       "      <td>67990</td>\n",
       "      <td>A</td>\n",
       "    </tr>\n",
       "  </tbody>\n",
       "</table>\n",
       "</div>"
      ],
      "text/plain": [
       "      transaction_id  visitor_id       date  revenue group\n",
       "425        590470918  1920142716 2019-08-19  1294500     B\n",
       "1196      3936777065  2108080724 2019-08-15   202740     B\n",
       "1136       666610489  1307669133 2019-08-13    92550     A\n",
       "744       3668308183   888512513 2019-08-27    86620     B\n",
       "743       3603576309  4133034833 2019-08-09    67990     A"
      ]
     },
     "execution_count": 76,
     "metadata": {},
     "output_type": "execute_result"
    }
   ],
   "source": [
    "(orders[orders['visitor_id']\n",
    "        .isin(users_with_expensive_orders)]\n",
    "        .sort_values(by=['revenue', 'date'], ascending=False)\n",
    "        .head()\n",
    ")"
   ]
  },
  {
   "cell_type": "markdown",
   "metadata": {},
   "source": [
    "Примечательный заказ в группе B на сумму 1.2 млн. руб. при среднем чеке до 25 тыс. руб. Дата этого заказа — 19 августа 2019 года. "
   ]
  },
  {
   "cell_type": "markdown",
   "metadata": {},
   "source": [
    "Пользователи, которые создали аномальное количество заказов. "
   ]
  },
  {
   "cell_type": "code",
   "execution_count": 77,
   "metadata": {},
   "outputs": [
    {
     "data": {
      "text/plain": [
       "486    3935952912\n",
       "489    3941503500\n",
       "507    4134830387\n",
       "Name: user_id, dtype: int64"
      ]
     },
     "execution_count": 77,
     "metadata": {},
     "output_type": "execute_result"
    }
   ],
   "source": [
    "users_with_many_orders = pd.concat([orders_by_users_a[orders_by_users_a['orders'] >= 2],\n",
    "                                    orders_by_users_b[orders_by_users_b['orders'] >= 2]],\n",
    "                                   axis=0)['user_id']\n",
    "users_with_many_orders.tail(3)"
   ]
  },
  {
   "cell_type": "markdown",
   "metadata": {},
   "source": [
    "Перечень пользователей, создавших аномальные заказы. "
   ]
  },
  {
   "cell_type": "code",
   "execution_count": 78,
   "metadata": {},
   "outputs": [
    {
     "name": "stdout",
     "output_type": "stream",
     "text": [
      "430    4109358064\n",
      "743    4133034833\n",
      "507    4134830387\n",
      "dtype: int64 \n",
      "Количество аномальных пользователей: 86\n"
     ]
    }
   ],
   "source": [
    "abnormal_users = (\n",
    "    pd.concat([users_with_expensive_orders, users_with_many_orders], axis=0)\n",
    "    .drop_duplicates()\n",
    "    .sort_values()\n",
    ")    \n",
    "print(abnormal_users.tail(3), '\\nКоличество аномальных пользователей:', abnormal_users.shape[0])"
   ]
  },
  {
   "cell_type": "markdown",
   "metadata": {},
   "source": [
    "Всего в выборке 86 пользователей, которые создали заказы стоимостью от 26785 руб. либо от 2 и более заказов. "
   ]
  },
  {
   "cell_type": "markdown",
   "metadata": {},
   "source": [
    "Узнаем, как действия аномальных пользователей повлияли на результаты A/B-теста.<br> \n",
    "Посчитаем статистическая значимость различий в среднем количестве заказов на посетителя между группами по «очищенным» данным."
   ]
  },
  {
   "cell_type": "markdown",
   "metadata": {},
   "source": [
    "Сначала подготовим выборки количества заказов по пользователям и по группам теста. \n",
    "\n",
    "Группа А."
   ]
  },
  {
   "cell_type": "code",
   "execution_count": 79,
   "metadata": {},
   "outputs": [
    {
     "data": {
      "text/plain": [
       "0        1\n",
       "1        1\n",
       "2        1\n",
       "3        1\n",
       "4        1\n",
       "        ..\n",
       "18286    0\n",
       "18287    0\n",
       "18288    0\n",
       "18289    0\n",
       "18290    0\n",
       "Name: orders, Length: 18697, dtype: int64"
      ]
     },
     "execution_count": 79,
     "metadata": {},
     "output_type": "execute_result"
    }
   ],
   "source": [
    "sample_a_filtered = pd.concat(\n",
    "    [\n",
    "        orders_by_users_a[np.logical_not(orders_by_users_a['user_id'].isin(abnormal_users))]['orders'],\n",
    "        pd.Series(\n",
    "            0,\n",
    "            index=np.arange(\n",
    "                data['visitors_per_date_a'].sum()\n",
    "                - len(orders_by_users_a['orders'])\n",
    "            ),\n",
    "            name='orders'\n",
    "        )\n",
    "        \n",
    "    ],\n",
    "    axis=0\n",
    ")\n",
    "sample_a_filtered"
   ]
  },
  {
   "cell_type": "markdown",
   "metadata": {},
   "source": [
    "Группа B."
   ]
  },
  {
   "cell_type": "code",
   "execution_count": 80,
   "metadata": {},
   "outputs": [
    {
     "data": {
      "text/plain": [
       "0        1\n",
       "1        1\n",
       "2        1\n",
       "3        1\n",
       "4        1\n",
       "        ..\n",
       "18383    0\n",
       "18384    0\n",
       "18385    0\n",
       "18386    0\n",
       "18387    0\n",
       "Name: orders, Length: 18869, dtype: int64"
      ]
     },
     "execution_count": 80,
     "metadata": {},
     "output_type": "execute_result"
    }
   ],
   "source": [
    "sample_b_filtered = pd.concat(\n",
    "    [\n",
    "        orders_by_users_b[np.logical_not(orders_by_users_b['user_id'].isin(abnormal_users))]['orders'],\n",
    "        pd.Series(\n",
    "            0,\n",
    "            index=np.arange(data['visitors_per_date_b'].sum() - len(orders_by_users_b['orders'])),\n",
    "            name='orders'\n",
    "        ),\n",
    "    ],\n",
    "    axis=0\n",
    ")\n",
    "sample_b_filtered"
   ]
  },
  {
   "cell_type": "markdown",
   "metadata": {},
   "source": [
    "Определим гипотезы:\n",
    "- Нулевая гипотеза: нет отличий в среднем количестве заказов между выборками по \"очищенным\" данным; \n",
    "- Альтернативная: среднее количество заказов между выборками по \"очищенным\" данным не равно. "
   ]
  },
  {
   "cell_type": "markdown",
   "metadata": {},
   "source": [
    "Применим статистический критерий Манна-Уитни к полученным выборкам. "
   ]
  },
  {
   "cell_type": "code",
   "execution_count": 81,
   "metadata": {},
   "outputs": [
    {
     "name": "stdout",
     "output_type": "stream",
     "text": [
      "p-значение:  0.016\n",
      "Отвергаем нулевую гипотезу. Среднее количество заказов между выборками по \"очищенным\" данным не равно.\n"
     ]
    }
   ],
   "source": [
    "p_value = stats.mannwhitneyu(sample_a_filtered, sample_b_filtered)[1]\n",
    "print('p-значение: ', '{0:.3f}'.format(p_value))\n",
    "if p_value < alpha:\n",
    "    print('Отвергаем нулевую гипотезу. Среднее количество заказов между выборками по \"очищенным\" данным не равно.')\n",
    "else:\n",
    "    print('Не можем отвергнуть нулевую гипотезу.\\n' \n",
    "          'Отличий в среднем количестве заказов между выборками по \"очищенным\" данным нет. ')"
   ]
  },
  {
   "cell_type": "markdown",
   "metadata": {},
   "source": [
    "Вычислим относительное изменение среднего количества заказов группы B относительно группы A."
   ]
  },
  {
   "cell_type": "code",
   "execution_count": 82,
   "metadata": {},
   "outputs": [
    {
     "name": "stdout",
     "output_type": "stream",
     "text": [
      "17.4%\n"
     ]
    }
   ],
   "source": [
    "print('{0:.1%}'.format(sample_b_filtered.mean() / sample_a_filtered.mean() - 1))"
   ]
  },
  {
   "cell_type": "markdown",
   "metadata": {
    "editable": true,
    "slideshow": {
     "slide_type": ""
    },
    "tags": []
   },
   "source": [
    "#### Вывод. Среднее количество заказов на посетителя по «очищенным» данным"
   ]
  },
  {
   "cell_type": "markdown",
   "metadata": {},
   "source": [
    "По \"очищенным\" данным среднее количество заказов на посетителя между группами не равно (p-значение 0.016).<br> Относительный прирост среднего количества заказов группу B составляет 17.4%.\n",
    "\n",
    "Подтверждается вывод, сделанный по \"сырым\" данным. В группе B мы получили увеличение среднего количества заказов на посетителя. "
   ]
  },
  {
   "cell_type": "markdown",
   "metadata": {
    "editable": true,
    "slideshow": {
     "slide_type": ""
    },
    "tags": []
   },
   "source": [
    "#### Средний чек заказа по «очищенным» данным"
   ]
  },
  {
   "cell_type": "markdown",
   "metadata": {
    "editable": true,
    "slideshow": {
     "slide_type": ""
    },
    "tags": []
   },
   "source": [
    "Посчитаем статистическую значимость различий в среднем чеке заказа между группами по \"очищенным\" данным.\n",
    "\n",
    "Сформулируем гипотезы. \n",
    "- Нулевая: нет различий в среднем чеке между группами;\n",
    "- Альтернативная: есть различия в среднем чеке между группами.\n",
    "\n",
    "Для вычисления передадим критерию Манна-Уитни данные о выручке."
   ]
  },
  {
   "cell_type": "markdown",
   "metadata": {},
   "source": [
    "Выручка по группе A по \"очищенным\" данным."
   ]
  },
  {
   "cell_type": "code",
   "execution_count": 83,
   "metadata": {
    "scrolled": true
   },
   "outputs": [
    {
     "data": {
      "text/plain": [
       "7        1044\n",
       "8       13710\n",
       "10       4008\n",
       "12       7370\n",
       "14      10980\n",
       "        ...  \n",
       "1185      730\n",
       "1187      750\n",
       "1188      112\n",
       "1193     3190\n",
       "1194    10550\n",
       "Name: revenue, Length: 406, dtype: int64"
      ]
     },
     "execution_count": 83,
     "metadata": {},
     "output_type": "execute_result"
    }
   ],
   "source": [
    "orders_a_filtered_revenue = orders[\n",
    "    np.logical_and(\n",
    "        orders['group'] == 'A',\n",
    "        np.logical_not(orders['visitor_id'].isin(abnormal_users))\n",
    "    )\n",
    "]['revenue']\n",
    "orders_a_filtered_revenue    "
   ]
  },
  {
   "cell_type": "markdown",
   "metadata": {},
   "source": [
    "Выручка по группе B по \"очищенным\" данным."
   ]
  },
  {
   "cell_type": "code",
   "execution_count": 84,
   "metadata": {},
   "outputs": [
    {
     "data": {
      "text/plain": [
       "0        1650\n",
       "1         730\n",
       "3        9759\n",
       "4        2308\n",
       "5        2210\n",
       "        ...  \n",
       "1181    25250\n",
       "1186    15380\n",
       "1190     8600\n",
       "1191    16490\n",
       "1192     6490\n",
       "Name: revenue, Length: 481, dtype: int64"
      ]
     },
     "execution_count": 84,
     "metadata": {},
     "output_type": "execute_result"
    }
   ],
   "source": [
    "orders_b_filtered_revenue = orders[\n",
    "    np.logical_and(\n",
    "        orders['group'] == 'B',\n",
    "        np.logical_not(orders['visitor_id'].isin(abnormal_users))\n",
    "    )\n",
    "]['revenue']\n",
    "orders_b_filtered_revenue"
   ]
  },
  {
   "cell_type": "code",
   "execution_count": 85,
   "metadata": {},
   "outputs": [
    {
     "name": "stdout",
     "output_type": "stream",
     "text": [
      "p-значение:  0.727\n",
      "Не можем отвергнуть нулевую гипотезу. Нет различий в среднем чеке между группами на \"очищенных\" данных.\n"
     ]
    }
   ],
   "source": [
    "p_value = stats.mannwhitneyu(orders_a_filtered_revenue, orders_b_filtered_revenue)[1]\n",
    "print('p-значение: ', '{0:.3f}'.format(p_value))\n",
    "if p_value < alpha:\n",
    "    print('Отвергаем нулевую гипотезу. На \"очищенных\" данных нет оснований утверждать, ',\n",
    "          'что средний чек между группами равен. ')\n",
    "else:\n",
    "    print('Не можем отвергнуть нулевую гипотезу. Нет различий в среднем чеке между группами на \"очищенных\" данных.')"
   ]
  },
  {
   "cell_type": "markdown",
   "metadata": {},
   "source": [
    "Посчитаем относительный прирост среднего чека для группы B."
   ]
  },
  {
   "cell_type": "code",
   "execution_count": 86,
   "metadata": {},
   "outputs": [
    {
     "name": "stdout",
     "output_type": "stream",
     "text": [
      "-3.4%\n"
     ]
    }
   ],
   "source": [
    "print('{0:.1%}'.format(orders_b_filtered_revenue.mean() / orders_a_filtered_revenue.mean() - 1))"
   ]
  },
  {
   "cell_type": "markdown",
   "metadata": {
    "editable": true,
    "slideshow": {
     "slide_type": ""
    },
    "tags": []
   },
   "source": [
    "#### Вывод. Средний чек заказа по «очищенным» данным"
   ]
  },
  {
   "cell_type": "markdown",
   "metadata": {},
   "source": [
    "Не можем отвергнуть нулевую гипотезу. Нет различий в среднем чеке между группами на \"очищенных\" данных (p-значение 0.727). Относительная убыль среднего чека для группы B составляет 3.4%.\n",
    "\n",
    "На \"очищенных\" данных при росте на 17.4% среднего количества заказов на посетителя видим понижение среднего чека на 3.4%. <br> Таким образом, суммарная выручка возросла на 14%."
   ]
  },
  {
   "cell_type": "markdown",
   "metadata": {},
   "source": [
    "## Общий выводы"
   ]
  },
  {
   "cell_type": "markdown",
   "metadata": {},
   "source": [
    "С целью увеличения выручки нашего интернет-магазина вместе с отделом маркетинга был подготовлен список гипотез, и выполнена их приоритизация.\n",
    "\n",
    "Первоочередной для проверки была признана гипотеза «Добавить форму подписки на все основные страницы, чтобы собрать базу клиентов для email-рассылок» - оценки ICE 11.2, RICE 112.\n",
    "\n",
    "Для выбранной гипотезы был подготовлен и запущен A/B-тест, который длился с 1 по 31 августа 2019 года. \n",
    "\n",
    "По результатам теста получена выборка из 1197 заказов за 31 день, а также агрегированные данные о количестве посетителей сайта по каждой из групп теста."
   ]
  },
  {
   "cell_type": "markdown",
   "metadata": {},
   "source": [
    "В данных отсутствуют дубликаты и пропуски. \n",
    "\n",
    "Выявлено 58 посетителей (6% от общего числа), чьи заказы попали и в группу A и в группу B. Таковые посетители создали 181 заказ, что составляет 15.1% от общего числа заказов и 15.6% от общей выручки всех заказов. Есть посетители, для которых сначала появились заказы в группе А, затем в B. Есть те, у кого, наоборот, — сначала в B, а затем в A. Есть те, у кого заказы дублируются и там и там. \n",
    "\n",
    "Таким образом, выявлены следы технического сбоя при формировании результатов A/B-теста, что может поставить под сомнение результаты теста. \n",
    "\n",
    "В доступных данных отсутствует информация, позволяющая достоверно разрешить коллизии с выбором группы для проблемных посетителей (дата и время первого посещения), поэтому все заказы конфликтных посетителей мы удалили. \n",
    "\n",
    "Распределение посещений между группами A и B равномерное: 49.8% и 50.2% (разность 180 посещений). "
   ]
  },
  {
   "cell_type": "markdown",
   "metadata": {},
   "source": [
    "На всем протяжении теста выручка обеих групп стабильно возрастает, при этом выручка группы B выше начиная с 5 августа.\n",
    "Кумулятивный средний чек группы B выше, чем в группе А в период со 2 по 11 и с 18 по 31 августа.\n",
    "\n",
    "В период с 18 по 19 августа выручка и кумулятивный средний чек группы B резко возрастает. \n",
    "Причиной тому стало появление в группе B аномально дорогого заказа на сумму 1 294 500 руб. при среднем чеке до 25 тыс. руб. \n",
    "\n",
    "Кумулятивный средний чек группы А падал с 1 по 6 августа, затем возрастал с 6 по 13 августа и с 14 августа находится примерно на одном уровне.\n",
    "После 25 августа кумулятивный средний чек обеих групп стабилизировался.\n",
    "\n",
    "Кумулятивный средний чек группы B выше кумулятивного среднего чека группы A с 3 по 10 и с 18 августа 2019 года. Отношение средних чеков стабилизировалось после 29 августа. Вероятно, влияние аномальных значений удалось стабилизировать.\n",
    "\n",
    "Кумулятивное среднее количество заказов группы B стабильно больше чем в группе A начиная с 6 августа.\n",
    "В группе B есть локальные повышения кумулятивного среднего количества заказов на одного посетителя 10 августа и с 14 по 18 августа. Вероятно, сказались дополнительные события, повлиявшие на A/B-тест, например, реклама.\n",
    "\n",
    "Кумулятивное среднее количество заказов стабилизировалось с 25 августа на уровне 0.0255 для группы A и 0.029 для группы B.\n",
    "\n",
    "До 6 августа группа B несколько проигрывала по среднему количеству заказов, затем вырвалась вперед.\n",
    "После 21 августа среднее количество заказов на посетителя стабилизировалось. Группа B уверенно лидирует.\n",
    "\n",
    "Подавляющее количество пользователей в течение августа сделали по 1 заказу. Не более 1% пользователей размещает 2 и более заказа.\n",
    "Большинство заказов имеют стоимость до 20 тыс. руб. Не более 5% заказов дороже 26785 руб. и не более 1% заказов дороже 53904 руб."
   ]
  },
  {
   "cell_type": "markdown",
   "metadata": {},
   "source": [
    "**На основании \"сырых\" данных** есть прирост 16% среднего числа заказов на посетителя для группы B, нет оснований считать, что среднее количество заказов на посетителя статистически значимо совпадает между группами A/B-теста (p-значение 0.011).\n",
    "\n",
    "Значит, добавление формы подписки на все основные страницы, чтобы собрать базу клиентов для email-рассылок, позволяет увеличить среднее количество заказов на посетителя.\n",
    "\n",
    "Не получилось отвергнуть нулевую гипотезу об отсутствии статистически значимого различия в среднем чеке между группами (p-значение 0.829). Значит, в большинстве своем средний чек между группами A и B соизмерим.\n",
    "\n",
    "При этом относительный прирост среднего чека для группы B на \"сырых\" данных составляет 28.7%. Среднее подвержено влиянию выбросов. Видим, что аномально дорогие заказы  повлияли на расчет относительного прироста среднего чека.\n",
    "\n",
    "Аномальные заказы появляются не всегда. Для оценки результатов без учета аномалий проведена «очистка» данных — удалены все заказы аномальных пользователей.\n",
    "\n",
    "В качестве критерия для отбора таких пользователей приняли  наличие 2 и более заказов за один месяц или наличие одного заказа со стоимостью более или равной  26785 руб. "
   ]
  },
  {
   "cell_type": "markdown",
   "metadata": {},
   "source": [
    "**На «очищенных» данных** получили следующие выводы. \n",
    "\n",
    "Среднее количество заказов на посетителя между группами не равно (p-значение 0.016). Относительный прирост среднего количества заказов группу B составляет 17.4%.\n",
    "\n",
    "Нет различий в среднем чеке между группами на \"очищенных\" данных (p-значение 0.727). Относительная убыль среднего чека для группы B составляет 3.4%.\n",
    "\n",
    "На \"очищенных\" данных при росте на 17.4% среднего количества заказов на посетителя видим понижение среднего чека на 3.4%. Таким образом, суммарная выручка возросла на 14% для оставленных в выборке заказов.\n",
    "\n",
    "При этом на этапе предобработки  мы удалили из выборки 15.1% заказов по количеству и 15.6% по сумме, что ставит под сомнение весь результат A/B-теста. \n",
    " "
   ]
  },
  {
   "cell_type": "markdown",
   "metadata": {},
   "source": [
    "**Предлагается** постараться разрешить коллизии с отнесением пользователей к группам A или B. Для этого получить исходные данные по сеансам пользователей (дата, время первого визита каждого посетителя). После этого провести повторный анализ результата A/B-теста. \n",
    "\n",
    "**По предварительным данным, тест можно остановить и признать победу группы B в связи с увеличением среднего количества заказов на посетителя и незначительным уменьшением среднего чека.**"
   ]
  },
  {
   "cell_type": "code",
   "execution_count": null,
   "metadata": {},
   "outputs": [],
   "source": []
  }
 ],
 "metadata": {
  "ExecuteTimeLog": [
   {
    "duration": 442,
    "start_time": "2024-06-16T19:47:43.054Z"
   },
   {
    "duration": 2,
    "start_time": "2024-06-16T19:50:50.358Z"
   },
   {
    "duration": 1113,
    "start_time": "2024-06-16T19:52:23.250Z"
   },
   {
    "duration": 1052,
    "start_time": "2024-06-16T19:52:40.279Z"
   },
   {
    "duration": 3,
    "start_time": "2024-06-16T19:53:37.091Z"
   },
   {
    "duration": 28,
    "start_time": "2024-06-16T19:53:54.659Z"
   },
   {
    "duration": 14,
    "start_time": "2024-06-16T19:54:02.146Z"
   },
   {
    "duration": 6,
    "start_time": "2024-06-16T19:54:39.600Z"
   },
   {
    "duration": 3,
    "start_time": "2024-06-16T19:59:13.374Z"
   },
   {
    "duration": 7,
    "start_time": "2024-06-16T19:59:29.712Z"
   },
   {
    "duration": 41,
    "start_time": "2024-06-17T00:28:33.875Z"
   },
   {
    "duration": 316,
    "start_time": "2024-06-17T00:28:51.452Z"
   },
   {
    "duration": 73,
    "start_time": "2024-06-17T00:28:59.753Z"
   },
   {
    "duration": 16,
    "start_time": "2024-06-17T00:29:04.418Z"
   },
   {
    "duration": 13,
    "start_time": "2024-06-17T00:29:09.988Z"
   },
   {
    "duration": 25,
    "start_time": "2024-06-17T00:41:00.533Z"
   },
   {
    "duration": 32,
    "start_time": "2024-06-17T00:41:11.829Z"
   },
   {
    "duration": 3,
    "start_time": "2024-06-17T00:41:18.633Z"
   },
   {
    "duration": 8,
    "start_time": "2024-06-17T00:41:24.674Z"
   },
   {
    "duration": 7,
    "start_time": "2024-06-17T00:42:01.350Z"
   },
   {
    "duration": 6,
    "start_time": "2024-06-17T00:42:12.916Z"
   },
   {
    "duration": 8,
    "start_time": "2024-06-17T00:43:56.536Z"
   },
   {
    "duration": 7,
    "start_time": "2024-06-17T00:44:12.062Z"
   },
   {
    "duration": 9,
    "start_time": "2024-06-17T00:44:29.114Z"
   },
   {
    "duration": 29,
    "start_time": "2024-06-17T00:45:55.311Z"
   },
   {
    "duration": 7,
    "start_time": "2024-06-17T00:45:58.725Z"
   },
   {
    "duration": 27,
    "start_time": "2024-06-17T00:47:02.651Z"
   },
   {
    "duration": 6,
    "start_time": "2024-06-17T00:47:04.317Z"
   },
   {
    "duration": 8,
    "start_time": "2024-06-17T00:47:39.925Z"
   },
   {
    "duration": 7,
    "start_time": "2024-06-17T00:47:49.197Z"
   },
   {
    "duration": 9,
    "start_time": "2024-06-17T00:48:01.507Z"
   },
   {
    "duration": 395,
    "start_time": "2024-06-17T00:53:40.646Z"
   },
   {
    "duration": 9,
    "start_time": "2024-06-17T00:58:55.320Z"
   },
   {
    "duration": 3,
    "start_time": "2024-06-17T01:00:11.633Z"
   },
   {
    "duration": 4,
    "start_time": "2024-06-17T01:00:35.074Z"
   },
   {
    "duration": 9,
    "start_time": "2024-06-17T01:00:35.934Z"
   },
   {
    "duration": 8,
    "start_time": "2024-06-17T01:00:56.302Z"
   },
   {
    "duration": 8,
    "start_time": "2024-06-17T01:01:08.975Z"
   },
   {
    "duration": 7,
    "start_time": "2024-06-17T01:01:19.467Z"
   },
   {
    "duration": 28,
    "start_time": "2024-06-17T01:01:39.719Z"
   },
   {
    "duration": 17,
    "start_time": "2024-06-17T01:01:43.411Z"
   },
   {
    "duration": 4,
    "start_time": "2024-06-17T01:02:04.533Z"
   },
   {
    "duration": 8,
    "start_time": "2024-06-17T01:02:05.591Z"
   },
   {
    "duration": 4,
    "start_time": "2024-06-17T01:02:17.456Z"
   },
   {
    "duration": 8,
    "start_time": "2024-06-17T01:02:18.033Z"
   },
   {
    "duration": 8,
    "start_time": "2024-06-17T01:33:46.078Z"
   },
   {
    "duration": 8,
    "start_time": "2024-06-17T01:33:56.472Z"
   },
   {
    "duration": 3,
    "start_time": "2024-06-17T01:34:02.631Z"
   },
   {
    "duration": 9,
    "start_time": "2024-06-17T01:34:03.387Z"
   },
   {
    "duration": 365,
    "start_time": "2024-06-17T01:34:33.405Z"
   },
   {
    "duration": 1051,
    "start_time": "2024-06-17T01:34:33.771Z"
   },
   {
    "duration": 8,
    "start_time": "2024-06-17T01:34:34.823Z"
   },
   {
    "duration": 29,
    "start_time": "2024-06-17T01:34:34.832Z"
   },
   {
    "duration": 24,
    "start_time": "2024-06-17T01:34:34.863Z"
   },
   {
    "duration": 15,
    "start_time": "2024-06-17T01:34:34.888Z"
   },
   {
    "duration": 245,
    "start_time": "2024-06-17T01:34:34.904Z"
   },
   {
    "duration": 4,
    "start_time": "2024-06-17T01:34:35.150Z"
   },
   {
    "duration": 32,
    "start_time": "2024-06-17T01:34:35.155Z"
   },
   {
    "duration": 1109,
    "start_time": "2024-06-17T01:47:04.011Z"
   },
   {
    "duration": 1049,
    "start_time": "2024-06-17T01:47:21.693Z"
   },
   {
    "duration": 96,
    "start_time": "2024-06-17T01:47:33.402Z"
   },
   {
    "duration": 8,
    "start_time": "2024-06-17T01:48:18.095Z"
   },
   {
    "duration": 49,
    "start_time": "2024-06-17T01:52:07.328Z"
   },
   {
    "duration": 7,
    "start_time": "2024-06-17T01:52:10.121Z"
   },
   {
    "duration": 89,
    "start_time": "2024-06-17T01:52:25.832Z"
   },
   {
    "duration": 9,
    "start_time": "2024-06-17T01:52:48.161Z"
   },
   {
    "duration": 388,
    "start_time": "2024-06-17T01:59:53.040Z"
   },
   {
    "duration": 4,
    "start_time": "2024-06-17T02:00:31.410Z"
   },
   {
    "duration": 51,
    "start_time": "2024-06-17T02:00:50.770Z"
   },
   {
    "duration": 7,
    "start_time": "2024-06-17T02:00:56.985Z"
   },
   {
    "duration": 49,
    "start_time": "2024-06-17T02:01:32.954Z"
   },
   {
    "duration": 7,
    "start_time": "2024-06-17T02:01:34.280Z"
   },
   {
    "duration": 49,
    "start_time": "2024-06-17T02:01:44.613Z"
   },
   {
    "duration": 7,
    "start_time": "2024-06-17T02:01:46.097Z"
   },
   {
    "duration": 4,
    "start_time": "2024-06-17T02:02:01.044Z"
   },
   {
    "duration": 49,
    "start_time": "2024-06-17T02:02:56.205Z"
   },
   {
    "duration": 7,
    "start_time": "2024-06-17T02:02:57.800Z"
   },
   {
    "duration": 11,
    "start_time": "2024-06-17T02:03:11.697Z"
   },
   {
    "duration": 3,
    "start_time": "2024-06-17T02:08:55.297Z"
   },
   {
    "duration": 3,
    "start_time": "2024-06-17T02:10:03.599Z"
   },
   {
    "duration": 49,
    "start_time": "2024-06-17T02:10:19.811Z"
   },
   {
    "duration": 7,
    "start_time": "2024-06-17T02:10:24.958Z"
   },
   {
    "duration": 8,
    "start_time": "2024-06-17T02:10:31.450Z"
   },
   {
    "duration": 4,
    "start_time": "2024-06-17T02:11:18.566Z"
   },
   {
    "duration": 8,
    "start_time": "2024-06-17T02:11:31.168Z"
   },
   {
    "duration": 83,
    "start_time": "2024-06-17T02:12:11.759Z"
   },
   {
    "duration": 2,
    "start_time": "2024-06-17T02:12:17.021Z"
   },
   {
    "duration": 10,
    "start_time": "2024-06-17T02:12:17.830Z"
   },
   {
    "duration": 1110,
    "start_time": "2024-06-17T02:21:08.760Z"
   },
   {
    "duration": 28,
    "start_time": "2024-06-17T02:21:48.021Z"
   },
   {
    "duration": 7,
    "start_time": "2024-06-17T02:21:56.655Z"
   },
   {
    "duration": 6,
    "start_time": "2024-06-17T02:23:11.943Z"
   },
   {
    "duration": 10,
    "start_time": "2024-06-17T02:23:27.400Z"
   },
   {
    "duration": 27,
    "start_time": "2024-06-17T02:26:18.544Z"
   },
   {
    "duration": 6,
    "start_time": "2024-06-17T02:26:20.531Z"
   },
   {
    "duration": 8,
    "start_time": "2024-06-17T02:26:26.592Z"
   },
   {
    "duration": 70,
    "start_time": "2024-06-17T02:26:50.632Z"
   },
   {
    "duration": 49,
    "start_time": "2024-06-17T02:26:56.214Z"
   },
   {
    "duration": 7,
    "start_time": "2024-06-17T02:26:57.575Z"
   },
   {
    "duration": 8,
    "start_time": "2024-06-17T02:27:00.416Z"
   },
   {
    "duration": 28,
    "start_time": "2024-06-17T02:27:25.281Z"
   },
   {
    "duration": 6,
    "start_time": "2024-06-17T02:27:26.375Z"
   },
   {
    "duration": 10,
    "start_time": "2024-06-17T02:27:29.336Z"
   },
   {
    "duration": 5,
    "start_time": "2024-06-17T02:28:29.212Z"
   },
   {
    "duration": 5,
    "start_time": "2024-06-17T02:28:45.791Z"
   },
   {
    "duration": 5,
    "start_time": "2024-06-17T02:29:47.678Z"
   },
   {
    "duration": 4,
    "start_time": "2024-06-17T02:30:01.952Z"
   },
   {
    "duration": 4,
    "start_time": "2024-06-17T02:32:38.112Z"
   },
   {
    "duration": 3,
    "start_time": "2024-06-17T02:33:04.361Z"
   },
   {
    "duration": 13,
    "start_time": "2024-06-17T02:35:14.476Z"
   },
   {
    "duration": 5,
    "start_time": "2024-06-17T02:35:27.749Z"
   },
   {
    "duration": 5,
    "start_time": "2024-06-17T02:35:42.156Z"
   },
   {
    "duration": 7,
    "start_time": "2024-06-17T02:37:58.939Z"
   },
   {
    "duration": 9,
    "start_time": "2024-06-17T02:38:58.821Z"
   },
   {
    "duration": 6,
    "start_time": "2024-06-17T02:41:09.453Z"
   },
   {
    "duration": 8,
    "start_time": "2024-06-17T02:41:30.649Z"
   },
   {
    "duration": 9,
    "start_time": "2024-06-17T02:41:36.669Z"
   },
   {
    "duration": 9,
    "start_time": "2024-06-17T02:41:42.824Z"
   },
   {
    "duration": 9,
    "start_time": "2024-06-17T02:41:49.207Z"
   },
   {
    "duration": 7,
    "start_time": "2024-06-17T02:42:41.110Z"
   },
   {
    "duration": 6,
    "start_time": "2024-06-17T02:42:48.235Z"
   },
   {
    "duration": 4,
    "start_time": "2024-06-17T02:43:29.942Z"
   },
   {
    "duration": 63,
    "start_time": "2024-06-17T02:43:49.793Z"
   },
   {
    "duration": 5,
    "start_time": "2024-06-17T02:43:53.249Z"
   },
   {
    "duration": 4,
    "start_time": "2024-06-17T02:44:05.137Z"
   },
   {
    "duration": 11,
    "start_time": "2024-06-17T02:44:22.661Z"
   },
   {
    "duration": 11,
    "start_time": "2024-06-17T02:46:17.322Z"
   },
   {
    "duration": 1078,
    "start_time": "2024-06-17T03:58:20.700Z"
   },
   {
    "duration": 1097,
    "start_time": "2024-06-17T03:58:21.779Z"
   },
   {
    "duration": 9,
    "start_time": "2024-06-17T03:58:22.877Z"
   },
   {
    "duration": 14,
    "start_time": "2024-06-17T03:58:22.887Z"
   },
   {
    "duration": 8,
    "start_time": "2024-06-17T03:58:22.903Z"
   },
   {
    "duration": 7,
    "start_time": "2024-06-17T03:58:22.912Z"
   },
   {
    "duration": 46,
    "start_time": "2024-06-17T03:58:22.920Z"
   },
   {
    "duration": 4,
    "start_time": "2024-06-17T03:58:22.967Z"
   },
   {
    "duration": 25,
    "start_time": "2024-06-17T03:58:22.972Z"
   },
   {
    "duration": 1104,
    "start_time": "2024-06-17T03:58:22.998Z"
   },
   {
    "duration": 29,
    "start_time": "2024-06-17T03:58:24.104Z"
   },
   {
    "duration": 8,
    "start_time": "2024-06-17T03:58:24.134Z"
   },
   {
    "duration": 19,
    "start_time": "2024-06-17T03:58:24.143Z"
   },
   {
    "duration": 1067,
    "start_time": "2024-06-17T03:58:24.164Z"
   },
   {
    "duration": 6,
    "start_time": "2024-06-17T03:58:25.232Z"
   },
   {
    "duration": 24,
    "start_time": "2024-06-17T03:58:25.240Z"
   },
   {
    "duration": 27,
    "start_time": "2024-06-17T03:58:25.265Z"
   },
   {
    "duration": 8,
    "start_time": "2024-06-17T03:58:25.293Z"
   },
   {
    "duration": 14,
    "start_time": "2024-06-17T03:58:25.302Z"
   },
   {
    "duration": 11,
    "start_time": "2024-06-17T03:58:25.317Z"
   },
   {
    "duration": 18,
    "start_time": "2024-06-17T03:58:25.329Z"
   },
   {
    "duration": 16,
    "start_time": "2024-06-17T03:58:25.348Z"
   },
   {
    "duration": 21,
    "start_time": "2024-06-17T03:58:25.365Z"
   },
   {
    "duration": 45,
    "start_time": "2024-06-17T03:58:25.387Z"
   },
   {
    "duration": 11,
    "start_time": "2024-06-17T04:03:11.786Z"
   },
   {
    "duration": 14,
    "start_time": "2024-06-17T04:03:32.115Z"
   },
   {
    "duration": 94,
    "start_time": "2024-06-17T04:16:41.872Z"
   },
   {
    "duration": 149,
    "start_time": "2024-06-17T04:17:03.036Z"
   },
   {
    "duration": 133,
    "start_time": "2024-06-17T04:21:39.372Z"
   },
   {
    "duration": 47,
    "start_time": "2024-06-17T04:22:19.667Z"
   },
   {
    "duration": 56,
    "start_time": "2024-06-17T04:22:36.281Z"
   },
   {
    "duration": 153,
    "start_time": "2024-06-17T04:23:02.069Z"
   },
   {
    "duration": 129,
    "start_time": "2024-06-17T04:23:44.480Z"
   },
   {
    "duration": 139,
    "start_time": "2024-06-17T04:24:44.364Z"
   },
   {
    "duration": 136,
    "start_time": "2024-06-17T04:25:18.807Z"
   },
   {
    "duration": 54,
    "start_time": "2024-06-17T04:34:39.141Z"
   },
   {
    "duration": 52,
    "start_time": "2024-06-17T04:34:47.446Z"
   },
   {
    "duration": 12,
    "start_time": "2024-06-17T04:34:50.586Z"
   },
   {
    "duration": 101,
    "start_time": "2024-06-17T04:35:35.126Z"
   },
   {
    "duration": 115,
    "start_time": "2024-06-17T04:36:22.375Z"
   },
   {
    "duration": 95,
    "start_time": "2024-06-17T04:36:34.930Z"
   },
   {
    "duration": 87,
    "start_time": "2024-06-17T04:36:38.235Z"
   },
   {
    "duration": 109,
    "start_time": "2024-06-17T04:36:43.488Z"
   },
   {
    "duration": 126,
    "start_time": "2024-06-17T04:37:07.267Z"
   },
   {
    "duration": 88,
    "start_time": "2024-06-17T04:37:13.720Z"
   },
   {
    "duration": 132,
    "start_time": "2024-06-17T04:39:00.335Z"
   },
   {
    "duration": 92,
    "start_time": "2024-06-17T04:39:07.883Z"
   },
   {
    "duration": 12,
    "start_time": "2024-06-17T04:41:22.008Z"
   },
   {
    "duration": 16,
    "start_time": "2024-06-17T04:43:19.496Z"
   },
   {
    "duration": 11,
    "start_time": "2024-06-17T04:44:00.402Z"
   },
   {
    "duration": 90,
    "start_time": "2024-06-17T04:44:07.966Z"
   },
   {
    "duration": 101,
    "start_time": "2024-06-17T04:44:12.199Z"
   },
   {
    "duration": 87,
    "start_time": "2024-06-17T04:44:18.086Z"
   },
   {
    "duration": 124,
    "start_time": "2024-06-17T04:44:23.947Z"
   },
   {
    "duration": 137,
    "start_time": "2024-06-17T04:44:42.408Z"
   },
   {
    "duration": 89,
    "start_time": "2024-06-17T04:44:54.981Z"
   },
   {
    "duration": 12,
    "start_time": "2024-06-17T04:48:21.332Z"
   },
   {
    "duration": 9,
    "start_time": "2024-06-17T04:51:06.246Z"
   },
   {
    "duration": 7,
    "start_time": "2024-06-17T04:51:21.741Z"
   },
   {
    "duration": 7,
    "start_time": "2024-06-17T04:51:48.644Z"
   },
   {
    "duration": 8,
    "start_time": "2024-06-17T04:56:29.648Z"
   },
   {
    "duration": 8,
    "start_time": "2024-06-17T04:56:49.302Z"
   },
   {
    "duration": 6,
    "start_time": "2024-06-17T04:57:05.445Z"
   },
   {
    "duration": 196,
    "start_time": "2024-06-17T04:57:08.723Z"
   },
   {
    "duration": 133,
    "start_time": "2024-06-17T04:59:58.061Z"
   },
   {
    "duration": 138,
    "start_time": "2024-06-17T05:00:12.798Z"
   },
   {
    "duration": 136,
    "start_time": "2024-06-17T05:00:40.346Z"
   },
   {
    "duration": 78,
    "start_time": "2024-06-17T05:01:19.623Z"
   },
   {
    "duration": 131,
    "start_time": "2024-06-17T05:01:42.266Z"
   },
   {
    "duration": 131,
    "start_time": "2024-06-17T05:01:55.624Z"
   },
   {
    "duration": 138,
    "start_time": "2024-06-17T05:02:52.031Z"
   },
   {
    "duration": 116,
    "start_time": "2024-06-17T05:03:25.738Z"
   },
   {
    "duration": 130,
    "start_time": "2024-06-17T05:03:45.090Z"
   },
   {
    "duration": 135,
    "start_time": "2024-06-17T05:04:42.159Z"
   },
   {
    "duration": 145,
    "start_time": "2024-06-17T05:04:55.260Z"
   },
   {
    "duration": 132,
    "start_time": "2024-06-17T05:05:16.957Z"
   },
   {
    "duration": 149,
    "start_time": "2024-06-17T05:05:52.865Z"
   },
   {
    "duration": 144,
    "start_time": "2024-06-17T05:07:03.732Z"
   },
   {
    "duration": 158,
    "start_time": "2024-06-17T05:07:50.930Z"
   },
   {
    "duration": 138,
    "start_time": "2024-06-17T05:16:07.887Z"
   },
   {
    "duration": 336,
    "start_time": "2024-06-17T05:18:03.763Z"
   },
   {
    "duration": 148,
    "start_time": "2024-06-17T05:18:11.657Z"
   },
   {
    "duration": 137,
    "start_time": "2024-06-17T05:19:12.818Z"
   },
   {
    "duration": 129,
    "start_time": "2024-06-17T05:19:24.187Z"
   },
   {
    "duration": 43,
    "start_time": "2024-06-17T05:19:29.839Z"
   },
   {
    "duration": 135,
    "start_time": "2024-06-17T05:20:00.907Z"
   },
   {
    "duration": 137,
    "start_time": "2024-06-17T05:20:14.135Z"
   },
   {
    "duration": 161,
    "start_time": "2024-06-17T05:21:09.888Z"
   },
   {
    "duration": 139,
    "start_time": "2024-06-17T05:23:53.635Z"
   },
   {
    "duration": 41,
    "start_time": "2024-06-17T05:24:06.981Z"
   },
   {
    "duration": 156,
    "start_time": "2024-06-17T05:24:14.748Z"
   },
   {
    "duration": 12,
    "start_time": "2024-06-17T05:24:36.472Z"
   },
   {
    "duration": 133,
    "start_time": "2024-06-17T05:24:49.419Z"
   },
   {
    "duration": 140,
    "start_time": "2024-06-17T05:25:37.443Z"
   },
   {
    "duration": 146,
    "start_time": "2024-06-17T05:25:48.769Z"
   },
   {
    "duration": 145,
    "start_time": "2024-06-17T05:26:03.266Z"
   },
   {
    "duration": 153,
    "start_time": "2024-06-17T05:26:24.447Z"
   },
   {
    "duration": 130,
    "start_time": "2024-06-17T05:27:17.651Z"
   },
   {
    "duration": 132,
    "start_time": "2024-06-17T05:28:56.453Z"
   },
   {
    "duration": 162,
    "start_time": "2024-06-17T05:29:07.074Z"
   },
   {
    "duration": 147,
    "start_time": "2024-06-17T05:29:20.472Z"
   },
   {
    "duration": 113,
    "start_time": "2024-06-17T05:36:27.693Z"
   },
   {
    "duration": 142,
    "start_time": "2024-06-17T05:36:47.030Z"
   },
   {
    "duration": 148,
    "start_time": "2024-06-17T05:38:15.291Z"
   },
   {
    "duration": 147,
    "start_time": "2024-06-17T05:38:57.130Z"
   },
   {
    "duration": 154,
    "start_time": "2024-06-17T05:42:58.933Z"
   },
   {
    "duration": 158,
    "start_time": "2024-06-17T05:43:11.196Z"
   },
   {
    "duration": 8,
    "start_time": "2024-06-17T05:56:25.342Z"
   },
   {
    "duration": 9,
    "start_time": "2024-06-17T05:56:45.360Z"
   },
   {
    "duration": 249,
    "start_time": "2024-06-17T06:03:08.008Z"
   },
   {
    "duration": 221,
    "start_time": "2024-06-17T06:03:18.721Z"
   },
   {
    "duration": 220,
    "start_time": "2024-06-17T06:05:21.033Z"
   },
   {
    "duration": 257,
    "start_time": "2024-06-17T06:05:30.678Z"
   },
   {
    "duration": 204,
    "start_time": "2024-06-17T06:06:43.137Z"
   },
   {
    "duration": 8,
    "start_time": "2024-06-17T06:13:33.918Z"
   },
   {
    "duration": 10,
    "start_time": "2024-06-17T06:16:27.228Z"
   },
   {
    "duration": 8,
    "start_time": "2024-06-17T06:16:31.011Z"
   },
   {
    "duration": 8,
    "start_time": "2024-06-17T06:17:02.177Z"
   },
   {
    "duration": 10,
    "start_time": "2024-06-17T06:17:22.769Z"
   },
   {
    "duration": 7,
    "start_time": "2024-06-17T06:17:40.185Z"
   },
   {
    "duration": 10,
    "start_time": "2024-06-17T06:17:50.517Z"
   },
   {
    "duration": 7,
    "start_time": "2024-06-17T06:18:21.176Z"
   },
   {
    "duration": 7,
    "start_time": "2024-06-17T06:18:24.891Z"
   },
   {
    "duration": 8,
    "start_time": "2024-06-17T06:18:28.317Z"
   },
   {
    "duration": 105,
    "start_time": "2024-06-17T06:22:01.067Z"
   },
   {
    "duration": 11,
    "start_time": "2024-06-17T06:23:34.402Z"
   },
   {
    "duration": 10,
    "start_time": "2024-06-17T06:24:34.563Z"
   },
   {
    "duration": 8,
    "start_time": "2024-06-17T06:24:45.654Z"
   },
   {
    "duration": 8,
    "start_time": "2024-06-17T06:25:52.941Z"
   },
   {
    "duration": 12,
    "start_time": "2024-06-17T06:25:56.970Z"
   },
   {
    "duration": 23,
    "start_time": "2024-06-17T06:26:28.591Z"
   },
   {
    "duration": 18,
    "start_time": "2024-06-17T06:26:41.522Z"
   },
   {
    "duration": 8,
    "start_time": "2024-06-17T06:27:34.740Z"
   },
   {
    "duration": 8,
    "start_time": "2024-06-17T06:27:54.942Z"
   },
   {
    "duration": 7,
    "start_time": "2024-06-17T06:28:36.027Z"
   },
   {
    "duration": 913,
    "start_time": "2024-06-17T06:29:04.862Z"
   },
   {
    "duration": 1020,
    "start_time": "2024-06-17T06:29:05.776Z"
   },
   {
    "duration": 9,
    "start_time": "2024-06-17T06:29:06.797Z"
   },
   {
    "duration": 18,
    "start_time": "2024-06-17T06:29:06.807Z"
   },
   {
    "duration": 9,
    "start_time": "2024-06-17T06:29:06.825Z"
   },
   {
    "duration": 8,
    "start_time": "2024-06-17T06:29:06.835Z"
   },
   {
    "duration": 38,
    "start_time": "2024-06-17T06:29:06.844Z"
   },
   {
    "duration": 4,
    "start_time": "2024-06-17T06:29:06.883Z"
   },
   {
    "duration": 17,
    "start_time": "2024-06-17T06:29:06.889Z"
   },
   {
    "duration": 1051,
    "start_time": "2024-06-17T06:29:06.908Z"
   },
   {
    "duration": 8,
    "start_time": "2024-06-17T06:29:07.961Z"
   },
   {
    "duration": 42,
    "start_time": "2024-06-17T06:29:07.970Z"
   },
   {
    "duration": 29,
    "start_time": "2024-06-17T06:29:08.013Z"
   },
   {
    "duration": 1036,
    "start_time": "2024-06-17T06:29:08.043Z"
   },
   {
    "duration": 6,
    "start_time": "2024-06-17T06:29:09.081Z"
   },
   {
    "duration": 34,
    "start_time": "2024-06-17T06:29:09.088Z"
   },
   {
    "duration": 30,
    "start_time": "2024-06-17T06:29:09.123Z"
   },
   {
    "duration": 28,
    "start_time": "2024-06-17T06:29:09.154Z"
   },
   {
    "duration": 24,
    "start_time": "2024-06-17T06:29:09.183Z"
   },
   {
    "duration": 12,
    "start_time": "2024-06-17T06:29:09.208Z"
   },
   {
    "duration": 22,
    "start_time": "2024-06-17T06:29:09.221Z"
   },
   {
    "duration": 36,
    "start_time": "2024-06-17T06:29:09.245Z"
   },
   {
    "duration": 37,
    "start_time": "2024-06-17T06:29:09.282Z"
   },
   {
    "duration": 44,
    "start_time": "2024-06-17T06:29:09.320Z"
   },
   {
    "duration": 38,
    "start_time": "2024-06-17T06:29:09.365Z"
   },
   {
    "duration": 151,
    "start_time": "2024-06-17T06:29:09.405Z"
   },
   {
    "duration": 95,
    "start_time": "2024-06-17T06:29:09.557Z"
   },
   {
    "duration": 12,
    "start_time": "2024-06-17T06:29:09.656Z"
   },
   {
    "duration": 24,
    "start_time": "2024-06-17T06:29:09.669Z"
   },
   {
    "duration": 39,
    "start_time": "2024-06-17T06:29:09.694Z"
   },
   {
    "duration": 225,
    "start_time": "2024-06-17T06:29:09.734Z"
   },
   {
    "duration": 159,
    "start_time": "2024-06-17T06:29:09.961Z"
   },
   {
    "duration": 8,
    "start_time": "2024-06-17T06:29:10.122Z"
   },
   {
    "duration": 334,
    "start_time": "2024-06-17T06:29:10.131Z"
   },
   {
    "duration": 9,
    "start_time": "2024-06-17T06:29:10.467Z"
   },
   {
    "duration": 16,
    "start_time": "2024-06-17T06:29:10.477Z"
   },
   {
    "duration": 25,
    "start_time": "2024-06-17T06:29:10.494Z"
   },
   {
    "duration": 98,
    "start_time": "2024-06-17T06:29:10.520Z"
   },
   {
    "duration": 125,
    "start_time": "2024-06-17T06:29:49.758Z"
   },
   {
    "duration": 127,
    "start_time": "2024-06-17T06:29:59.481Z"
   },
   {
    "duration": 145,
    "start_time": "2024-06-17T06:30:19.639Z"
   },
   {
    "duration": 285,
    "start_time": "2024-06-17T06:31:32.855Z"
   },
   {
    "duration": 156,
    "start_time": "2024-06-17T06:31:50.143Z"
   },
   {
    "duration": 149,
    "start_time": "2024-06-17T06:32:17.343Z"
   },
   {
    "duration": 180,
    "start_time": "2024-06-17T06:33:20.630Z"
   },
   {
    "duration": 150,
    "start_time": "2024-06-17T06:33:43.170Z"
   },
   {
    "duration": 5,
    "start_time": "2024-06-17T06:35:39.209Z"
   },
   {
    "duration": 4,
    "start_time": "2024-06-17T06:35:51.596Z"
   },
   {
    "duration": 296,
    "start_time": "2024-06-17T06:40:03.228Z"
   },
   {
    "duration": 275,
    "start_time": "2024-06-17T06:40:46.727Z"
   },
   {
    "duration": 148,
    "start_time": "2024-06-17T06:41:27.492Z"
   },
   {
    "duration": 8,
    "start_time": "2024-06-17T06:42:11.294Z"
   },
   {
    "duration": 145,
    "start_time": "2024-06-17T06:42:51.763Z"
   },
   {
    "duration": 148,
    "start_time": "2024-06-17T06:45:06.091Z"
   },
   {
    "duration": 139,
    "start_time": "2024-06-17T06:45:52.555Z"
   },
   {
    "duration": 135,
    "start_time": "2024-06-17T06:46:12.584Z"
   },
   {
    "duration": 143,
    "start_time": "2024-06-17T06:46:27.744Z"
   },
   {
    "duration": 188,
    "start_time": "2024-06-17T06:46:35.143Z"
   },
   {
    "duration": 162,
    "start_time": "2024-06-17T06:46:50.403Z"
   },
   {
    "duration": 143,
    "start_time": "2024-06-17T07:24:55.316Z"
   },
   {
    "duration": 88,
    "start_time": "2024-06-17T07:25:04.421Z"
   },
   {
    "duration": 15,
    "start_time": "2024-06-17T07:25:25.960Z"
   },
   {
    "duration": 11,
    "start_time": "2024-06-17T07:30:11.789Z"
   },
   {
    "duration": 7,
    "start_time": "2024-06-17T07:30:24.286Z"
   },
   {
    "duration": 156,
    "start_time": "2024-06-17T07:30:36.398Z"
   },
   {
    "duration": 133,
    "start_time": "2024-06-17T07:32:17.808Z"
   },
   {
    "duration": 128,
    "start_time": "2024-06-17T07:32:31.506Z"
   },
   {
    "duration": 138,
    "start_time": "2024-06-17T07:33:04.313Z"
   },
   {
    "duration": 134,
    "start_time": "2024-06-17T07:33:24.465Z"
   },
   {
    "duration": 139,
    "start_time": "2024-06-17T07:33:39.311Z"
   },
   {
    "duration": 135,
    "start_time": "2024-06-17T07:33:49.460Z"
   },
   {
    "duration": 135,
    "start_time": "2024-06-17T07:33:58.633Z"
   },
   {
    "duration": 134,
    "start_time": "2024-06-17T07:35:07.125Z"
   },
   {
    "duration": 190,
    "start_time": "2024-06-17T07:35:28.268Z"
   },
   {
    "duration": 256,
    "start_time": "2024-06-17T07:37:14.085Z"
   },
   {
    "duration": 47,
    "start_time": "2024-06-17T07:39:21.903Z"
   },
   {
    "duration": 275,
    "start_time": "2024-06-17T07:39:29.674Z"
   },
   {
    "duration": 290,
    "start_time": "2024-06-17T07:39:42.467Z"
   },
   {
    "duration": 261,
    "start_time": "2024-06-17T07:40:29.064Z"
   },
   {
    "duration": 268,
    "start_time": "2024-06-17T07:40:46.767Z"
   },
   {
    "duration": 140,
    "start_time": "2024-06-17T07:41:06.966Z"
   },
   {
    "duration": 145,
    "start_time": "2024-06-17T07:41:20.722Z"
   },
   {
    "duration": 260,
    "start_time": "2024-06-17T07:42:16.683Z"
   },
   {
    "duration": 6,
    "start_time": "2024-06-17T07:49:02.977Z"
   },
   {
    "duration": 95,
    "start_time": "2024-06-17T07:49:12.299Z"
   },
   {
    "duration": 100,
    "start_time": "2024-06-17T07:50:22.171Z"
   },
   {
    "duration": 7,
    "start_time": "2024-06-17T07:51:22.396Z"
   },
   {
    "duration": 10,
    "start_time": "2024-06-17T07:54:53.931Z"
   },
   {
    "duration": 7,
    "start_time": "2024-06-17T07:55:06.881Z"
   },
   {
    "duration": 7,
    "start_time": "2024-06-17T07:55:25.691Z"
   },
   {
    "duration": 7,
    "start_time": "2024-06-17T07:55:43.517Z"
   },
   {
    "duration": 7,
    "start_time": "2024-06-17T07:56:04.330Z"
   },
   {
    "duration": 79,
    "start_time": "2024-06-17T07:56:59.726Z"
   },
   {
    "duration": 132,
    "start_time": "2024-06-17T07:57:29.483Z"
   },
   {
    "duration": 42,
    "start_time": "2024-06-17T07:57:51.295Z"
   },
   {
    "duration": 9,
    "start_time": "2024-06-17T07:57:55.743Z"
   },
   {
    "duration": 3,
    "start_time": "2024-06-17T07:58:13.803Z"
   },
   {
    "duration": 80,
    "start_time": "2024-06-17T07:58:25.473Z"
   },
   {
    "duration": 95,
    "start_time": "2024-06-17T07:58:56.923Z"
   },
   {
    "duration": 95,
    "start_time": "2024-06-17T08:01:50.007Z"
   },
   {
    "duration": 82,
    "start_time": "2024-06-17T08:02:10.087Z"
   },
   {
    "duration": 83,
    "start_time": "2024-06-17T08:02:18.109Z"
   },
   {
    "duration": 86,
    "start_time": "2024-06-17T08:02:22.432Z"
   },
   {
    "duration": 7,
    "start_time": "2024-06-17T08:03:53.650Z"
   },
   {
    "duration": 92,
    "start_time": "2024-06-17T08:04:27.419Z"
   },
   {
    "duration": 6,
    "start_time": "2024-06-17T08:06:34.620Z"
   },
   {
    "duration": 80,
    "start_time": "2024-06-17T08:06:57.580Z"
   },
   {
    "duration": 95,
    "start_time": "2024-06-17T08:08:39.246Z"
   },
   {
    "duration": 1101,
    "start_time": "2024-06-17T10:24:28.098Z"
   },
   {
    "duration": 1107,
    "start_time": "2024-06-17T10:24:29.201Z"
   },
   {
    "duration": 9,
    "start_time": "2024-06-17T10:24:30.310Z"
   },
   {
    "duration": 111,
    "start_time": "2024-06-17T10:24:30.321Z"
   },
   {
    "duration": 30,
    "start_time": "2024-06-17T10:24:30.433Z"
   },
   {
    "duration": 32,
    "start_time": "2024-06-17T10:24:30.465Z"
   },
   {
    "duration": 86,
    "start_time": "2024-06-17T10:24:30.498Z"
   },
   {
    "duration": 27,
    "start_time": "2024-06-17T10:24:30.586Z"
   },
   {
    "duration": 120,
    "start_time": "2024-06-17T10:24:30.614Z"
   },
   {
    "duration": 1176,
    "start_time": "2024-06-17T10:24:30.735Z"
   },
   {
    "duration": 30,
    "start_time": "2024-06-17T10:24:31.913Z"
   },
   {
    "duration": 13,
    "start_time": "2024-06-17T10:24:31.945Z"
   },
   {
    "duration": 15,
    "start_time": "2024-06-17T10:24:31.959Z"
   },
   {
    "duration": 1127,
    "start_time": "2024-06-17T10:24:31.977Z"
   },
   {
    "duration": 7,
    "start_time": "2024-06-17T10:24:33.105Z"
   },
   {
    "duration": 7,
    "start_time": "2024-06-17T10:24:33.113Z"
   },
   {
    "duration": 26,
    "start_time": "2024-06-17T10:24:33.121Z"
   },
   {
    "duration": 13,
    "start_time": "2024-06-17T10:24:33.148Z"
   },
   {
    "duration": 5,
    "start_time": "2024-06-17T10:24:33.162Z"
   },
   {
    "duration": 10,
    "start_time": "2024-06-17T10:24:33.168Z"
   },
   {
    "duration": 8,
    "start_time": "2024-06-17T10:24:33.179Z"
   },
   {
    "duration": 6,
    "start_time": "2024-06-17T10:24:33.188Z"
   },
   {
    "duration": 10,
    "start_time": "2024-06-17T10:24:33.195Z"
   },
   {
    "duration": 33,
    "start_time": "2024-06-17T10:24:33.207Z"
   },
   {
    "duration": 15,
    "start_time": "2024-06-17T10:24:33.241Z"
   },
   {
    "duration": 139,
    "start_time": "2024-06-17T10:24:33.257Z"
   },
   {
    "duration": 104,
    "start_time": "2024-06-17T10:24:33.398Z"
   },
   {
    "duration": 12,
    "start_time": "2024-06-17T10:24:33.503Z"
   },
   {
    "duration": 7,
    "start_time": "2024-06-17T10:24:33.516Z"
   },
   {
    "duration": 6,
    "start_time": "2024-06-17T10:24:33.525Z"
   },
   {
    "duration": 254,
    "start_time": "2024-06-17T10:24:33.533Z"
   },
   {
    "duration": 176,
    "start_time": "2024-06-17T10:24:33.789Z"
   },
   {
    "duration": 9,
    "start_time": "2024-06-17T10:24:33.966Z"
   },
   {
    "duration": 312,
    "start_time": "2024-06-17T10:24:33.984Z"
   },
   {
    "duration": 9,
    "start_time": "2024-06-17T10:24:34.297Z"
   },
   {
    "duration": 10,
    "start_time": "2024-06-17T10:24:34.307Z"
   },
   {
    "duration": 28,
    "start_time": "2024-06-17T10:24:34.318Z"
   },
   {
    "duration": 160,
    "start_time": "2024-06-17T10:24:34.347Z"
   },
   {
    "duration": 10,
    "start_time": "2024-06-17T10:24:34.508Z"
   },
   {
    "duration": 248,
    "start_time": "2024-06-17T10:24:34.519Z"
   },
   {
    "duration": 16,
    "start_time": "2024-06-17T10:24:34.770Z"
   },
   {
    "duration": 1230,
    "start_time": "2024-06-17T10:24:34.787Z"
   },
   {
    "duration": 0,
    "start_time": "2024-06-17T10:24:36.018Z"
   },
   {
    "duration": 3,
    "start_time": "2024-06-17T10:25:01.093Z"
   },
   {
    "duration": 8,
    "start_time": "2024-06-17T10:25:09.714Z"
   },
   {
    "duration": 104,
    "start_time": "2024-06-17T10:25:39.327Z"
   },
   {
    "duration": 9,
    "start_time": "2024-06-17T10:27:27.443Z"
   },
   {
    "duration": 1089,
    "start_time": "2024-06-17T10:30:19.360Z"
   },
   {
    "duration": 6,
    "start_time": "2024-06-17T10:43:19.241Z"
   },
   {
    "duration": 3,
    "start_time": "2024-06-17T10:43:32.881Z"
   },
   {
    "duration": 7,
    "start_time": "2024-06-17T10:50:14.329Z"
   },
   {
    "duration": 52,
    "start_time": "2024-06-17T10:51:54.905Z"
   },
   {
    "duration": 3,
    "start_time": "2024-06-17T10:52:04.067Z"
   },
   {
    "duration": 171,
    "start_time": "2024-06-17T10:52:35.152Z"
   },
   {
    "duration": 99,
    "start_time": "2024-06-17T10:53:02.869Z"
   },
   {
    "duration": 108,
    "start_time": "2024-06-17T10:53:14.115Z"
   },
   {
    "duration": 172,
    "start_time": "2024-06-17T10:53:17.582Z"
   },
   {
    "duration": 100,
    "start_time": "2024-06-17T10:55:22.338Z"
   },
   {
    "duration": 105,
    "start_time": "2024-06-17T10:55:36.989Z"
   },
   {
    "duration": 105,
    "start_time": "2024-06-17T10:55:40.338Z"
   },
   {
    "duration": 111,
    "start_time": "2024-06-17T10:56:29.493Z"
   },
   {
    "duration": 109,
    "start_time": "2024-06-17T10:56:35.250Z"
   },
   {
    "duration": 101,
    "start_time": "2024-06-17T10:56:53.588Z"
   },
   {
    "duration": 8,
    "start_time": "2024-06-17T10:59:56.096Z"
   },
   {
    "duration": 8,
    "start_time": "2024-06-17T11:00:38.477Z"
   },
   {
    "duration": 12,
    "start_time": "2024-06-17T11:00:55.804Z"
   },
   {
    "duration": 9,
    "start_time": "2024-06-17T11:08:28.079Z"
   },
   {
    "duration": 91,
    "start_time": "2024-06-17T11:09:01.461Z"
   },
   {
    "duration": 134,
    "start_time": "2024-06-17T11:09:52.144Z"
   },
   {
    "duration": 43,
    "start_time": "2024-06-17T11:14:56.762Z"
   },
   {
    "duration": 108,
    "start_time": "2024-06-17T11:15:07.406Z"
   },
   {
    "duration": 104,
    "start_time": "2024-06-17T11:15:21.096Z"
   },
   {
    "duration": 113,
    "start_time": "2024-06-17T11:15:41.937Z"
   },
   {
    "duration": 9,
    "start_time": "2024-06-17T11:17:11.289Z"
   },
   {
    "duration": 9,
    "start_time": "2024-06-17T11:18:02.854Z"
   },
   {
    "duration": 9,
    "start_time": "2024-06-17T11:18:16.325Z"
   },
   {
    "duration": 45,
    "start_time": "2024-06-17T11:18:40.476Z"
   },
   {
    "duration": 10,
    "start_time": "2024-06-17T11:18:52.243Z"
   },
   {
    "duration": 8,
    "start_time": "2024-06-17T11:19:29.567Z"
   },
   {
    "duration": 9,
    "start_time": "2024-06-17T11:19:47.009Z"
   },
   {
    "duration": 10,
    "start_time": "2024-06-17T11:23:03.779Z"
   },
   {
    "duration": 9,
    "start_time": "2024-06-17T11:23:07.021Z"
   },
   {
    "duration": 9,
    "start_time": "2024-06-17T11:23:12.438Z"
   },
   {
    "duration": 9,
    "start_time": "2024-06-17T11:23:21.803Z"
   },
   {
    "duration": 9,
    "start_time": "2024-06-17T11:25:08.385Z"
   },
   {
    "duration": 9,
    "start_time": "2024-06-17T11:25:26.133Z"
   },
   {
    "duration": 7,
    "start_time": "2024-06-17T11:25:29.921Z"
   },
   {
    "duration": 8,
    "start_time": "2024-06-17T11:26:09.603Z"
   },
   {
    "duration": 9,
    "start_time": "2024-06-17T11:26:24.152Z"
   },
   {
    "duration": 7,
    "start_time": "2024-06-17T11:30:44.287Z"
   },
   {
    "duration": 5,
    "start_time": "2024-06-17T11:33:06.669Z"
   },
   {
    "duration": 3,
    "start_time": "2024-06-17T11:33:15.852Z"
   },
   {
    "duration": 8,
    "start_time": "2024-06-17T11:43:38.349Z"
   },
   {
    "duration": 7,
    "start_time": "2024-06-17T11:49:32.182Z"
   },
   {
    "duration": 7,
    "start_time": "2024-06-17T11:50:02.290Z"
   },
   {
    "duration": 6,
    "start_time": "2024-06-17T11:50:08.513Z"
   },
   {
    "duration": 6,
    "start_time": "2024-06-17T11:51:33.309Z"
   },
   {
    "duration": 9,
    "start_time": "2024-06-17T11:53:40.598Z"
   },
   {
    "duration": 9,
    "start_time": "2024-06-17T11:54:13.297Z"
   },
   {
    "duration": 8,
    "start_time": "2024-06-17T11:54:23.384Z"
   },
   {
    "duration": 44,
    "start_time": "2024-06-17T12:00:03.358Z"
   },
   {
    "duration": 38,
    "start_time": "2024-06-17T12:00:10.292Z"
   },
   {
    "duration": 8,
    "start_time": "2024-06-17T12:05:08.904Z"
   },
   {
    "duration": 41,
    "start_time": "2024-06-17T12:09:28.077Z"
   },
   {
    "duration": 1073,
    "start_time": "2024-06-18T02:02:33.636Z"
   },
   {
    "duration": 1079,
    "start_time": "2024-06-18T02:02:34.711Z"
   },
   {
    "duration": 9,
    "start_time": "2024-06-18T02:02:35.792Z"
   },
   {
    "duration": 17,
    "start_time": "2024-06-18T02:02:35.802Z"
   },
   {
    "duration": 9,
    "start_time": "2024-06-18T02:02:35.820Z"
   },
   {
    "duration": 12,
    "start_time": "2024-06-18T02:02:35.830Z"
   },
   {
    "duration": 41,
    "start_time": "2024-06-18T02:02:35.843Z"
   },
   {
    "duration": 4,
    "start_time": "2024-06-18T02:02:35.885Z"
   },
   {
    "duration": 28,
    "start_time": "2024-06-18T02:02:35.890Z"
   },
   {
    "duration": 1122,
    "start_time": "2024-06-18T02:02:35.920Z"
   },
   {
    "duration": 42,
    "start_time": "2024-06-18T02:02:37.043Z"
   },
   {
    "duration": 8,
    "start_time": "2024-06-18T02:02:37.086Z"
   },
   {
    "duration": 25,
    "start_time": "2024-06-18T02:02:37.095Z"
   },
   {
    "duration": 1125,
    "start_time": "2024-06-18T02:02:37.122Z"
   },
   {
    "duration": 9,
    "start_time": "2024-06-18T02:02:38.249Z"
   },
   {
    "duration": 24,
    "start_time": "2024-06-18T02:02:38.259Z"
   },
   {
    "duration": 11,
    "start_time": "2024-06-18T02:02:38.284Z"
   },
   {
    "duration": 5,
    "start_time": "2024-06-18T02:02:38.296Z"
   },
   {
    "duration": 10,
    "start_time": "2024-06-18T02:02:38.302Z"
   },
   {
    "duration": 10,
    "start_time": "2024-06-18T02:02:38.313Z"
   },
   {
    "duration": 9,
    "start_time": "2024-06-18T02:02:38.324Z"
   },
   {
    "duration": 12,
    "start_time": "2024-06-18T02:02:38.334Z"
   },
   {
    "duration": 8,
    "start_time": "2024-06-18T02:02:38.347Z"
   },
   {
    "duration": 17,
    "start_time": "2024-06-18T02:02:38.357Z"
   },
   {
    "duration": 23,
    "start_time": "2024-06-18T02:02:38.376Z"
   },
   {
    "duration": 140,
    "start_time": "2024-06-18T02:02:38.400Z"
   },
   {
    "duration": 101,
    "start_time": "2024-06-18T02:02:38.541Z"
   },
   {
    "duration": 12,
    "start_time": "2024-06-18T02:02:38.643Z"
   },
   {
    "duration": 7,
    "start_time": "2024-06-18T02:02:38.656Z"
   },
   {
    "duration": 6,
    "start_time": "2024-06-18T02:02:38.664Z"
   },
   {
    "duration": 248,
    "start_time": "2024-06-18T02:02:38.671Z"
   },
   {
    "duration": 160,
    "start_time": "2024-06-18T02:02:38.920Z"
   },
   {
    "duration": 10,
    "start_time": "2024-06-18T02:02:39.081Z"
   },
   {
    "duration": 321,
    "start_time": "2024-06-18T02:02:39.092Z"
   },
   {
    "duration": 9,
    "start_time": "2024-06-18T02:02:39.415Z"
   },
   {
    "duration": 9,
    "start_time": "2024-06-18T02:02:39.425Z"
   },
   {
    "duration": 8,
    "start_time": "2024-06-18T02:02:39.435Z"
   },
   {
    "duration": 167,
    "start_time": "2024-06-18T02:02:39.444Z"
   },
   {
    "duration": 10,
    "start_time": "2024-06-18T02:02:39.613Z"
   },
   {
    "duration": 255,
    "start_time": "2024-06-18T02:02:39.625Z"
   },
   {
    "duration": 18,
    "start_time": "2024-06-18T02:02:39.883Z"
   },
   {
    "duration": 102,
    "start_time": "2024-06-18T02:02:39.903Z"
   },
   {
    "duration": 3,
    "start_time": "2024-06-18T02:02:40.006Z"
   },
   {
    "duration": 18,
    "start_time": "2024-06-18T02:02:40.010Z"
   },
   {
    "duration": 118,
    "start_time": "2024-06-18T02:02:40.029Z"
   },
   {
    "duration": 171,
    "start_time": "2024-06-18T02:02:40.148Z"
   },
   {
    "duration": 4,
    "start_time": "2024-06-18T02:02:40.321Z"
   },
   {
    "duration": 13,
    "start_time": "2024-06-18T02:02:40.326Z"
   },
   {
    "duration": 9,
    "start_time": "2024-06-18T02:02:40.341Z"
   },
   {
    "duration": 54,
    "start_time": "2024-06-18T02:02:40.352Z"
   },
   {
    "duration": 6,
    "start_time": "2024-06-18T02:02:40.408Z"
   },
   {
    "duration": 39,
    "start_time": "2024-06-18T02:02:40.416Z"
   },
   {
    "duration": 8,
    "start_time": "2024-06-18T02:02:40.456Z"
   },
   {
    "duration": 19,
    "start_time": "2024-06-18T02:02:40.465Z"
   },
   {
    "duration": 17,
    "start_time": "2024-06-18T02:02:40.485Z"
   },
   {
    "duration": 6,
    "start_time": "2024-06-18T02:03:55.492Z"
   },
   {
    "duration": 13,
    "start_time": "2024-06-18T02:07:41.170Z"
   },
   {
    "duration": 17,
    "start_time": "2024-06-18T02:08:28.494Z"
   },
   {
    "duration": 15,
    "start_time": "2024-06-18T02:08:43.697Z"
   },
   {
    "duration": 95,
    "start_time": "2024-06-18T02:08:54.059Z"
   },
   {
    "duration": 15,
    "start_time": "2024-06-18T02:08:58.303Z"
   },
   {
    "duration": 44,
    "start_time": "2024-06-18T02:13:45.933Z"
   },
   {
    "duration": 42,
    "start_time": "2024-06-18T02:13:57.539Z"
   },
   {
    "duration": 40,
    "start_time": "2024-06-18T02:15:52.987Z"
   },
   {
    "duration": 15,
    "start_time": "2024-06-18T02:22:44.543Z"
   },
   {
    "duration": 14,
    "start_time": "2024-06-18T02:23:04.162Z"
   },
   {
    "duration": 67,
    "start_time": "2024-06-18T02:26:42.232Z"
   },
   {
    "duration": 62,
    "start_time": "2024-06-18T02:27:33.901Z"
   },
   {
    "duration": 61,
    "start_time": "2024-06-18T02:28:48.399Z"
   },
   {
    "duration": 66,
    "start_time": "2024-06-18T02:29:16.266Z"
   },
   {
    "duration": 837,
    "start_time": "2024-06-18T02:30:07.714Z"
   },
   {
    "duration": 40,
    "start_time": "2024-06-18T02:30:56.748Z"
   },
   {
    "duration": 43,
    "start_time": "2024-06-18T02:31:46.036Z"
   },
   {
    "duration": 22,
    "start_time": "2024-06-18T02:40:36.608Z"
   },
   {
    "duration": 24,
    "start_time": "2024-06-18T02:41:14.295Z"
   },
   {
    "duration": 7,
    "start_time": "2024-06-18T02:53:23.083Z"
   },
   {
    "duration": 3,
    "start_time": "2024-06-18T02:53:28.583Z"
   },
   {
    "duration": 4,
    "start_time": "2024-06-18T02:53:36.009Z"
   },
   {
    "duration": 4,
    "start_time": "2024-06-18T02:54:23.283Z"
   },
   {
    "duration": 9,
    "start_time": "2024-06-18T03:11:28.051Z"
   },
   {
    "duration": 9,
    "start_time": "2024-06-18T03:11:37.968Z"
   },
   {
    "duration": 59,
    "start_time": "2024-06-18T03:11:50.401Z"
   },
   {
    "duration": 55,
    "start_time": "2024-06-18T03:12:01.961Z"
   },
   {
    "duration": 68,
    "start_time": "2024-06-18T03:14:12.991Z"
   },
   {
    "duration": 59,
    "start_time": "2024-06-18T03:15:06.208Z"
   },
   {
    "duration": 59,
    "start_time": "2024-06-18T03:15:24.673Z"
   },
   {
    "duration": 77,
    "start_time": "2024-06-18T03:15:53.197Z"
   },
   {
    "duration": 4,
    "start_time": "2024-06-18T03:20:19.234Z"
   },
   {
    "duration": 5,
    "start_time": "2024-06-18T03:20:54.114Z"
   },
   {
    "duration": 3,
    "start_time": "2024-06-18T03:21:09.521Z"
   },
   {
    "duration": 3,
    "start_time": "2024-06-18T03:21:50.490Z"
   },
   {
    "duration": 7,
    "start_time": "2024-06-18T03:29:10.672Z"
   },
   {
    "duration": 7,
    "start_time": "2024-06-18T03:29:30.578Z"
   },
   {
    "duration": 7,
    "start_time": "2024-06-18T03:29:42.811Z"
   },
   {
    "duration": 6,
    "start_time": "2024-06-18T03:50:13.507Z"
   },
   {
    "duration": 5,
    "start_time": "2024-06-18T03:50:18.137Z"
   },
   {
    "duration": 7,
    "start_time": "2024-06-18T03:50:24.612Z"
   },
   {
    "duration": 6,
    "start_time": "2024-06-18T03:52:55.546Z"
   },
   {
    "duration": 17,
    "start_time": "2024-06-18T03:55:52.450Z"
   },
   {
    "duration": 21,
    "start_time": "2024-06-18T03:56:02.337Z"
   },
   {
    "duration": 2,
    "start_time": "2024-06-18T03:56:54.248Z"
   },
   {
    "duration": 2,
    "start_time": "2024-06-18T03:57:08.080Z"
   },
   {
    "duration": 22,
    "start_time": "2024-06-18T04:07:47.510Z"
   },
   {
    "duration": 17,
    "start_time": "2024-06-18T04:07:59.537Z"
   },
   {
    "duration": 19,
    "start_time": "2024-06-18T04:08:28.701Z"
   },
   {
    "duration": 18,
    "start_time": "2024-06-18T04:08:35.406Z"
   },
   {
    "duration": 17,
    "start_time": "2024-06-18T04:08:49.193Z"
   },
   {
    "duration": 20,
    "start_time": "2024-06-18T04:09:14.404Z"
   },
   {
    "duration": 67,
    "start_time": "2024-06-18T04:13:30.231Z"
   },
   {
    "duration": 18,
    "start_time": "2024-06-18T04:13:35.382Z"
   },
   {
    "duration": 3,
    "start_time": "2024-06-18T04:15:55.386Z"
   },
   {
    "duration": 3,
    "start_time": "2024-06-18T04:16:02.638Z"
   },
   {
    "duration": 3,
    "start_time": "2024-06-18T04:16:49.570Z"
   },
   {
    "duration": 8,
    "start_time": "2024-06-18T04:28:33.344Z"
   },
   {
    "duration": 7,
    "start_time": "2024-06-18T04:28:56.645Z"
   },
   {
    "duration": 6,
    "start_time": "2024-06-18T04:30:53.140Z"
   },
   {
    "duration": 7,
    "start_time": "2024-06-18T04:32:49.059Z"
   },
   {
    "duration": 7,
    "start_time": "2024-06-18T04:33:35.664Z"
   },
   {
    "duration": 5,
    "start_time": "2024-06-18T04:38:56.813Z"
   },
   {
    "duration": 7,
    "start_time": "2024-06-18T04:44:19.983Z"
   },
   {
    "duration": 6,
    "start_time": "2024-06-18T04:45:57.049Z"
   },
   {
    "duration": 7,
    "start_time": "2024-06-18T04:46:11.840Z"
   },
   {
    "duration": 7,
    "start_time": "2024-06-18T04:46:27.546Z"
   },
   {
    "duration": 8,
    "start_time": "2024-06-18T04:46:33.846Z"
   },
   {
    "duration": 7,
    "start_time": "2024-06-18T05:43:08.727Z"
   },
   {
    "duration": 5,
    "start_time": "2024-06-18T05:43:45.993Z"
   },
   {
    "duration": 6,
    "start_time": "2024-06-18T05:43:53.933Z"
   },
   {
    "duration": 5,
    "start_time": "2024-06-18T05:45:51.437Z"
   },
   {
    "duration": 7,
    "start_time": "2024-06-18T05:47:59.709Z"
   },
   {
    "duration": 8,
    "start_time": "2024-06-18T05:50:39.644Z"
   },
   {
    "duration": 7,
    "start_time": "2024-06-18T05:50:50.681Z"
   },
   {
    "duration": 9,
    "start_time": "2024-06-18T05:51:24.749Z"
   },
   {
    "duration": 13,
    "start_time": "2024-06-18T05:52:00.742Z"
   },
   {
    "duration": 13,
    "start_time": "2024-06-18T05:52:07.244Z"
   },
   {
    "duration": 793,
    "start_time": "2024-06-18T05:53:14.179Z"
   },
   {
    "duration": 845,
    "start_time": "2024-06-18T05:53:23.872Z"
   },
   {
    "duration": 6,
    "start_time": "2024-06-18T05:54:07.393Z"
   },
   {
    "duration": 9,
    "start_time": "2024-06-18T05:54:21.739Z"
   },
   {
    "duration": 7,
    "start_time": "2024-06-18T05:54:53.606Z"
   },
   {
    "duration": 6,
    "start_time": "2024-06-18T05:56:15.970Z"
   },
   {
    "duration": 4,
    "start_time": "2024-06-18T05:56:26.389Z"
   },
   {
    "duration": 5,
    "start_time": "2024-06-18T05:57:26.044Z"
   },
   {
    "duration": 7,
    "start_time": "2024-06-18T05:57:41.239Z"
   },
   {
    "duration": 6,
    "start_time": "2024-06-18T05:57:49.084Z"
   },
   {
    "duration": 5,
    "start_time": "2024-06-18T05:57:57.196Z"
   },
   {
    "duration": 4,
    "start_time": "2024-06-18T05:58:42.429Z"
   },
   {
    "duration": 64,
    "start_time": "2024-06-18T05:58:55.140Z"
   },
   {
    "duration": 5,
    "start_time": "2024-06-18T05:58:59.111Z"
   },
   {
    "duration": 5,
    "start_time": "2024-06-18T05:59:17.869Z"
   },
   {
    "duration": 5,
    "start_time": "2024-06-18T05:59:21.944Z"
   },
   {
    "duration": 4,
    "start_time": "2024-06-18T06:04:55.442Z"
   },
   {
    "duration": 12,
    "start_time": "2024-06-18T06:08:05.689Z"
   },
   {
    "duration": 8,
    "start_time": "2024-06-18T06:10:05.093Z"
   },
   {
    "duration": 6,
    "start_time": "2024-06-18T06:13:16.472Z"
   },
   {
    "duration": 7,
    "start_time": "2024-06-18T06:13:22.633Z"
   },
   {
    "duration": 7,
    "start_time": "2024-06-18T06:55:29.677Z"
   },
   {
    "duration": 68,
    "start_time": "2024-06-18T07:00:05.054Z"
   },
   {
    "duration": 896,
    "start_time": "2024-06-18T07:01:12.552Z"
   },
   {
    "duration": 871,
    "start_time": "2024-06-18T07:01:36.357Z"
   },
   {
    "duration": 7,
    "start_time": "2024-06-18T07:01:50.478Z"
   },
   {
    "duration": 7,
    "start_time": "2024-06-18T07:13:45.351Z"
   },
   {
    "duration": 19,
    "start_time": "2024-06-18T07:14:06.223Z"
   },
   {
    "duration": 4,
    "start_time": "2024-06-18T07:18:06.945Z"
   },
   {
    "duration": 17,
    "start_time": "2024-06-18T07:20:20.859Z"
   },
   {
    "duration": 6,
    "start_time": "2024-06-18T07:28:42.889Z"
   },
   {
    "duration": 70,
    "start_time": "2024-06-18T07:44:15.163Z"
   },
   {
    "duration": 7,
    "start_time": "2024-06-18T07:45:00.485Z"
   },
   {
    "duration": 8,
    "start_time": "2024-06-18T07:47:11.203Z"
   },
   {
    "duration": 8,
    "start_time": "2024-06-18T07:48:25.027Z"
   },
   {
    "duration": 9,
    "start_time": "2024-06-18T07:49:07.036Z"
   },
   {
    "duration": 6,
    "start_time": "2024-06-18T07:49:14.164Z"
   },
   {
    "duration": 5,
    "start_time": "2024-06-18T07:50:46.233Z"
   },
   {
    "duration": 7,
    "start_time": "2024-06-18T07:52:37.043Z"
   },
   {
    "duration": 4,
    "start_time": "2024-06-18T07:54:36.087Z"
   },
   {
    "duration": 3,
    "start_time": "2024-06-18T08:22:40.652Z"
   },
   {
    "duration": 1092,
    "start_time": "2024-06-18T08:22:40.656Z"
   },
   {
    "duration": 8,
    "start_time": "2024-06-18T08:22:41.750Z"
   },
   {
    "duration": 13,
    "start_time": "2024-06-18T08:22:41.759Z"
   },
   {
    "duration": 20,
    "start_time": "2024-06-18T08:22:41.774Z"
   },
   {
    "duration": 15,
    "start_time": "2024-06-18T08:22:41.796Z"
   },
   {
    "duration": 15,
    "start_time": "2024-06-18T08:22:41.812Z"
   },
   {
    "duration": 6,
    "start_time": "2024-06-18T08:22:41.828Z"
   },
   {
    "duration": 14,
    "start_time": "2024-06-18T08:22:41.835Z"
   },
   {
    "duration": 1074,
    "start_time": "2024-06-18T08:22:41.850Z"
   },
   {
    "duration": 11,
    "start_time": "2024-06-18T08:22:42.928Z"
   },
   {
    "duration": 36,
    "start_time": "2024-06-18T08:22:42.940Z"
   },
   {
    "duration": 16,
    "start_time": "2024-06-18T08:22:42.978Z"
   },
   {
    "duration": 1062,
    "start_time": "2024-06-18T08:22:42.995Z"
   },
   {
    "duration": 7,
    "start_time": "2024-06-18T08:22:44.059Z"
   },
   {
    "duration": 11,
    "start_time": "2024-06-18T08:22:44.067Z"
   },
   {
    "duration": 28,
    "start_time": "2024-06-18T08:22:44.079Z"
   },
   {
    "duration": 23,
    "start_time": "2024-06-18T08:22:44.108Z"
   },
   {
    "duration": 30,
    "start_time": "2024-06-18T08:22:44.133Z"
   },
   {
    "duration": 10,
    "start_time": "2024-06-18T08:22:44.164Z"
   },
   {
    "duration": 7,
    "start_time": "2024-06-18T08:22:44.175Z"
   },
   {
    "duration": 12,
    "start_time": "2024-06-18T08:22:44.183Z"
   },
   {
    "duration": 9,
    "start_time": "2024-06-18T08:22:44.196Z"
   },
   {
    "duration": 46,
    "start_time": "2024-06-18T08:22:44.206Z"
   },
   {
    "duration": 14,
    "start_time": "2024-06-18T08:22:44.253Z"
   },
   {
    "duration": 137,
    "start_time": "2024-06-18T08:22:44.268Z"
   },
   {
    "duration": 114,
    "start_time": "2024-06-18T08:22:44.407Z"
   },
   {
    "duration": 13,
    "start_time": "2024-06-18T08:22:44.522Z"
   },
   {
    "duration": 13,
    "start_time": "2024-06-18T08:22:44.539Z"
   },
   {
    "duration": 21,
    "start_time": "2024-06-18T08:22:44.554Z"
   },
   {
    "duration": 180,
    "start_time": "2024-06-18T08:22:44.576Z"
   },
   {
    "duration": 168,
    "start_time": "2024-06-18T08:22:44.757Z"
   },
   {
    "duration": 11,
    "start_time": "2024-06-18T08:22:44.927Z"
   },
   {
    "duration": 335,
    "start_time": "2024-06-18T08:22:44.939Z"
   },
   {
    "duration": 15,
    "start_time": "2024-06-18T08:22:45.276Z"
   },
   {
    "duration": 41,
    "start_time": "2024-06-18T08:22:45.292Z"
   },
   {
    "duration": 24,
    "start_time": "2024-06-18T08:22:45.334Z"
   },
   {
    "duration": 176,
    "start_time": "2024-06-18T08:22:45.359Z"
   },
   {
    "duration": 11,
    "start_time": "2024-06-18T08:22:45.536Z"
   },
   {
    "duration": 309,
    "start_time": "2024-06-18T08:22:45.548Z"
   },
   {
    "duration": 9,
    "start_time": "2024-06-18T08:22:45.858Z"
   },
   {
    "duration": 121,
    "start_time": "2024-06-18T08:22:45.868Z"
   },
   {
    "duration": 4,
    "start_time": "2024-06-18T08:22:45.991Z"
   },
   {
    "duration": 7,
    "start_time": "2024-06-18T08:22:46.002Z"
   },
   {
    "duration": 120,
    "start_time": "2024-06-18T08:22:46.010Z"
   },
   {
    "duration": 118,
    "start_time": "2024-06-18T08:22:46.131Z"
   },
   {
    "duration": 4,
    "start_time": "2024-06-18T08:22:46.250Z"
   },
   {
    "duration": 67,
    "start_time": "2024-06-18T08:22:46.255Z"
   },
   {
    "duration": 62,
    "start_time": "2024-06-18T08:22:46.324Z"
   },
   {
    "duration": 22,
    "start_time": "2024-06-18T08:22:46.388Z"
   },
   {
    "duration": 64,
    "start_time": "2024-06-18T08:22:46.412Z"
   },
   {
    "duration": 35,
    "start_time": "2024-06-18T08:22:46.477Z"
   },
   {
    "duration": 59,
    "start_time": "2024-06-18T08:22:46.513Z"
   },
   {
    "duration": 30,
    "start_time": "2024-06-18T08:22:46.573Z"
   },
   {
    "duration": 53,
    "start_time": "2024-06-18T08:22:46.604Z"
   },
   {
    "duration": 47,
    "start_time": "2024-06-18T08:22:46.659Z"
   },
   {
    "duration": 64,
    "start_time": "2024-06-18T08:22:46.708Z"
   },
   {
    "duration": 79,
    "start_time": "2024-06-18T08:22:46.773Z"
   },
   {
    "duration": 5,
    "start_time": "2024-06-18T08:22:46.853Z"
   },
   {
    "duration": 19,
    "start_time": "2024-06-18T08:22:46.859Z"
   },
   {
    "duration": 21,
    "start_time": "2024-06-18T08:22:46.879Z"
   },
   {
    "duration": 54,
    "start_time": "2024-06-18T08:22:46.901Z"
   },
   {
    "duration": 3,
    "start_time": "2024-06-18T08:22:46.957Z"
   },
   {
    "duration": 19,
    "start_time": "2024-06-18T08:22:46.961Z"
   },
   {
    "duration": 22,
    "start_time": "2024-06-18T08:22:46.982Z"
   },
   {
    "duration": 23,
    "start_time": "2024-06-18T08:22:47.005Z"
   },
   {
    "duration": 28,
    "start_time": "2024-06-18T08:22:47.029Z"
   },
   {
    "duration": 22,
    "start_time": "2024-06-18T08:22:47.058Z"
   },
   {
    "duration": 7,
    "start_time": "2024-06-18T08:22:47.082Z"
   },
   {
    "duration": 15,
    "start_time": "2024-06-18T08:22:47.090Z"
   },
   {
    "duration": 27,
    "start_time": "2024-06-18T08:22:47.106Z"
   },
   {
    "duration": 39,
    "start_time": "2024-06-18T08:22:47.134Z"
   },
   {
    "duration": 99,
    "start_time": "2024-06-18T08:22:47.175Z"
   },
   {
    "duration": 32,
    "start_time": "2024-06-18T08:22:47.276Z"
   },
   {
    "duration": 16,
    "start_time": "2024-06-18T08:22:47.310Z"
   },
   {
    "duration": 30,
    "start_time": "2024-06-18T08:22:47.327Z"
   },
   {
    "duration": 9,
    "start_time": "2024-06-18T08:22:47.358Z"
   },
   {
    "duration": 1140,
    "start_time": "2024-06-18T09:53:18.858Z"
   },
   {
    "duration": 1194,
    "start_time": "2024-06-18T09:53:20.000Z"
   },
   {
    "duration": 10,
    "start_time": "2024-06-18T09:53:21.195Z"
   },
   {
    "duration": 11,
    "start_time": "2024-06-18T09:53:21.206Z"
   },
   {
    "duration": 9,
    "start_time": "2024-06-18T09:53:21.219Z"
   },
   {
    "duration": 7,
    "start_time": "2024-06-18T09:53:21.229Z"
   },
   {
    "duration": 49,
    "start_time": "2024-06-18T09:53:21.237Z"
   },
   {
    "duration": 3,
    "start_time": "2024-06-18T09:53:21.287Z"
   },
   {
    "duration": 13,
    "start_time": "2024-06-18T09:53:21.291Z"
   },
   {
    "duration": 1185,
    "start_time": "2024-06-18T09:53:21.305Z"
   },
   {
    "duration": 30,
    "start_time": "2024-06-18T09:53:22.492Z"
   },
   {
    "duration": 8,
    "start_time": "2024-06-18T09:53:22.523Z"
   },
   {
    "duration": 11,
    "start_time": "2024-06-18T09:53:22.532Z"
   },
   {
    "duration": 1137,
    "start_time": "2024-06-18T09:53:22.545Z"
   },
   {
    "duration": 7,
    "start_time": "2024-06-18T09:53:23.684Z"
   },
   {
    "duration": 8,
    "start_time": "2024-06-18T09:53:23.692Z"
   },
   {
    "duration": 10,
    "start_time": "2024-06-18T09:53:23.701Z"
   },
   {
    "duration": 6,
    "start_time": "2024-06-18T09:53:23.713Z"
   },
   {
    "duration": 5,
    "start_time": "2024-06-18T09:53:23.720Z"
   },
   {
    "duration": 5,
    "start_time": "2024-06-18T09:53:23.727Z"
   },
   {
    "duration": 4,
    "start_time": "2024-06-18T09:53:23.734Z"
   },
   {
    "duration": 32,
    "start_time": "2024-06-18T09:53:23.740Z"
   },
   {
    "duration": 5,
    "start_time": "2024-06-18T09:53:23.774Z"
   },
   {
    "duration": 15,
    "start_time": "2024-06-18T09:53:23.780Z"
   },
   {
    "duration": 13,
    "start_time": "2024-06-18T09:53:23.796Z"
   },
   {
    "duration": 166,
    "start_time": "2024-06-18T09:53:23.810Z"
   },
   {
    "duration": 107,
    "start_time": "2024-06-18T09:53:23.978Z"
   },
   {
    "duration": 14,
    "start_time": "2024-06-18T09:53:24.086Z"
   },
   {
    "duration": 10,
    "start_time": "2024-06-18T09:53:24.101Z"
   },
   {
    "duration": 7,
    "start_time": "2024-06-18T09:53:24.113Z"
   },
   {
    "duration": 262,
    "start_time": "2024-06-18T09:53:24.122Z"
   },
   {
    "duration": 187,
    "start_time": "2024-06-18T09:53:24.386Z"
   },
   {
    "duration": 9,
    "start_time": "2024-06-18T09:53:24.574Z"
   },
   {
    "duration": 349,
    "start_time": "2024-06-18T09:53:24.584Z"
   },
   {
    "duration": 9,
    "start_time": "2024-06-18T09:53:24.935Z"
   },
   {
    "duration": 10,
    "start_time": "2024-06-18T09:53:24.945Z"
   },
   {
    "duration": 20,
    "start_time": "2024-06-18T09:53:24.956Z"
   },
   {
    "duration": 201,
    "start_time": "2024-06-18T09:53:24.977Z"
   },
   {
    "duration": 11,
    "start_time": "2024-06-18T09:53:25.179Z"
   },
   {
    "duration": 256,
    "start_time": "2024-06-18T09:53:25.191Z"
   },
   {
    "duration": 20,
    "start_time": "2024-06-18T09:53:25.452Z"
   },
   {
    "duration": 115,
    "start_time": "2024-06-18T09:53:25.473Z"
   },
   {
    "duration": 4,
    "start_time": "2024-06-18T09:53:25.589Z"
   },
   {
    "duration": 20,
    "start_time": "2024-06-18T09:53:25.594Z"
   },
   {
    "duration": 116,
    "start_time": "2024-06-18T09:53:25.615Z"
   },
   {
    "duration": 175,
    "start_time": "2024-06-18T09:53:25.732Z"
   },
   {
    "duration": 3,
    "start_time": "2024-06-18T09:53:25.908Z"
   },
   {
    "duration": 34,
    "start_time": "2024-06-18T09:53:25.912Z"
   },
   {
    "duration": 42,
    "start_time": "2024-06-18T09:53:25.947Z"
   },
   {
    "duration": 7,
    "start_time": "2024-06-18T09:53:25.990Z"
   },
   {
    "duration": 41,
    "start_time": "2024-06-18T09:53:25.998Z"
   },
   {
    "duration": 16,
    "start_time": "2024-06-18T09:53:26.041Z"
   },
   {
    "duration": 45,
    "start_time": "2024-06-18T09:53:26.071Z"
   },
   {
    "duration": 16,
    "start_time": "2024-06-18T09:53:26.117Z"
   },
   {
    "duration": 60,
    "start_time": "2024-06-18T09:53:26.134Z"
   },
   {
    "duration": 28,
    "start_time": "2024-06-18T09:53:26.195Z"
   },
   {
    "duration": 84,
    "start_time": "2024-06-18T09:53:26.225Z"
   },
   {
    "duration": 82,
    "start_time": "2024-06-18T09:53:26.310Z"
   },
   {
    "duration": 7,
    "start_time": "2024-06-18T09:53:26.393Z"
   },
   {
    "duration": 5,
    "start_time": "2024-06-18T09:53:26.401Z"
   },
   {
    "duration": 2,
    "start_time": "2024-06-18T09:53:26.408Z"
   },
   {
    "duration": 20,
    "start_time": "2024-06-18T09:53:26.412Z"
   },
   {
    "duration": 40,
    "start_time": "2024-06-18T09:53:26.433Z"
   },
   {
    "duration": 21,
    "start_time": "2024-06-18T09:53:26.474Z"
   },
   {
    "duration": 12,
    "start_time": "2024-06-18T09:53:26.496Z"
   },
   {
    "duration": 5,
    "start_time": "2024-06-18T09:53:26.509Z"
   },
   {
    "duration": 6,
    "start_time": "2024-06-18T09:53:26.515Z"
   },
   {
    "duration": 8,
    "start_time": "2024-06-18T09:53:26.522Z"
   },
   {
    "duration": 17,
    "start_time": "2024-06-18T09:53:26.532Z"
   },
   {
    "duration": 9,
    "start_time": "2024-06-18T09:53:26.550Z"
   },
   {
    "duration": 19,
    "start_time": "2024-06-18T09:53:26.560Z"
   },
   {
    "duration": 3,
    "start_time": "2024-06-18T09:53:26.580Z"
   },
   {
    "duration": 12,
    "start_time": "2024-06-18T09:53:26.584Z"
   },
   {
    "duration": 12,
    "start_time": "2024-06-18T09:53:26.597Z"
   },
   {
    "duration": 5,
    "start_time": "2024-06-18T09:53:26.610Z"
   },
   {
    "duration": 5,
    "start_time": "2024-06-18T09:53:26.617Z"
   },
   {
    "duration": 3,
    "start_time": "2024-06-18T09:53:26.623Z"
   },
   {
    "duration": 8,
    "start_time": "2024-06-18T10:10:17.302Z"
   },
   {
    "duration": 8,
    "start_time": "2024-06-18T10:10:28.585Z"
   },
   {
    "duration": 28,
    "start_time": "2024-06-18T10:12:05.168Z"
   },
   {
    "duration": 17,
    "start_time": "2024-06-18T10:21:15.623Z"
   },
   {
    "duration": 18,
    "start_time": "2024-06-18T10:23:43.950Z"
   },
   {
    "duration": 7,
    "start_time": "2024-06-18T10:24:36.919Z"
   },
   {
    "duration": 60,
    "start_time": "2024-06-18T10:24:55.901Z"
   },
   {
    "duration": 7,
    "start_time": "2024-06-18T10:25:01.072Z"
   },
   {
    "duration": 5,
    "start_time": "2024-06-18T10:25:31.055Z"
   },
   {
    "duration": 4,
    "start_time": "2024-06-18T10:25:36.414Z"
   },
   {
    "duration": 5,
    "start_time": "2024-06-18T10:25:46.655Z"
   },
   {
    "duration": 4,
    "start_time": "2024-06-18T10:30:28.493Z"
   },
   {
    "duration": 89,
    "start_time": "2024-06-18T10:30:39.360Z"
   },
   {
    "duration": 3,
    "start_time": "2024-06-18T10:30:52.436Z"
   },
   {
    "duration": 3,
    "start_time": "2024-06-18T10:32:25.480Z"
   },
   {
    "duration": 4,
    "start_time": "2024-06-18T10:32:30.949Z"
   },
   {
    "duration": 12,
    "start_time": "2024-06-18T10:38:58.828Z"
   },
   {
    "duration": 13,
    "start_time": "2024-06-18T10:39:16.954Z"
   },
   {
    "duration": 13,
    "start_time": "2024-06-18T10:39:48.908Z"
   },
   {
    "duration": 12,
    "start_time": "2024-06-18T10:45:04.504Z"
   },
   {
    "duration": 4,
    "start_time": "2024-06-18T10:47:29.060Z"
   },
   {
    "duration": 3,
    "start_time": "2024-06-18T10:47:44.060Z"
   },
   {
    "duration": 3,
    "start_time": "2024-06-18T10:48:10.452Z"
   },
   {
    "duration": 636,
    "start_time": "2024-06-18T10:49:18.477Z"
   },
   {
    "duration": 4,
    "start_time": "2024-06-18T10:49:24.106Z"
   },
   {
    "duration": 5,
    "start_time": "2024-06-18T10:49:31.351Z"
   },
   {
    "duration": 11,
    "start_time": "2024-06-18T10:56:50.370Z"
   },
   {
    "duration": 11,
    "start_time": "2024-06-18T10:56:57.593Z"
   },
   {
    "duration": 11,
    "start_time": "2024-06-18T10:57:09.058Z"
   },
   {
    "duration": 4,
    "start_time": "2024-06-18T10:57:45.392Z"
   },
   {
    "duration": 4,
    "start_time": "2024-06-18T10:57:54.971Z"
   },
   {
    "duration": 3,
    "start_time": "2024-06-18T10:58:03.204Z"
   },
   {
    "duration": 4,
    "start_time": "2024-06-18T10:59:08.351Z"
   },
   {
    "duration": 988,
    "start_time": "2024-06-18T11:00:29.698Z"
   },
   {
    "duration": 1117,
    "start_time": "2024-06-18T11:00:30.687Z"
   },
   {
    "duration": 9,
    "start_time": "2024-06-18T11:00:31.806Z"
   },
   {
    "duration": 36,
    "start_time": "2024-06-18T11:00:31.817Z"
   },
   {
    "duration": 23,
    "start_time": "2024-06-18T11:00:31.854Z"
   },
   {
    "duration": 16,
    "start_time": "2024-06-18T11:00:31.879Z"
   },
   {
    "duration": 58,
    "start_time": "2024-06-18T11:00:31.896Z"
   },
   {
    "duration": 2,
    "start_time": "2024-06-18T11:00:31.956Z"
   },
   {
    "duration": 17,
    "start_time": "2024-06-18T11:00:31.959Z"
   },
   {
    "duration": 1141,
    "start_time": "2024-06-18T11:00:31.978Z"
   },
   {
    "duration": 10,
    "start_time": "2024-06-18T11:00:33.121Z"
   },
   {
    "duration": 23,
    "start_time": "2024-06-18T11:00:33.132Z"
   },
   {
    "duration": 18,
    "start_time": "2024-06-18T11:00:33.156Z"
   },
   {
    "duration": 1144,
    "start_time": "2024-06-18T11:00:33.175Z"
   },
   {
    "duration": 7,
    "start_time": "2024-06-18T11:00:34.321Z"
   },
   {
    "duration": 19,
    "start_time": "2024-06-18T11:00:34.329Z"
   },
   {
    "duration": 31,
    "start_time": "2024-06-18T11:00:34.349Z"
   },
   {
    "duration": 13,
    "start_time": "2024-06-18T11:00:34.382Z"
   },
   {
    "duration": 16,
    "start_time": "2024-06-18T11:00:34.396Z"
   },
   {
    "duration": 24,
    "start_time": "2024-06-18T11:00:34.414Z"
   },
   {
    "duration": 12,
    "start_time": "2024-06-18T11:00:34.440Z"
   },
   {
    "duration": 25,
    "start_time": "2024-06-18T11:00:34.453Z"
   },
   {
    "duration": 17,
    "start_time": "2024-06-18T11:00:34.480Z"
   },
   {
    "duration": 20,
    "start_time": "2024-06-18T11:00:34.499Z"
   },
   {
    "duration": 12,
    "start_time": "2024-06-18T11:00:34.520Z"
   },
   {
    "duration": 47,
    "start_time": "2024-06-18T11:00:34.533Z"
   },
   {
    "duration": 4,
    "start_time": "2024-06-18T11:00:34.582Z"
   },
   {
    "duration": 23,
    "start_time": "2024-06-18T11:00:34.590Z"
   },
   {
    "duration": 31,
    "start_time": "2024-06-18T11:00:34.614Z"
   },
   {
    "duration": 19,
    "start_time": "2024-06-18T11:00:34.646Z"
   },
   {
    "duration": 15,
    "start_time": "2024-06-18T11:00:34.666Z"
   },
   {
    "duration": 17,
    "start_time": "2024-06-18T11:00:34.683Z"
   },
   {
    "duration": 22,
    "start_time": "2024-06-18T11:00:34.702Z"
   },
   {
    "duration": 152,
    "start_time": "2024-06-18T11:00:34.725Z"
   },
   {
    "duration": 119,
    "start_time": "2024-06-18T11:00:34.879Z"
   },
   {
    "duration": 15,
    "start_time": "2024-06-18T11:00:34.999Z"
   },
   {
    "duration": 15,
    "start_time": "2024-06-18T11:00:35.015Z"
   },
   {
    "duration": 52,
    "start_time": "2024-06-18T11:00:35.031Z"
   },
   {
    "duration": 287,
    "start_time": "2024-06-18T11:00:35.085Z"
   },
   {
    "duration": 179,
    "start_time": "2024-06-18T11:00:35.374Z"
   },
   {
    "duration": 10,
    "start_time": "2024-06-18T11:00:35.554Z"
   },
   {
    "duration": 308,
    "start_time": "2024-06-18T11:00:35.572Z"
   },
   {
    "duration": 9,
    "start_time": "2024-06-18T11:00:35.881Z"
   },
   {
    "duration": 17,
    "start_time": "2024-06-18T11:00:35.892Z"
   },
   {
    "duration": 27,
    "start_time": "2024-06-18T11:00:35.910Z"
   },
   {
    "duration": 170,
    "start_time": "2024-06-18T11:00:35.938Z"
   },
   {
    "duration": 11,
    "start_time": "2024-06-18T11:00:36.110Z"
   },
   {
    "duration": 266,
    "start_time": "2024-06-18T11:00:36.123Z"
   },
   {
    "duration": 9,
    "start_time": "2024-06-18T11:00:36.390Z"
   },
   {
    "duration": 152,
    "start_time": "2024-06-18T11:00:36.400Z"
   },
   {
    "duration": 3,
    "start_time": "2024-06-18T11:00:36.553Z"
   },
   {
    "duration": 20,
    "start_time": "2024-06-18T11:00:36.558Z"
   },
   {
    "duration": 111,
    "start_time": "2024-06-18T11:00:36.579Z"
   },
   {
    "duration": 168,
    "start_time": "2024-06-18T11:00:36.691Z"
   },
   {
    "duration": 3,
    "start_time": "2024-06-18T11:00:36.860Z"
   },
   {
    "duration": 14,
    "start_time": "2024-06-18T11:00:36.871Z"
   },
   {
    "duration": 55,
    "start_time": "2024-06-18T11:00:36.886Z"
   },
   {
    "duration": 7,
    "start_time": "2024-06-18T11:00:36.943Z"
   },
   {
    "duration": 53,
    "start_time": "2024-06-18T11:00:36.952Z"
   },
   {
    "duration": 56,
    "start_time": "2024-06-18T11:00:37.006Z"
   },
   {
    "duration": 68,
    "start_time": "2024-06-18T11:00:37.063Z"
   },
   {
    "duration": 18,
    "start_time": "2024-06-18T11:00:37.133Z"
   },
   {
    "duration": 44,
    "start_time": "2024-06-18T11:00:37.153Z"
   },
   {
    "duration": 28,
    "start_time": "2024-06-18T11:00:37.198Z"
   },
   {
    "duration": 66,
    "start_time": "2024-06-18T11:00:37.227Z"
   },
   {
    "duration": 78,
    "start_time": "2024-06-18T11:00:37.294Z"
   },
   {
    "duration": 6,
    "start_time": "2024-06-18T11:00:37.373Z"
   },
   {
    "duration": 13,
    "start_time": "2024-06-18T11:00:37.380Z"
   },
   {
    "duration": 9,
    "start_time": "2024-06-18T11:00:37.394Z"
   },
   {
    "duration": 37,
    "start_time": "2024-06-18T11:00:37.404Z"
   },
   {
    "duration": 3,
    "start_time": "2024-06-18T11:00:37.442Z"
   },
   {
    "duration": 17,
    "start_time": "2024-06-18T11:00:37.446Z"
   },
   {
    "duration": 42,
    "start_time": "2024-06-18T11:00:37.464Z"
   },
   {
    "duration": 17,
    "start_time": "2024-06-18T11:00:37.507Z"
   },
   {
    "duration": 12,
    "start_time": "2024-06-18T11:00:37.525Z"
   },
   {
    "duration": 11,
    "start_time": "2024-06-18T11:00:37.539Z"
   },
   {
    "duration": 16,
    "start_time": "2024-06-18T11:00:37.552Z"
   },
   {
    "duration": 12,
    "start_time": "2024-06-18T11:00:37.569Z"
   },
   {
    "duration": 28,
    "start_time": "2024-06-18T11:00:37.582Z"
   },
   {
    "duration": 3,
    "start_time": "2024-06-18T11:00:37.611Z"
   },
   {
    "duration": 21,
    "start_time": "2024-06-18T11:00:37.616Z"
   },
   {
    "duration": 26,
    "start_time": "2024-06-18T11:00:37.642Z"
   },
   {
    "duration": 12,
    "start_time": "2024-06-18T11:00:37.670Z"
   },
   {
    "duration": 16,
    "start_time": "2024-06-18T11:00:37.683Z"
   },
   {
    "duration": 16,
    "start_time": "2024-06-18T11:00:37.700Z"
   },
   {
    "duration": 11,
    "start_time": "2024-06-18T11:02:20.322Z"
   },
   {
    "duration": 248,
    "start_time": "2024-06-18T11:11:43.630Z"
   },
   {
    "duration": 2,
    "start_time": "2024-06-18T11:19:13.228Z"
   },
   {
    "duration": 1117,
    "start_time": "2024-06-18T11:19:13.232Z"
   },
   {
    "duration": 8,
    "start_time": "2024-06-18T11:19:14.350Z"
   },
   {
    "duration": 8,
    "start_time": "2024-06-18T11:19:14.359Z"
   },
   {
    "duration": 22,
    "start_time": "2024-06-18T11:19:14.368Z"
   },
   {
    "duration": 6,
    "start_time": "2024-06-18T11:19:14.392Z"
   },
   {
    "duration": 10,
    "start_time": "2024-06-18T11:19:14.399Z"
   },
   {
    "duration": 4,
    "start_time": "2024-06-18T11:19:14.410Z"
   },
   {
    "duration": 11,
    "start_time": "2024-06-18T11:19:14.417Z"
   },
   {
    "duration": 1127,
    "start_time": "2024-06-18T11:19:14.430Z"
   },
   {
    "duration": 9,
    "start_time": "2024-06-18T11:19:15.559Z"
   },
   {
    "duration": 7,
    "start_time": "2024-06-18T11:19:15.569Z"
   },
   {
    "duration": 11,
    "start_time": "2024-06-18T11:19:15.577Z"
   },
   {
    "duration": 1131,
    "start_time": "2024-06-18T11:19:15.589Z"
   },
   {
    "duration": 8,
    "start_time": "2024-06-18T11:19:16.722Z"
   },
   {
    "duration": 15,
    "start_time": "2024-06-18T11:19:16.731Z"
   },
   {
    "duration": 10,
    "start_time": "2024-06-18T11:19:16.748Z"
   },
   {
    "duration": 5,
    "start_time": "2024-06-18T11:19:16.759Z"
   },
   {
    "duration": 6,
    "start_time": "2024-06-18T11:19:16.766Z"
   },
   {
    "duration": 19,
    "start_time": "2024-06-18T11:19:16.773Z"
   },
   {
    "duration": 4,
    "start_time": "2024-06-18T11:19:16.793Z"
   },
   {
    "duration": 3,
    "start_time": "2024-06-18T11:19:16.799Z"
   },
   {
    "duration": 7,
    "start_time": "2024-06-18T11:19:16.803Z"
   },
   {
    "duration": 7,
    "start_time": "2024-06-18T11:19:16.813Z"
   },
   {
    "duration": 18,
    "start_time": "2024-06-18T11:19:16.822Z"
   },
   {
    "duration": 23,
    "start_time": "2024-06-18T11:19:16.841Z"
   },
   {
    "duration": 7,
    "start_time": "2024-06-18T11:19:16.865Z"
   },
   {
    "duration": 28,
    "start_time": "2024-06-18T11:19:16.873Z"
   },
   {
    "duration": 22,
    "start_time": "2024-06-18T11:19:16.902Z"
   },
   {
    "duration": 17,
    "start_time": "2024-06-18T11:19:16.925Z"
   },
   {
    "duration": 11,
    "start_time": "2024-06-18T11:19:16.943Z"
   },
   {
    "duration": 16,
    "start_time": "2024-06-18T11:19:16.955Z"
   },
   {
    "duration": 32,
    "start_time": "2024-06-18T11:19:16.972Z"
   },
   {
    "duration": 160,
    "start_time": "2024-06-18T11:19:17.006Z"
   },
   {
    "duration": 112,
    "start_time": "2024-06-18T11:19:17.171Z"
   },
   {
    "duration": 12,
    "start_time": "2024-06-18T11:19:17.284Z"
   },
   {
    "duration": 7,
    "start_time": "2024-06-18T11:19:17.297Z"
   },
   {
    "duration": 9,
    "start_time": "2024-06-18T11:19:17.306Z"
   },
   {
    "duration": 181,
    "start_time": "2024-06-18T11:19:17.317Z"
   },
   {
    "duration": 173,
    "start_time": "2024-06-18T11:19:17.500Z"
   },
   {
    "duration": 10,
    "start_time": "2024-06-18T11:19:17.674Z"
   },
   {
    "duration": 330,
    "start_time": "2024-06-18T11:19:17.685Z"
   },
   {
    "duration": 9,
    "start_time": "2024-06-18T11:19:18.017Z"
   },
   {
    "duration": 24,
    "start_time": "2024-06-18T11:19:18.027Z"
   },
   {
    "duration": 13,
    "start_time": "2024-06-18T11:19:18.052Z"
   },
   {
    "duration": 167,
    "start_time": "2024-06-18T11:19:18.067Z"
   },
   {
    "duration": 11,
    "start_time": "2024-06-18T11:19:18.236Z"
   },
   {
    "duration": 277,
    "start_time": "2024-06-18T11:19:18.248Z"
   },
   {
    "duration": 10,
    "start_time": "2024-06-18T11:19:18.527Z"
   },
   {
    "duration": 135,
    "start_time": "2024-06-18T11:19:18.538Z"
   },
   {
    "duration": 3,
    "start_time": "2024-06-18T11:19:18.674Z"
   },
   {
    "duration": 9,
    "start_time": "2024-06-18T11:19:18.679Z"
   },
   {
    "duration": 119,
    "start_time": "2024-06-18T11:19:18.689Z"
   },
   {
    "duration": 121,
    "start_time": "2024-06-18T11:19:18.809Z"
   },
   {
    "duration": 4,
    "start_time": "2024-06-18T11:19:18.931Z"
   },
   {
    "duration": 8,
    "start_time": "2024-06-18T11:19:18.936Z"
   },
   {
    "duration": 113,
    "start_time": "2024-06-18T11:19:18.945Z"
   },
   {
    "duration": 12,
    "start_time": "2024-06-18T11:19:19.060Z"
   },
   {
    "duration": 53,
    "start_time": "2024-06-18T11:19:19.074Z"
   },
   {
    "duration": 22,
    "start_time": "2024-06-18T11:19:19.129Z"
   },
   {
    "duration": 84,
    "start_time": "2024-06-18T11:19:19.152Z"
   },
   {
    "duration": 22,
    "start_time": "2024-06-18T11:19:19.237Z"
   },
   {
    "duration": 70,
    "start_time": "2024-06-18T11:19:19.270Z"
   },
   {
    "duration": 43,
    "start_time": "2024-06-18T11:19:19.342Z"
   },
   {
    "duration": 65,
    "start_time": "2024-06-18T11:19:19.387Z"
   },
   {
    "duration": 67,
    "start_time": "2024-06-18T11:19:19.454Z"
   },
   {
    "duration": 5,
    "start_time": "2024-06-18T11:19:19.523Z"
   },
   {
    "duration": 6,
    "start_time": "2024-06-18T11:19:19.529Z"
   },
   {
    "duration": 2,
    "start_time": "2024-06-18T11:19:19.539Z"
   },
   {
    "duration": 41,
    "start_time": "2024-06-18T11:19:19.543Z"
   },
   {
    "duration": 3,
    "start_time": "2024-06-18T11:19:19.585Z"
   },
   {
    "duration": 21,
    "start_time": "2024-06-18T11:19:19.589Z"
   },
   {
    "duration": 5,
    "start_time": "2024-06-18T11:19:19.611Z"
   },
   {
    "duration": 6,
    "start_time": "2024-06-18T11:19:49.350Z"
   },
   {
    "duration": 5,
    "start_time": "2024-06-18T11:19:57.534Z"
   },
   {
    "duration": 1013,
    "start_time": "2024-06-18T11:20:15.958Z"
   },
   {
    "duration": 1153,
    "start_time": "2024-06-18T11:20:16.973Z"
   },
   {
    "duration": 10,
    "start_time": "2024-06-18T11:20:18.128Z"
   },
   {
    "duration": 14,
    "start_time": "2024-06-18T11:20:18.140Z"
   },
   {
    "duration": 31,
    "start_time": "2024-06-18T11:20:18.156Z"
   },
   {
    "duration": 9,
    "start_time": "2024-06-18T11:20:18.189Z"
   },
   {
    "duration": 48,
    "start_time": "2024-06-18T11:20:18.200Z"
   },
   {
    "duration": 4,
    "start_time": "2024-06-18T11:20:18.249Z"
   },
   {
    "duration": 10,
    "start_time": "2024-06-18T11:20:18.254Z"
   },
   {
    "duration": 1124,
    "start_time": "2024-06-18T11:20:18.266Z"
   },
   {
    "duration": 10,
    "start_time": "2024-06-18T11:20:19.392Z"
   },
   {
    "duration": 12,
    "start_time": "2024-06-18T11:20:19.403Z"
   },
   {
    "duration": 15,
    "start_time": "2024-06-18T11:20:19.416Z"
   },
   {
    "duration": 1110,
    "start_time": "2024-06-18T11:20:19.433Z"
   },
   {
    "duration": 8,
    "start_time": "2024-06-18T11:20:20.545Z"
   },
   {
    "duration": 17,
    "start_time": "2024-06-18T11:20:20.554Z"
   },
   {
    "duration": 29,
    "start_time": "2024-06-18T11:20:20.572Z"
   },
   {
    "duration": 19,
    "start_time": "2024-06-18T11:20:20.602Z"
   },
   {
    "duration": 21,
    "start_time": "2024-06-18T11:20:20.622Z"
   },
   {
    "duration": 25,
    "start_time": "2024-06-18T11:20:20.644Z"
   },
   {
    "duration": 15,
    "start_time": "2024-06-18T11:20:20.671Z"
   },
   {
    "duration": 30,
    "start_time": "2024-06-18T11:20:20.687Z"
   },
   {
    "duration": 30,
    "start_time": "2024-06-18T11:20:20.718Z"
   },
   {
    "duration": 42,
    "start_time": "2024-06-18T11:20:20.749Z"
   },
   {
    "duration": 43,
    "start_time": "2024-06-18T11:20:20.792Z"
   },
   {
    "duration": 39,
    "start_time": "2024-06-18T11:20:20.836Z"
   },
   {
    "duration": 22,
    "start_time": "2024-06-18T11:20:20.876Z"
   },
   {
    "duration": 31,
    "start_time": "2024-06-18T11:20:20.902Z"
   },
   {
    "duration": 22,
    "start_time": "2024-06-18T11:20:20.934Z"
   },
   {
    "duration": 44,
    "start_time": "2024-06-18T11:20:20.957Z"
   },
   {
    "duration": 59,
    "start_time": "2024-06-18T11:20:21.003Z"
   },
   {
    "duration": 28,
    "start_time": "2024-06-18T11:20:21.063Z"
   },
   {
    "duration": 22,
    "start_time": "2024-06-18T11:20:21.092Z"
   },
   {
    "duration": 174,
    "start_time": "2024-06-18T11:20:21.115Z"
   },
   {
    "duration": 109,
    "start_time": "2024-06-18T11:20:21.290Z"
   },
   {
    "duration": 12,
    "start_time": "2024-06-18T11:20:21.400Z"
   },
   {
    "duration": 38,
    "start_time": "2024-06-18T11:20:21.414Z"
   },
   {
    "duration": 30,
    "start_time": "2024-06-18T11:20:21.454Z"
   },
   {
    "duration": 263,
    "start_time": "2024-06-18T11:20:21.486Z"
   },
   {
    "duration": 174,
    "start_time": "2024-06-18T11:20:21.750Z"
   },
   {
    "duration": 10,
    "start_time": "2024-06-18T11:20:21.926Z"
   },
   {
    "duration": 340,
    "start_time": "2024-06-18T11:20:21.937Z"
   },
   {
    "duration": 9,
    "start_time": "2024-06-18T11:20:22.279Z"
   },
   {
    "duration": 12,
    "start_time": "2024-06-18T11:20:22.289Z"
   },
   {
    "duration": 23,
    "start_time": "2024-06-18T11:20:22.302Z"
   },
   {
    "duration": 161,
    "start_time": "2024-06-18T11:20:22.326Z"
   },
   {
    "duration": 11,
    "start_time": "2024-06-18T11:20:22.488Z"
   },
   {
    "duration": 248,
    "start_time": "2024-06-18T11:20:22.500Z"
   },
   {
    "duration": 10,
    "start_time": "2024-06-18T11:20:22.749Z"
   },
   {
    "duration": 133,
    "start_time": "2024-06-18T11:20:22.760Z"
   },
   {
    "duration": 4,
    "start_time": "2024-06-18T11:20:22.894Z"
   },
   {
    "duration": 19,
    "start_time": "2024-06-18T11:20:22.899Z"
   },
   {
    "duration": 116,
    "start_time": "2024-06-18T11:20:22.919Z"
   },
   {
    "duration": 192,
    "start_time": "2024-06-18T11:20:23.036Z"
   },
   {
    "duration": 3,
    "start_time": "2024-06-18T11:20:23.229Z"
   },
   {
    "duration": 18,
    "start_time": "2024-06-18T11:20:23.234Z"
   },
   {
    "duration": 41,
    "start_time": "2024-06-18T11:20:23.253Z"
   },
   {
    "duration": 10,
    "start_time": "2024-06-18T11:20:23.296Z"
   },
   {
    "duration": 41,
    "start_time": "2024-06-18T11:20:23.307Z"
   },
   {
    "duration": 34,
    "start_time": "2024-06-18T11:20:23.349Z"
   },
   {
    "duration": 69,
    "start_time": "2024-06-18T11:20:23.384Z"
   },
   {
    "duration": 16,
    "start_time": "2024-06-18T11:20:23.455Z"
   },
   {
    "duration": 45,
    "start_time": "2024-06-18T11:20:23.472Z"
   },
   {
    "duration": 42,
    "start_time": "2024-06-18T11:20:23.519Z"
   },
   {
    "duration": 56,
    "start_time": "2024-06-18T11:20:23.562Z"
   },
   {
    "duration": 71,
    "start_time": "2024-06-18T11:20:23.619Z"
   },
   {
    "duration": 5,
    "start_time": "2024-06-18T11:20:23.691Z"
   },
   {
    "duration": 9,
    "start_time": "2024-06-18T11:20:23.697Z"
   },
   {
    "duration": 9,
    "start_time": "2024-06-18T11:20:23.707Z"
   },
   {
    "duration": 27,
    "start_time": "2024-06-18T11:20:23.717Z"
   },
   {
    "duration": 7,
    "start_time": "2024-06-18T11:20:23.745Z"
   },
   {
    "duration": 7,
    "start_time": "2024-06-18T11:20:23.753Z"
   },
   {
    "duration": 30,
    "start_time": "2024-06-18T11:20:23.761Z"
   },
   {
    "duration": 9,
    "start_time": "2024-06-18T11:20:23.792Z"
   },
   {
    "duration": 7,
    "start_time": "2024-06-18T11:20:23.803Z"
   },
   {
    "duration": 5,
    "start_time": "2024-06-18T11:20:23.812Z"
   },
   {
    "duration": 9,
    "start_time": "2024-06-18T11:20:23.818Z"
   },
   {
    "duration": 6,
    "start_time": "2024-06-18T11:20:23.828Z"
   },
   {
    "duration": 39,
    "start_time": "2024-06-18T11:20:23.836Z"
   },
   {
    "duration": 3,
    "start_time": "2024-06-18T11:20:23.877Z"
   },
   {
    "duration": 27,
    "start_time": "2024-06-18T11:20:23.881Z"
   },
   {
    "duration": 6,
    "start_time": "2024-06-18T11:20:23.913Z"
   },
   {
    "duration": 9,
    "start_time": "2024-06-18T11:20:23.920Z"
   },
   {
    "duration": 5,
    "start_time": "2024-06-18T11:20:23.930Z"
   },
   {
    "duration": 5,
    "start_time": "2024-06-18T11:20:23.937Z"
   },
   {
    "duration": 1343,
    "start_time": "2024-06-18T15:15:21.236Z"
   },
   {
    "duration": 922,
    "start_time": "2024-06-18T15:15:22.581Z"
   },
   {
    "duration": 11,
    "start_time": "2024-06-18T15:15:23.505Z"
   },
   {
    "duration": 20,
    "start_time": "2024-06-18T15:15:23.518Z"
   },
   {
    "duration": 19,
    "start_time": "2024-06-18T15:15:23.541Z"
   },
   {
    "duration": 17,
    "start_time": "2024-06-18T15:15:23.561Z"
   },
   {
    "duration": 64,
    "start_time": "2024-06-18T15:15:23.580Z"
   },
   {
    "duration": 5,
    "start_time": "2024-06-18T15:15:23.646Z"
   },
   {
    "duration": 41,
    "start_time": "2024-06-18T15:15:23.653Z"
   },
   {
    "duration": 953,
    "start_time": "2024-06-18T15:15:23.696Z"
   },
   {
    "duration": 32,
    "start_time": "2024-06-18T15:15:24.651Z"
   },
   {
    "duration": 10,
    "start_time": "2024-06-18T15:15:24.685Z"
   },
   {
    "duration": 27,
    "start_time": "2024-06-18T15:15:24.697Z"
   },
   {
    "duration": 953,
    "start_time": "2024-06-18T15:15:24.729Z"
   },
   {
    "duration": 10,
    "start_time": "2024-06-18T15:15:25.684Z"
   },
   {
    "duration": 33,
    "start_time": "2024-06-18T15:15:25.696Z"
   },
   {
    "duration": 15,
    "start_time": "2024-06-18T15:15:25.731Z"
   },
   {
    "duration": 14,
    "start_time": "2024-06-18T15:15:25.749Z"
   },
   {
    "duration": 9,
    "start_time": "2024-06-18T15:15:25.765Z"
   },
   {
    "duration": 22,
    "start_time": "2024-06-18T15:15:25.776Z"
   },
   {
    "duration": 14,
    "start_time": "2024-06-18T15:15:25.800Z"
   },
   {
    "duration": 16,
    "start_time": "2024-06-18T15:15:25.816Z"
   },
   {
    "duration": 10,
    "start_time": "2024-06-18T15:15:25.834Z"
   },
   {
    "duration": 39,
    "start_time": "2024-06-18T15:15:25.846Z"
   },
   {
    "duration": 42,
    "start_time": "2024-06-18T15:15:25.887Z"
   },
   {
    "duration": 57,
    "start_time": "2024-06-18T15:15:25.931Z"
   },
   {
    "duration": 20,
    "start_time": "2024-06-18T15:15:25.989Z"
   },
   {
    "duration": 22,
    "start_time": "2024-06-18T15:15:26.010Z"
   },
   {
    "duration": 27,
    "start_time": "2024-06-18T15:15:26.033Z"
   },
   {
    "duration": 30,
    "start_time": "2024-06-18T15:15:26.062Z"
   },
   {
    "duration": 23,
    "start_time": "2024-06-18T15:15:26.094Z"
   },
   {
    "duration": 38,
    "start_time": "2024-06-18T15:15:26.118Z"
   },
   {
    "duration": 40,
    "start_time": "2024-06-18T15:15:26.159Z"
   },
   {
    "duration": 199,
    "start_time": "2024-06-18T15:15:26.201Z"
   },
   {
    "duration": 144,
    "start_time": "2024-06-18T15:15:26.401Z"
   },
   {
    "duration": 18,
    "start_time": "2024-06-18T15:15:26.546Z"
   },
   {
    "duration": 31,
    "start_time": "2024-06-18T15:15:26.565Z"
   },
   {
    "duration": 54,
    "start_time": "2024-06-18T15:15:26.598Z"
   },
   {
    "duration": 324,
    "start_time": "2024-06-18T15:15:26.654Z"
   },
   {
    "duration": 217,
    "start_time": "2024-06-18T15:15:26.980Z"
   },
   {
    "duration": 12,
    "start_time": "2024-06-18T15:15:27.203Z"
   },
   {
    "duration": 377,
    "start_time": "2024-06-18T15:15:27.217Z"
   },
   {
    "duration": 11,
    "start_time": "2024-06-18T15:15:27.596Z"
   },
   {
    "duration": 20,
    "start_time": "2024-06-18T15:15:27.608Z"
   },
   {
    "duration": 14,
    "start_time": "2024-06-18T15:15:27.630Z"
   },
   {
    "duration": 226,
    "start_time": "2024-06-18T15:15:27.645Z"
   },
   {
    "duration": 19,
    "start_time": "2024-06-18T15:15:27.873Z"
   },
   {
    "duration": 343,
    "start_time": "2024-06-18T15:15:27.894Z"
   },
   {
    "duration": 11,
    "start_time": "2024-06-18T15:15:28.239Z"
   },
   {
    "duration": 186,
    "start_time": "2024-06-18T15:15:28.252Z"
   },
   {
    "duration": 6,
    "start_time": "2024-06-18T15:15:28.440Z"
   },
   {
    "duration": 12,
    "start_time": "2024-06-18T15:15:28.448Z"
   },
   {
    "duration": 165,
    "start_time": "2024-06-18T15:15:28.462Z"
   },
   {
    "duration": 231,
    "start_time": "2024-06-18T15:15:28.629Z"
   },
   {
    "duration": 5,
    "start_time": "2024-06-18T15:15:28.861Z"
   },
   {
    "duration": 39,
    "start_time": "2024-06-18T15:15:28.867Z"
   },
   {
    "duration": 50,
    "start_time": "2024-06-18T15:15:28.907Z"
   },
   {
    "duration": 10,
    "start_time": "2024-06-18T15:15:28.959Z"
   },
   {
    "duration": 62,
    "start_time": "2024-06-18T15:15:28.970Z"
   },
   {
    "duration": 24,
    "start_time": "2024-06-18T15:15:29.034Z"
   },
   {
    "duration": 65,
    "start_time": "2024-06-18T15:15:29.060Z"
   },
   {
    "duration": 20,
    "start_time": "2024-06-18T15:15:29.127Z"
   },
   {
    "duration": 75,
    "start_time": "2024-06-18T15:15:29.149Z"
   },
   {
    "duration": 28,
    "start_time": "2024-06-18T15:15:29.225Z"
   },
   {
    "duration": 82,
    "start_time": "2024-06-18T15:15:29.255Z"
   },
   {
    "duration": 92,
    "start_time": "2024-06-18T15:15:29.339Z"
   },
   {
    "duration": 7,
    "start_time": "2024-06-18T15:15:29.432Z"
   },
   {
    "duration": 8,
    "start_time": "2024-06-18T15:15:29.441Z"
   },
   {
    "duration": 28,
    "start_time": "2024-06-18T15:15:29.450Z"
   },
   {
    "duration": 38,
    "start_time": "2024-06-18T15:15:29.479Z"
   },
   {
    "duration": 4,
    "start_time": "2024-06-18T15:15:29.519Z"
   },
   {
    "duration": 10,
    "start_time": "2024-06-18T15:15:29.524Z"
   },
   {
    "duration": 18,
    "start_time": "2024-06-18T15:15:29.536Z"
   },
   {
    "duration": 24,
    "start_time": "2024-06-18T15:15:29.556Z"
   },
   {
    "duration": 11,
    "start_time": "2024-06-18T15:15:29.582Z"
   },
   {
    "duration": 10,
    "start_time": "2024-06-18T15:15:29.595Z"
   },
   {
    "duration": 18,
    "start_time": "2024-06-18T15:15:29.606Z"
   },
   {
    "duration": 11,
    "start_time": "2024-06-18T15:15:29.626Z"
   },
   {
    "duration": 57,
    "start_time": "2024-06-18T15:15:29.639Z"
   },
   {
    "duration": 4,
    "start_time": "2024-06-18T15:15:29.699Z"
   },
   {
    "duration": 26,
    "start_time": "2024-06-18T15:15:29.706Z"
   },
   {
    "duration": 20,
    "start_time": "2024-06-18T15:15:29.734Z"
   },
   {
    "duration": 20,
    "start_time": "2024-06-18T15:15:29.756Z"
   },
   {
    "duration": 57,
    "start_time": "2024-06-18T15:15:29.778Z"
   },
   {
    "duration": 133,
    "start_time": "2024-06-18T15:15:29.837Z"
   },
   {
    "duration": 216,
    "start_time": "2024-06-18T15:39:25.175Z"
   },
   {
    "duration": 256,
    "start_time": "2024-06-18T15:39:48.906Z"
   },
   {
    "duration": 214,
    "start_time": "2024-06-18T15:40:11.696Z"
   },
   {
    "duration": 319,
    "start_time": "2024-06-18T15:43:10.534Z"
   },
   {
    "duration": 364,
    "start_time": "2024-06-18T15:43:44.266Z"
   },
   {
    "duration": 376,
    "start_time": "2024-06-18T15:43:56.558Z"
   },
   {
    "duration": 341,
    "start_time": "2024-06-18T15:44:11.137Z"
   },
   {
    "duration": 430,
    "start_time": "2024-06-18T15:45:07.756Z"
   },
   {
    "duration": 345,
    "start_time": "2024-06-18T15:45:16.614Z"
   },
   {
    "duration": 322,
    "start_time": "2024-06-18T15:45:36.097Z"
   },
   {
    "duration": 443,
    "start_time": "2024-06-18T15:46:03.734Z"
   },
   {
    "duration": 330,
    "start_time": "2024-06-18T15:46:53.590Z"
   },
   {
    "duration": 341,
    "start_time": "2024-06-18T15:47:15.579Z"
   },
   {
    "duration": 292,
    "start_time": "2024-06-18T15:47:24.231Z"
   },
   {
    "duration": 214,
    "start_time": "2024-06-18T15:47:36.946Z"
   },
   {
    "duration": 286,
    "start_time": "2024-06-18T15:47:43.037Z"
   },
   {
    "duration": 349,
    "start_time": "2024-06-18T15:49:46.630Z"
   },
   {
    "duration": 12,
    "start_time": "2024-06-18T15:52:39.716Z"
   },
   {
    "duration": 179,
    "start_time": "2024-06-18T15:56:07.448Z"
   },
   {
    "duration": 152,
    "start_time": "2024-06-18T15:56:18.978Z"
   },
   {
    "duration": 136,
    "start_time": "2024-06-18T15:56:31.601Z"
   },
   {
    "duration": 158,
    "start_time": "2024-06-18T15:57:55.717Z"
   },
   {
    "duration": 239,
    "start_time": "2024-06-18T15:58:28.102Z"
   },
   {
    "duration": 1206,
    "start_time": "2024-06-18T15:58:50.762Z"
   },
   {
    "duration": 888,
    "start_time": "2024-06-18T15:58:51.971Z"
   },
   {
    "duration": 10,
    "start_time": "2024-06-18T15:58:52.861Z"
   },
   {
    "duration": 26,
    "start_time": "2024-06-18T15:58:52.874Z"
   },
   {
    "duration": 21,
    "start_time": "2024-06-18T15:58:52.903Z"
   },
   {
    "duration": 10,
    "start_time": "2024-06-18T15:58:52.926Z"
   },
   {
    "duration": 58,
    "start_time": "2024-06-18T15:58:52.939Z"
   },
   {
    "duration": 5,
    "start_time": "2024-06-18T15:58:52.999Z"
   },
   {
    "duration": 27,
    "start_time": "2024-06-18T15:58:53.005Z"
   },
   {
    "duration": 872,
    "start_time": "2024-06-18T15:58:53.034Z"
   },
   {
    "duration": 15,
    "start_time": "2024-06-18T15:58:53.909Z"
   },
   {
    "duration": 14,
    "start_time": "2024-06-18T15:58:53.927Z"
   },
   {
    "duration": 27,
    "start_time": "2024-06-18T15:58:53.943Z"
   },
   {
    "duration": 874,
    "start_time": "2024-06-18T15:58:53.974Z"
   },
   {
    "duration": 17,
    "start_time": "2024-06-18T15:58:54.850Z"
   },
   {
    "duration": 12,
    "start_time": "2024-06-18T15:58:54.869Z"
   },
   {
    "duration": 37,
    "start_time": "2024-06-18T15:58:54.883Z"
   },
   {
    "duration": 25,
    "start_time": "2024-06-18T15:58:54.922Z"
   },
   {
    "duration": 32,
    "start_time": "2024-06-18T15:58:54.948Z"
   },
   {
    "duration": 23,
    "start_time": "2024-06-18T15:58:54.982Z"
   },
   {
    "duration": 21,
    "start_time": "2024-06-18T15:58:55.007Z"
   },
   {
    "duration": 6,
    "start_time": "2024-06-18T15:58:55.030Z"
   },
   {
    "duration": 5,
    "start_time": "2024-06-18T15:58:55.038Z"
   },
   {
    "duration": 12,
    "start_time": "2024-06-18T15:58:55.045Z"
   },
   {
    "duration": 10,
    "start_time": "2024-06-18T15:58:55.059Z"
   },
   {
    "duration": 28,
    "start_time": "2024-06-18T15:58:55.071Z"
   },
   {
    "duration": 5,
    "start_time": "2024-06-18T15:58:55.101Z"
   },
   {
    "duration": 5,
    "start_time": "2024-06-18T15:58:55.108Z"
   },
   {
    "duration": 33,
    "start_time": "2024-06-18T15:58:55.115Z"
   },
   {
    "duration": 5,
    "start_time": "2024-06-18T15:58:55.150Z"
   },
   {
    "duration": 6,
    "start_time": "2024-06-18T15:58:55.157Z"
   },
   {
    "duration": 40,
    "start_time": "2024-06-18T15:58:55.165Z"
   },
   {
    "duration": 20,
    "start_time": "2024-06-18T15:58:55.207Z"
   },
   {
    "duration": 194,
    "start_time": "2024-06-18T15:58:55.229Z"
   },
   {
    "duration": 167,
    "start_time": "2024-06-18T15:58:55.425Z"
   },
   {
    "duration": 22,
    "start_time": "2024-06-18T15:58:55.594Z"
   },
   {
    "duration": 11,
    "start_time": "2024-06-18T15:58:55.618Z"
   },
   {
    "duration": 10,
    "start_time": "2024-06-18T15:58:55.631Z"
   },
   {
    "duration": 346,
    "start_time": "2024-06-18T15:58:55.644Z"
   },
   {
    "duration": 246,
    "start_time": "2024-06-18T15:58:55.992Z"
   },
   {
    "duration": 18,
    "start_time": "2024-06-18T15:58:56.246Z"
   },
   {
    "duration": 359,
    "start_time": "2024-06-18T15:58:56.266Z"
   },
   {
    "duration": 11,
    "start_time": "2024-06-18T15:58:56.627Z"
   },
   {
    "duration": 14,
    "start_time": "2024-06-18T15:58:56.640Z"
   },
   {
    "duration": 11,
    "start_time": "2024-06-18T15:58:56.656Z"
   },
   {
    "duration": 362,
    "start_time": "2024-06-18T15:58:56.668Z"
   },
   {
    "duration": 14,
    "start_time": "2024-06-18T15:58:57.031Z"
   },
   {
    "duration": 332,
    "start_time": "2024-06-18T15:58:57.046Z"
   },
   {
    "duration": 16,
    "start_time": "2024-06-18T15:58:57.380Z"
   },
   {
    "duration": 174,
    "start_time": "2024-06-18T15:58:57.398Z"
   },
   {
    "duration": 5,
    "start_time": "2024-06-18T15:58:57.574Z"
   },
   {
    "duration": 22,
    "start_time": "2024-06-18T15:58:57.580Z"
   },
   {
    "duration": 172,
    "start_time": "2024-06-18T15:58:57.604Z"
   },
   {
    "duration": 239,
    "start_time": "2024-06-18T15:58:57.778Z"
   },
   {
    "duration": 5,
    "start_time": "2024-06-18T15:58:58.020Z"
   },
   {
    "duration": 10,
    "start_time": "2024-06-18T15:58:58.028Z"
   },
   {
    "duration": 75,
    "start_time": "2024-06-18T15:58:58.040Z"
   },
   {
    "duration": 9,
    "start_time": "2024-06-18T15:58:58.117Z"
   },
   {
    "duration": 70,
    "start_time": "2024-06-18T15:58:58.128Z"
   },
   {
    "duration": 17,
    "start_time": "2024-06-18T15:58:58.200Z"
   },
   {
    "duration": 54,
    "start_time": "2024-06-18T15:58:58.219Z"
   },
   {
    "duration": 34,
    "start_time": "2024-06-18T15:58:58.275Z"
   },
   {
    "duration": 62,
    "start_time": "2024-06-18T15:58:58.311Z"
   },
   {
    "duration": 38,
    "start_time": "2024-06-18T15:58:58.375Z"
   },
   {
    "duration": 83,
    "start_time": "2024-06-18T15:58:58.415Z"
   },
   {
    "duration": 73,
    "start_time": "2024-06-18T15:58:58.500Z"
   },
   {
    "duration": 8,
    "start_time": "2024-06-18T15:58:58.591Z"
   },
   {
    "duration": 7,
    "start_time": "2024-06-18T15:58:58.601Z"
   },
   {
    "duration": 6,
    "start_time": "2024-06-18T15:58:58.610Z"
   },
   {
    "duration": 37,
    "start_time": "2024-06-18T15:58:58.618Z"
   },
   {
    "duration": 5,
    "start_time": "2024-06-18T15:58:58.657Z"
   },
   {
    "duration": 32,
    "start_time": "2024-06-18T15:58:58.664Z"
   },
   {
    "duration": 6,
    "start_time": "2024-06-18T15:58:58.697Z"
   },
   {
    "duration": 6,
    "start_time": "2024-06-18T15:58:58.705Z"
   },
   {
    "duration": 10,
    "start_time": "2024-06-18T15:58:58.713Z"
   },
   {
    "duration": 6,
    "start_time": "2024-06-18T15:58:58.724Z"
   },
   {
    "duration": 8,
    "start_time": "2024-06-18T15:58:58.732Z"
   },
   {
    "duration": 8,
    "start_time": "2024-06-18T15:58:58.742Z"
   },
   {
    "duration": 64,
    "start_time": "2024-06-18T15:58:58.752Z"
   },
   {
    "duration": 5,
    "start_time": "2024-06-18T15:58:58.817Z"
   },
   {
    "duration": 14,
    "start_time": "2024-06-18T15:58:58.823Z"
   },
   {
    "duration": 22,
    "start_time": "2024-06-18T15:58:58.839Z"
   },
   {
    "duration": 8,
    "start_time": "2024-06-18T15:58:58.863Z"
   },
   {
    "duration": 7,
    "start_time": "2024-06-18T15:58:58.892Z"
   },
   {
    "duration": 3,
    "start_time": "2024-06-18T15:58:58.901Z"
   },
   {
    "duration": 147,
    "start_time": "2024-06-18T15:59:57.973Z"
   },
   {
    "duration": 10,
    "start_time": "2024-06-18T16:03:09.237Z"
   },
   {
    "duration": 56,
    "start_time": "2024-06-18T16:03:09.250Z"
   },
   {
    "duration": 11,
    "start_time": "2024-06-18T16:03:09.308Z"
   },
   {
    "duration": 53,
    "start_time": "2024-06-18T16:03:09.321Z"
   },
   {
    "duration": 28,
    "start_time": "2024-06-18T16:03:09.376Z"
   },
   {
    "duration": 56,
    "start_time": "2024-06-18T16:03:09.406Z"
   },
   {
    "duration": 44,
    "start_time": "2024-06-18T16:03:09.464Z"
   },
   {
    "duration": 56,
    "start_time": "2024-06-18T16:03:09.509Z"
   },
   {
    "duration": 49,
    "start_time": "2024-06-18T16:03:09.567Z"
   },
   {
    "duration": 97,
    "start_time": "2024-06-18T16:03:09.619Z"
   },
   {
    "duration": 111,
    "start_time": "2024-06-18T16:03:09.719Z"
   },
   {
    "duration": 9,
    "start_time": "2024-06-18T16:03:09.832Z"
   },
   {
    "duration": 64,
    "start_time": "2024-06-18T16:03:09.843Z"
   },
   {
    "duration": 18,
    "start_time": "2024-06-18T16:03:09.909Z"
   },
   {
    "duration": 38,
    "start_time": "2024-06-18T16:03:09.929Z"
   },
   {
    "duration": 8,
    "start_time": "2024-06-18T16:03:09.969Z"
   },
   {
    "duration": 10,
    "start_time": "2024-06-18T16:03:09.979Z"
   },
   {
    "duration": 7,
    "start_time": "2024-06-18T16:03:09.991Z"
   },
   {
    "duration": 8,
    "start_time": "2024-06-18T16:03:10.000Z"
   },
   {
    "duration": 11,
    "start_time": "2024-06-18T16:03:10.010Z"
   },
   {
    "duration": 7,
    "start_time": "2024-06-18T16:03:10.023Z"
   },
   {
    "duration": 41,
    "start_time": "2024-06-18T16:03:10.032Z"
   },
   {
    "duration": 14,
    "start_time": "2024-06-18T16:03:10.075Z"
   },
   {
    "duration": 48,
    "start_time": "2024-06-18T16:03:10.091Z"
   },
   {
    "duration": 18,
    "start_time": "2024-06-18T16:03:10.141Z"
   },
   {
    "duration": 14,
    "start_time": "2024-06-18T16:03:10.161Z"
   },
   {
    "duration": 14,
    "start_time": "2024-06-18T16:03:10.177Z"
   },
   {
    "duration": 43,
    "start_time": "2024-06-18T16:03:10.194Z"
   },
   {
    "duration": 7,
    "start_time": "2024-06-18T16:03:10.239Z"
   },
   {
    "duration": 11,
    "start_time": "2024-06-18T16:03:10.248Z"
   },
   {
    "duration": 1210,
    "start_time": "2024-06-18T16:03:46.201Z"
   },
   {
    "duration": 872,
    "start_time": "2024-06-18T16:03:47.413Z"
   },
   {
    "duration": 10,
    "start_time": "2024-06-18T16:03:48.287Z"
   },
   {
    "duration": 14,
    "start_time": "2024-06-18T16:03:48.299Z"
   },
   {
    "duration": 16,
    "start_time": "2024-06-18T16:03:48.315Z"
   },
   {
    "duration": 18,
    "start_time": "2024-06-18T16:03:48.332Z"
   },
   {
    "duration": 53,
    "start_time": "2024-06-18T16:03:48.352Z"
   },
   {
    "duration": 4,
    "start_time": "2024-06-18T16:03:48.407Z"
   },
   {
    "duration": 33,
    "start_time": "2024-06-18T16:03:48.413Z"
   },
   {
    "duration": 876,
    "start_time": "2024-06-18T16:03:48.448Z"
   },
   {
    "duration": 11,
    "start_time": "2024-06-18T16:03:49.327Z"
   },
   {
    "duration": 12,
    "start_time": "2024-06-18T16:03:49.340Z"
   },
   {
    "duration": 14,
    "start_time": "2024-06-18T16:03:49.353Z"
   },
   {
    "duration": 872,
    "start_time": "2024-06-18T16:03:49.370Z"
   },
   {
    "duration": 17,
    "start_time": "2024-06-18T16:03:50.245Z"
   },
   {
    "duration": 24,
    "start_time": "2024-06-18T16:03:50.264Z"
   },
   {
    "duration": 20,
    "start_time": "2024-06-18T16:03:50.290Z"
   },
   {
    "duration": 37,
    "start_time": "2024-06-18T16:03:50.311Z"
   },
   {
    "duration": 14,
    "start_time": "2024-06-18T16:03:50.350Z"
   },
   {
    "duration": 23,
    "start_time": "2024-06-18T16:03:50.365Z"
   },
   {
    "duration": 5,
    "start_time": "2024-06-18T16:03:50.389Z"
   },
   {
    "duration": 5,
    "start_time": "2024-06-18T16:03:50.396Z"
   },
   {
    "duration": 12,
    "start_time": "2024-06-18T16:03:50.403Z"
   },
   {
    "duration": 16,
    "start_time": "2024-06-18T16:03:50.416Z"
   },
   {
    "duration": 33,
    "start_time": "2024-06-18T16:03:50.433Z"
   },
   {
    "duration": 42,
    "start_time": "2024-06-18T16:03:50.468Z"
   },
   {
    "duration": 10,
    "start_time": "2024-06-18T16:03:50.511Z"
   },
   {
    "duration": 17,
    "start_time": "2024-06-18T16:03:50.523Z"
   },
   {
    "duration": 29,
    "start_time": "2024-06-18T16:03:50.541Z"
   },
   {
    "duration": 15,
    "start_time": "2024-06-18T16:03:50.571Z"
   },
   {
    "duration": 15,
    "start_time": "2024-06-18T16:03:50.588Z"
   },
   {
    "duration": 16,
    "start_time": "2024-06-18T16:03:50.605Z"
   },
   {
    "duration": 32,
    "start_time": "2024-06-18T16:03:50.622Z"
   },
   {
    "duration": 194,
    "start_time": "2024-06-18T16:03:50.656Z"
   },
   {
    "duration": 135,
    "start_time": "2024-06-18T16:03:50.851Z"
   },
   {
    "duration": 21,
    "start_time": "2024-06-18T16:03:50.996Z"
   },
   {
    "duration": 12,
    "start_time": "2024-06-18T16:03:51.019Z"
   },
   {
    "duration": 17,
    "start_time": "2024-06-18T16:03:51.032Z"
   },
   {
    "duration": 322,
    "start_time": "2024-06-18T16:03:51.051Z"
   },
   {
    "duration": 212,
    "start_time": "2024-06-18T16:03:51.375Z"
   },
   {
    "duration": 11,
    "start_time": "2024-06-18T16:03:51.593Z"
   },
   {
    "duration": 326,
    "start_time": "2024-06-18T16:03:51.605Z"
   },
   {
    "duration": 12,
    "start_time": "2024-06-18T16:03:51.933Z"
   },
   {
    "duration": 43,
    "start_time": "2024-06-18T16:03:51.946Z"
   },
   {
    "duration": 32,
    "start_time": "2024-06-18T16:03:51.991Z"
   },
   {
    "duration": 326,
    "start_time": "2024-06-18T16:03:52.025Z"
   },
   {
    "duration": 14,
    "start_time": "2024-06-18T16:03:52.353Z"
   },
   {
    "duration": 335,
    "start_time": "2024-06-18T16:03:52.368Z"
   },
   {
    "duration": 11,
    "start_time": "2024-06-18T16:03:52.705Z"
   },
   {
    "duration": 167,
    "start_time": "2024-06-18T16:03:52.718Z"
   },
   {
    "duration": 4,
    "start_time": "2024-06-18T16:03:52.891Z"
   },
   {
    "duration": 11,
    "start_time": "2024-06-18T16:03:52.896Z"
   },
   {
    "duration": 161,
    "start_time": "2024-06-18T16:03:52.909Z"
   },
   {
    "duration": 248,
    "start_time": "2024-06-18T16:03:53.071Z"
   },
   {
    "duration": 4,
    "start_time": "2024-06-18T16:03:53.321Z"
   },
   {
    "duration": 18,
    "start_time": "2024-06-18T16:03:53.327Z"
   },
   {
    "duration": 60,
    "start_time": "2024-06-18T16:03:53.347Z"
   },
   {
    "duration": 9,
    "start_time": "2024-06-18T16:03:53.409Z"
   },
   {
    "duration": 74,
    "start_time": "2024-06-18T16:03:53.420Z"
   },
   {
    "duration": 18,
    "start_time": "2024-06-18T16:03:53.496Z"
   },
   {
    "duration": 65,
    "start_time": "2024-06-18T16:03:53.516Z"
   },
   {
    "duration": 36,
    "start_time": "2024-06-18T16:03:53.583Z"
   },
   {
    "duration": 58,
    "start_time": "2024-06-18T16:03:53.621Z"
   },
   {
    "duration": 30,
    "start_time": "2024-06-18T16:03:53.681Z"
   },
   {
    "duration": 113,
    "start_time": "2024-06-18T16:03:53.712Z"
   },
   {
    "duration": 91,
    "start_time": "2024-06-18T16:03:53.827Z"
   },
   {
    "duration": 7,
    "start_time": "2024-06-18T16:03:53.919Z"
   },
   {
    "duration": 25,
    "start_time": "2024-06-18T16:03:53.928Z"
   },
   {
    "duration": 18,
    "start_time": "2024-06-18T16:03:53.955Z"
   },
   {
    "duration": 34,
    "start_time": "2024-06-18T16:03:53.974Z"
   },
   {
    "duration": 4,
    "start_time": "2024-06-18T16:03:54.010Z"
   },
   {
    "duration": 10,
    "start_time": "2024-06-18T16:03:54.016Z"
   },
   {
    "duration": 7,
    "start_time": "2024-06-18T16:03:54.028Z"
   },
   {
    "duration": 13,
    "start_time": "2024-06-18T16:03:54.036Z"
   },
   {
    "duration": 12,
    "start_time": "2024-06-18T16:03:54.050Z"
   },
   {
    "duration": 31,
    "start_time": "2024-06-18T16:03:54.065Z"
   },
   {
    "duration": 25,
    "start_time": "2024-06-18T16:03:54.098Z"
   },
   {
    "duration": 7,
    "start_time": "2024-06-18T16:03:54.125Z"
   },
   {
    "duration": 34,
    "start_time": "2024-06-18T16:03:54.134Z"
   },
   {
    "duration": 4,
    "start_time": "2024-06-18T16:03:54.170Z"
   },
   {
    "duration": 14,
    "start_time": "2024-06-18T16:03:54.192Z"
   },
   {
    "duration": 10,
    "start_time": "2024-06-18T16:03:54.208Z"
   },
   {
    "duration": 9,
    "start_time": "2024-06-18T16:03:54.219Z"
   },
   {
    "duration": 19,
    "start_time": "2024-06-18T16:03:54.230Z"
   },
   {
    "duration": 5,
    "start_time": "2024-06-18T16:03:54.250Z"
   },
   {
    "duration": 26,
    "start_time": "2024-06-18T16:10:30.592Z"
   },
   {
    "duration": 10,
    "start_time": "2024-06-18T16:13:05.138Z"
   },
   {
    "duration": 26,
    "start_time": "2024-06-18T16:23:10.688Z"
   },
   {
    "duration": 24,
    "start_time": "2024-06-18T16:23:54.222Z"
   },
   {
    "duration": 4,
    "start_time": "2024-06-18T16:24:08.008Z"
   },
   {
    "duration": 25,
    "start_time": "2024-06-18T16:28:17.337Z"
   },
   {
    "duration": 6,
    "start_time": "2024-06-18T16:30:47.951Z"
   },
   {
    "duration": 8,
    "start_time": "2024-06-18T16:44:08.844Z"
   },
   {
    "duration": 7,
    "start_time": "2024-06-18T16:44:50.371Z"
   },
   {
    "duration": 1145,
    "start_time": "2024-06-18T16:53:45.720Z"
   },
   {
    "duration": 850,
    "start_time": "2024-06-18T16:53:46.867Z"
   },
   {
    "duration": 11,
    "start_time": "2024-06-18T16:53:47.720Z"
   },
   {
    "duration": 16,
    "start_time": "2024-06-18T16:53:47.733Z"
   },
   {
    "duration": 16,
    "start_time": "2024-06-18T16:53:47.750Z"
   },
   {
    "duration": 7,
    "start_time": "2024-06-18T16:53:47.767Z"
   },
   {
    "duration": 44,
    "start_time": "2024-06-18T16:53:47.776Z"
   },
   {
    "duration": 4,
    "start_time": "2024-06-18T16:53:47.822Z"
   },
   {
    "duration": 12,
    "start_time": "2024-06-18T16:53:47.827Z"
   },
   {
    "duration": 860,
    "start_time": "2024-06-18T16:53:47.843Z"
   },
   {
    "duration": 19,
    "start_time": "2024-06-18T16:53:48.706Z"
   },
   {
    "duration": 10,
    "start_time": "2024-06-18T16:53:48.727Z"
   },
   {
    "duration": 12,
    "start_time": "2024-06-18T16:53:48.738Z"
   },
   {
    "duration": 828,
    "start_time": "2024-06-18T16:53:48.751Z"
   },
   {
    "duration": 8,
    "start_time": "2024-06-18T16:53:49.581Z"
   },
   {
    "duration": 8,
    "start_time": "2024-06-18T16:53:49.590Z"
   },
   {
    "duration": 22,
    "start_time": "2024-06-18T16:53:49.599Z"
   },
   {
    "duration": 11,
    "start_time": "2024-06-18T16:53:49.622Z"
   },
   {
    "duration": 6,
    "start_time": "2024-06-18T16:53:49.634Z"
   },
   {
    "duration": 6,
    "start_time": "2024-06-18T16:53:49.641Z"
   },
   {
    "duration": 4,
    "start_time": "2024-06-18T16:53:49.649Z"
   },
   {
    "duration": 9,
    "start_time": "2024-06-18T16:53:49.655Z"
   },
   {
    "duration": 5,
    "start_time": "2024-06-18T16:53:49.666Z"
   },
   {
    "duration": 10,
    "start_time": "2024-06-18T16:53:49.692Z"
   },
   {
    "duration": 20,
    "start_time": "2024-06-18T16:53:49.703Z"
   },
   {
    "duration": 52,
    "start_time": "2024-06-18T16:53:49.724Z"
   },
   {
    "duration": 11,
    "start_time": "2024-06-18T16:53:49.777Z"
   },
   {
    "duration": 12,
    "start_time": "2024-06-18T16:53:49.793Z"
   },
   {
    "duration": 18,
    "start_time": "2024-06-18T16:53:49.807Z"
   },
   {
    "duration": 5,
    "start_time": "2024-06-18T16:53:49.827Z"
   },
   {
    "duration": 13,
    "start_time": "2024-06-18T16:53:49.833Z"
   },
   {
    "duration": 17,
    "start_time": "2024-06-18T16:53:49.848Z"
   },
   {
    "duration": 20,
    "start_time": "2024-06-18T16:53:49.867Z"
   },
   {
    "duration": 179,
    "start_time": "2024-06-18T16:53:49.891Z"
   },
   {
    "duration": 140,
    "start_time": "2024-06-18T16:53:50.073Z"
   },
   {
    "duration": 16,
    "start_time": "2024-06-18T16:53:50.215Z"
   },
   {
    "duration": 82,
    "start_time": "2024-06-18T16:53:50.233Z"
   },
   {
    "duration": 17,
    "start_time": "2024-06-18T16:53:50.317Z"
   },
   {
    "duration": 306,
    "start_time": "2024-06-18T16:53:50.336Z"
   },
   {
    "duration": 214,
    "start_time": "2024-06-18T16:53:50.643Z"
   },
   {
    "duration": 11,
    "start_time": "2024-06-18T16:53:50.859Z"
   },
   {
    "duration": 365,
    "start_time": "2024-06-18T16:53:50.872Z"
   },
   {
    "duration": 11,
    "start_time": "2024-06-18T16:53:51.239Z"
   },
   {
    "duration": 10,
    "start_time": "2024-06-18T16:53:51.252Z"
   },
   {
    "duration": 11,
    "start_time": "2024-06-18T16:53:51.263Z"
   },
   {
    "duration": 323,
    "start_time": "2024-06-18T16:53:51.292Z"
   },
   {
    "duration": 13,
    "start_time": "2024-06-18T16:53:51.617Z"
   },
   {
    "duration": 341,
    "start_time": "2024-06-18T16:53:51.632Z"
   },
   {
    "duration": 18,
    "start_time": "2024-06-18T16:53:51.975Z"
   },
   {
    "duration": 182,
    "start_time": "2024-06-18T16:53:51.995Z"
   },
   {
    "duration": 4,
    "start_time": "2024-06-18T16:53:52.179Z"
   },
   {
    "duration": 8,
    "start_time": "2024-06-18T16:53:52.192Z"
   },
   {
    "duration": 156,
    "start_time": "2024-06-18T16:53:52.201Z"
   },
   {
    "duration": 236,
    "start_time": "2024-06-18T16:53:52.358Z"
   },
   {
    "duration": 4,
    "start_time": "2024-06-18T16:53:52.595Z"
   },
   {
    "duration": 13,
    "start_time": "2024-06-18T16:53:52.601Z"
   },
   {
    "duration": 65,
    "start_time": "2024-06-18T16:53:52.615Z"
   },
   {
    "duration": 11,
    "start_time": "2024-06-18T16:53:52.682Z"
   },
   {
    "duration": 57,
    "start_time": "2024-06-18T16:53:52.694Z"
   },
   {
    "duration": 18,
    "start_time": "2024-06-18T16:53:52.753Z"
   },
   {
    "duration": 73,
    "start_time": "2024-06-18T16:53:52.773Z"
   },
   {
    "duration": 19,
    "start_time": "2024-06-18T16:53:52.847Z"
   },
   {
    "duration": 62,
    "start_time": "2024-06-18T16:53:52.868Z"
   },
   {
    "duration": 28,
    "start_time": "2024-06-18T16:53:52.932Z"
   },
   {
    "duration": 82,
    "start_time": "2024-06-18T16:53:52.961Z"
   },
   {
    "duration": 87,
    "start_time": "2024-06-18T16:53:53.044Z"
   },
   {
    "duration": 8,
    "start_time": "2024-06-18T16:53:53.133Z"
   },
   {
    "duration": 10,
    "start_time": "2024-06-18T16:53:53.142Z"
   },
   {
    "duration": 2,
    "start_time": "2024-06-18T16:53:53.154Z"
   },
   {
    "duration": 53,
    "start_time": "2024-06-18T16:53:53.158Z"
   },
   {
    "duration": 4,
    "start_time": "2024-06-18T16:53:53.213Z"
   },
   {
    "duration": 11,
    "start_time": "2024-06-18T16:53:53.219Z"
   },
   {
    "duration": 6,
    "start_time": "2024-06-18T16:53:53.231Z"
   },
   {
    "duration": 6,
    "start_time": "2024-06-18T16:53:53.239Z"
   },
   {
    "duration": 9,
    "start_time": "2024-06-18T16:53:53.246Z"
   },
   {
    "duration": 8,
    "start_time": "2024-06-18T16:53:53.292Z"
   },
   {
    "duration": 14,
    "start_time": "2024-06-18T16:53:53.301Z"
   },
   {
    "duration": 8,
    "start_time": "2024-06-18T16:53:53.317Z"
   },
   {
    "duration": 25,
    "start_time": "2024-06-18T16:53:53.327Z"
   },
   {
    "duration": 4,
    "start_time": "2024-06-18T16:53:53.354Z"
   },
   {
    "duration": 39,
    "start_time": "2024-06-18T16:53:53.360Z"
   },
   {
    "duration": 11,
    "start_time": "2024-06-18T16:53:53.407Z"
   },
   {
    "duration": 9,
    "start_time": "2024-06-18T16:53:53.420Z"
   },
   {
    "duration": 4,
    "start_time": "2024-06-18T16:53:53.431Z"
   },
   {
    "duration": 1275,
    "start_time": "2024-06-18T17:00:53.011Z"
   },
   {
    "duration": 5,
    "start_time": "2024-06-18T17:01:29.693Z"
   },
   {
    "duration": 14,
    "start_time": "2024-06-18T17:11:03.658Z"
   },
   {
    "duration": 1217,
    "start_time": "2024-06-18T17:35:06.036Z"
   },
   {
    "duration": 16,
    "start_time": "2024-06-18T17:35:15.520Z"
   },
   {
    "duration": 16,
    "start_time": "2024-06-18T17:39:30.319Z"
   },
   {
    "duration": 13,
    "start_time": "2024-06-18T17:39:47.462Z"
   },
   {
    "duration": 16,
    "start_time": "2024-06-18T17:40:22.298Z"
   },
   {
    "duration": 25,
    "start_time": "2024-06-18T18:42:22.725Z"
   },
   {
    "duration": 16,
    "start_time": "2024-06-18T18:42:58.176Z"
   },
   {
    "duration": 17,
    "start_time": "2024-06-18T18:43:04.752Z"
   },
   {
    "duration": 254,
    "start_time": "2024-06-18T18:43:59.147Z"
   },
   {
    "duration": 20,
    "start_time": "2024-06-18T18:45:17.940Z"
   },
   {
    "duration": 1395,
    "start_time": "2024-06-18T18:45:27.021Z"
   },
   {
    "duration": 18,
    "start_time": "2024-06-18T18:46:14.926Z"
   },
   {
    "duration": 29,
    "start_time": "2024-06-18T18:46:38.837Z"
   },
   {
    "duration": 18,
    "start_time": "2024-06-18T18:46:45.502Z"
   },
   {
    "duration": 1254,
    "start_time": "2024-06-18T18:49:32.159Z"
   },
   {
    "duration": 207,
    "start_time": "2024-06-18T18:50:22.574Z"
   },
   {
    "duration": 220,
    "start_time": "2024-06-18T18:50:27.595Z"
   },
   {
    "duration": 209,
    "start_time": "2024-06-18T18:51:31.258Z"
   },
   {
    "duration": 215,
    "start_time": "2024-06-18T18:51:43.359Z"
   },
   {
    "duration": 248,
    "start_time": "2024-06-18T18:51:52.166Z"
   },
   {
    "duration": 152,
    "start_time": "2024-06-18T18:52:58.501Z"
   },
   {
    "duration": 244,
    "start_time": "2024-06-18T18:53:19.475Z"
   },
   {
    "duration": 200,
    "start_time": "2024-06-18T18:53:29.376Z"
   },
   {
    "duration": 223,
    "start_time": "2024-06-18T18:54:16.107Z"
   },
   {
    "duration": 18,
    "start_time": "2024-06-18T18:57:52.463Z"
   },
   {
    "duration": 202,
    "start_time": "2024-06-18T18:58:53.732Z"
   },
   {
    "duration": 233,
    "start_time": "2024-06-18T18:59:06.655Z"
   },
   {
    "duration": 226,
    "start_time": "2024-06-18T18:59:24.931Z"
   },
   {
    "duration": 414,
    "start_time": "2024-06-18T19:00:15.460Z"
   },
   {
    "duration": 925,
    "start_time": "2024-06-18T19:03:34.542Z"
   },
   {
    "duration": 1199,
    "start_time": "2024-06-18T19:16:33.173Z"
   },
   {
    "duration": 863,
    "start_time": "2024-06-18T19:16:34.374Z"
   },
   {
    "duration": 10,
    "start_time": "2024-06-18T19:16:35.239Z"
   },
   {
    "duration": 23,
    "start_time": "2024-06-18T19:16:35.251Z"
   },
   {
    "duration": 13,
    "start_time": "2024-06-18T19:16:35.276Z"
   },
   {
    "duration": 9,
    "start_time": "2024-06-18T19:16:35.291Z"
   },
   {
    "duration": 54,
    "start_time": "2024-06-18T19:16:35.302Z"
   },
   {
    "duration": 5,
    "start_time": "2024-06-18T19:16:35.358Z"
   },
   {
    "duration": 11,
    "start_time": "2024-06-18T19:16:35.365Z"
   },
   {
    "duration": 891,
    "start_time": "2024-06-18T19:16:35.391Z"
   },
   {
    "duration": 12,
    "start_time": "2024-06-18T19:16:36.284Z"
   },
   {
    "duration": 14,
    "start_time": "2024-06-18T19:16:36.298Z"
   },
   {
    "duration": 44,
    "start_time": "2024-06-18T19:16:36.313Z"
   },
   {
    "duration": 835,
    "start_time": "2024-06-18T19:16:36.361Z"
   },
   {
    "duration": 18,
    "start_time": "2024-06-18T19:16:37.198Z"
   },
   {
    "duration": 9,
    "start_time": "2024-06-18T19:16:37.217Z"
   },
   {
    "duration": 35,
    "start_time": "2024-06-18T19:16:37.228Z"
   },
   {
    "duration": 9,
    "start_time": "2024-06-18T19:16:37.265Z"
   },
   {
    "duration": 15,
    "start_time": "2024-06-18T19:16:37.276Z"
   },
   {
    "duration": 7,
    "start_time": "2024-06-18T19:16:37.292Z"
   },
   {
    "duration": 8,
    "start_time": "2024-06-18T19:16:37.300Z"
   },
   {
    "duration": 35,
    "start_time": "2024-06-18T19:16:37.310Z"
   },
   {
    "duration": 10,
    "start_time": "2024-06-18T19:16:37.347Z"
   },
   {
    "duration": 14,
    "start_time": "2024-06-18T19:16:37.359Z"
   },
   {
    "duration": 19,
    "start_time": "2024-06-18T19:16:37.375Z"
   },
   {
    "duration": 29,
    "start_time": "2024-06-18T19:16:37.396Z"
   },
   {
    "duration": 4,
    "start_time": "2024-06-18T19:16:37.427Z"
   },
   {
    "duration": 30,
    "start_time": "2024-06-18T19:16:37.433Z"
   },
   {
    "duration": 17,
    "start_time": "2024-06-18T19:16:37.464Z"
   },
   {
    "duration": 17,
    "start_time": "2024-06-18T19:16:37.483Z"
   },
   {
    "duration": 9,
    "start_time": "2024-06-18T19:16:37.501Z"
   },
   {
    "duration": 6,
    "start_time": "2024-06-18T19:16:37.511Z"
   },
   {
    "duration": 19,
    "start_time": "2024-06-18T19:16:37.518Z"
   },
   {
    "duration": 26,
    "start_time": "2024-06-18T19:16:37.539Z"
   },
   {
    "duration": 176,
    "start_time": "2024-06-18T19:16:37.567Z"
   },
   {
    "duration": 133,
    "start_time": "2024-06-18T19:16:37.745Z"
   },
   {
    "duration": 25,
    "start_time": "2024-06-18T19:16:37.880Z"
   },
   {
    "duration": 22,
    "start_time": "2024-06-18T19:16:37.906Z"
   },
   {
    "duration": 11,
    "start_time": "2024-06-18T19:16:37.930Z"
   },
   {
    "duration": 337,
    "start_time": "2024-06-18T19:16:37.942Z"
   },
   {
    "duration": 213,
    "start_time": "2024-06-18T19:16:38.283Z"
   },
   {
    "duration": 12,
    "start_time": "2024-06-18T19:16:38.497Z"
   },
   {
    "duration": 345,
    "start_time": "2024-06-18T19:16:38.510Z"
   },
   {
    "duration": 10,
    "start_time": "2024-06-18T19:16:38.857Z"
   },
   {
    "duration": 23,
    "start_time": "2024-06-18T19:16:38.868Z"
   },
   {
    "duration": 10,
    "start_time": "2024-06-18T19:16:38.893Z"
   },
   {
    "duration": 320,
    "start_time": "2024-06-18T19:16:38.904Z"
   },
   {
    "duration": 13,
    "start_time": "2024-06-18T19:16:39.226Z"
   },
   {
    "duration": 318,
    "start_time": "2024-06-18T19:16:39.241Z"
   },
   {
    "duration": 11,
    "start_time": "2024-06-18T19:16:39.560Z"
   },
   {
    "duration": 160,
    "start_time": "2024-06-18T19:16:39.573Z"
   },
   {
    "duration": 4,
    "start_time": "2024-06-18T19:16:39.735Z"
   },
   {
    "duration": 35,
    "start_time": "2024-06-18T19:16:39.741Z"
   },
   {
    "duration": 172,
    "start_time": "2024-06-18T19:16:39.778Z"
   },
   {
    "duration": 244,
    "start_time": "2024-06-18T19:16:39.952Z"
   },
   {
    "duration": 4,
    "start_time": "2024-06-18T19:16:40.198Z"
   },
   {
    "duration": 9,
    "start_time": "2024-06-18T19:16:40.204Z"
   },
   {
    "duration": 52,
    "start_time": "2024-06-18T19:16:40.214Z"
   },
   {
    "duration": 32,
    "start_time": "2024-06-18T19:16:40.269Z"
   },
   {
    "duration": 48,
    "start_time": "2024-06-18T19:16:40.303Z"
   },
   {
    "duration": 22,
    "start_time": "2024-06-18T19:16:40.353Z"
   },
   {
    "duration": 66,
    "start_time": "2024-06-18T19:16:40.377Z"
   },
   {
    "duration": 20,
    "start_time": "2024-06-18T19:16:40.444Z"
   },
   {
    "duration": 71,
    "start_time": "2024-06-18T19:16:40.465Z"
   },
   {
    "duration": 29,
    "start_time": "2024-06-18T19:16:40.538Z"
   },
   {
    "duration": 90,
    "start_time": "2024-06-18T19:16:40.568Z"
   },
   {
    "duration": 87,
    "start_time": "2024-06-18T19:16:40.660Z"
   },
   {
    "duration": 7,
    "start_time": "2024-06-18T19:16:40.749Z"
   },
   {
    "duration": 7,
    "start_time": "2024-06-18T19:16:40.757Z"
   },
   {
    "duration": 3,
    "start_time": "2024-06-18T19:16:40.765Z"
   },
   {
    "duration": 46,
    "start_time": "2024-06-18T19:16:40.769Z"
   },
   {
    "duration": 4,
    "start_time": "2024-06-18T19:16:40.816Z"
   },
   {
    "duration": 18,
    "start_time": "2024-06-18T19:16:40.822Z"
   },
   {
    "duration": 9,
    "start_time": "2024-06-18T19:16:40.842Z"
   },
   {
    "duration": 7,
    "start_time": "2024-06-18T19:16:40.852Z"
   },
   {
    "duration": 38,
    "start_time": "2024-06-18T19:16:40.861Z"
   },
   {
    "duration": 8,
    "start_time": "2024-06-18T19:16:40.901Z"
   },
   {
    "duration": 16,
    "start_time": "2024-06-18T19:16:40.911Z"
   },
   {
    "duration": 17,
    "start_time": "2024-06-18T19:16:40.929Z"
   },
   {
    "duration": 11,
    "start_time": "2024-06-18T19:16:40.948Z"
   },
   {
    "duration": 42,
    "start_time": "2024-06-18T19:16:40.961Z"
   },
   {
    "duration": 4,
    "start_time": "2024-06-18T19:16:41.005Z"
   },
   {
    "duration": 12,
    "start_time": "2024-06-18T19:16:41.011Z"
   },
   {
    "duration": 9,
    "start_time": "2024-06-18T19:16:41.024Z"
   },
   {
    "duration": 7,
    "start_time": "2024-06-18T19:16:41.035Z"
   },
   {
    "duration": 9,
    "start_time": "2024-06-18T19:16:41.043Z"
   }
  ],
  "kernelspec": {
   "display_name": "Python 3 (ipykernel)",
   "language": "python",
   "name": "python3"
  },
  "language_info": {
   "codemirror_mode": {
    "name": "ipython",
    "version": 3
   },
   "file_extension": ".py",
   "mimetype": "text/x-python",
   "name": "python",
   "nbconvert_exporter": "python",
   "pygments_lexer": "ipython3",
   "version": "3.11.9"
  },
  "toc": {
   "base_numbering": 1,
   "nav_menu": {},
   "number_sections": true,
   "sideBar": true,
   "skip_h1_title": true,
   "title_cell": "Table of Contents",
   "title_sidebar": "Contents",
   "toc_cell": false,
   "toc_position": {},
   "toc_section_display": true,
   "toc_window_display": false
  }
 },
 "nbformat": 4,
 "nbformat_minor": 4
}
